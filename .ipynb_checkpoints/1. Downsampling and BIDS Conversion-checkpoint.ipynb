{
 "cells": [
  {
   "cell_type": "markdown",
   "id": "6b01ebc9-d4a5-4287-93a4-077e4910a321",
   "metadata": {},
   "source": [
    "# Downsampling and BIDS conversion"
   ]
  },
  {
   "cell_type": "markdown",
   "id": "e4b3b35f-4a20-4fd6-9c28-5cc87fc93798",
   "metadata": {},
   "source": [
    "## Introduction\n",
    "\n",
    "This section outlines how to prepare the data for further analysis. The initial step involves downsampling the data to an appropriate sampling frequency. Following this, the data will be organised according to the MEG Brain Imaging Data Structure (BIDS) <i>(Niso et al., 2018)</i>. This ensures the presence of necessary metadata and a consistent file structure across datasets. During BIDS construction, trigger information will also be extracted and labelled.\n",
    "\n"
   ]
  },
  {
   "cell_type": "markdown",
   "id": "5a6d0098-7b19-4bc0-b0e7-011bbd5e8640",
   "metadata": {},
   "source": [
    "## Preparation\n",
    "\n",
    "Import the required modules:"
   ]
  },
  {
   "cell_type": "code",
   "execution_count": 1,
   "id": "7eab5988-f6df-4733-a1f4-bca13876e4fb",
   "metadata": {},
   "outputs": [],
   "source": [
    "import os\n",
    "import numpy as np\n",
    "import pandas as pd\n",
    "import mne\n",
    "from mne_bids import (\n",
    "    BIDSPath,\n",
    "    make_dataset_description,\n",
    "    print_dir_tree,\n",
    "    read_raw_bids,\n",
    "    write_meg_calibration,\n",
    "    write_meg_crosstalk,\n",
    "    write_raw_bids\n",
    ")"
   ]
  },
  {
   "cell_type": "markdown",
   "id": "7877dde4-476a-414f-be06-7f5616c859df",
   "metadata": {},
   "source": [
    "## File overview\n",
    "\n",
    "The chapter relies on the input files:\n",
    "~~~\n",
    "<ROOT>/Main_split-01_meg.fif\n",
    "<ROOT>/Main_split-02_meg.fif\n",
    "~~~ \n",
    "and generate the out files:\n",
    "~~~\n",
    "<ROOT>/Main_fs.fif\n",
    "<ROOT>/Main_event.fif\n",
    "\n",
    "<ROOT/Ox_Sub1_BIDS/participants.json\n",
    "<ROOT/Ox_Sub1_BIDS/participants.tsv\n",
    "<ROOT/Ox_Sub1_BIDS/sub-01/ses-01/sub-01_ses-01_scans.tsv\n",
    "<ROOT/Ox_Sub1_BIDS/dataset_description.json\n",
    "<ROOT/Ox_Sub1_BIDS/sub-01/ses-01/meg/sub-01_ses-01_coordsystem.json\n",
    "<ROOT/Ox_Sub1_BIDS/ses-01/meg/sub-01_ses-01_task-SpAtt_run-1_channels.tsv\n",
    "<ROOT/Ox_Sub1_BIDS/ses-01/meg/sub-01_ses-01_task-SpAtt_run-1_events.json\n",
    "<ROOT/Ox_Sub1_BIDS/meg/sub-01_ses-01_task-SpAtt_run-1_events.tsv\n",
    "<ROOT/Ox_Sub1_BIDS/meg/sub-01_ses-01_task-SpAtt_run-1_meg.fif\n",
    "<ROOT/Ox_Sub1_BIDS/sub-01_ses-01_task-SpAtt_run-1_meg.json\n",
    "~~~"
   ]
  },
  {
   "cell_type": "markdown",
   "id": "504f5ef0-ee46-451d-a4ef-62d4df4f8bfb",
   "metadata": {},
   "source": [
    "## Downloading the Data"
   ]
  },
  {
   "cell_type": "markdown",
   "id": "4b95c0e0-73d3-4826-96eb-fcd87cac26f6",
   "metadata": {},
   "source": [
    "Visit [OpenNeuro](https://openneuro.org/) and download the dataset."
   ]
  },
  {
   "cell_type": "markdown",
   "id": "e3a7eb42-8947-4d37-b0c8-b82f0e1baba4",
   "metadata": {},
   "source": [
    "## Loading the Data from Local Space"
   ]
  },
  {
   "cell_type": "markdown",
   "id": "eba9aaec-4dda-43bb-905d-cdf513c74d96",
   "metadata": {},
   "source": [
    "The QuSpin OPM data are stored in FIF format which is a binary file structure with embedded lables. As a first step we will load the data. Make sure the data path is set to where the data are downloaded. QuSpin systems save data across multiple split files based on the total size of the data.Here, both split files will be loaded into the workspace.However, we only need to specify the name of split-01, and MNE will automatically detect and load split-02 along with it\n",
    " We will also define the name of the resampled data with 'rs' added to the filename <code>(<a> *_rs.fif </a>)</code>"
   ]
  },
  {
   "cell_type": "code",
   "execution_count": 2,
   "id": "11d3713d-484b-4f48-b090-14b4c4e023da",
   "metadata": {},
   "outputs": [
    {
     "name": "stdout",
     "output_type": "stream",
     "text": [
      "Opening raw data file /Users/o.jensen@bham.ac.uk/Library/CloudStorage/Dropbox/FLUX/OPM-Oxf/fif/20250410_110557_meg.fif...\n",
      "    Range : 0 ... 2449499 =      0.000 ...  1632.999 secs\n",
      "Ready.\n",
      "Opening raw data file /Users/o.jensen@bham.ac.uk/Library/CloudStorage/Dropbox/FLUX/OPM-Oxf/fif/20250410_110557_meg-1.fif...\n",
      "    Range : 2449500 ... 3079615 =   1633.000 ...  2053.077 secs\n",
      "Ready.\n",
      "Reading 0 ... 3079615  =      0.000 ...  2053.077 secs...\n"
     ]
    }
   ],
   "source": [
    "data_path = '/Users/o.jensen@bham.ac.uk/Library/CloudStorage/Dropbox/FLUX/OPM-Oxf/fif'\n",
    "file_name = '20250410_110557_meg.fif'\n",
    "raw_fname = os.path.join(data_path, file_name)\n",
    "\n",
    "raw = mne.io.read_raw_fif(raw_fname, preload=True)\n",
    "raw_resampled_fname = raw_fname.replace('.fif', f'_rs.fif')\n",
    "\n",
    "event_fname = raw_fname.replace('.fif', f'_event.fif')\n",
    "\n",
    "bids_folder = os.path.join(data_path, \"Cerca_Spatt_BIDS\")"
   ]
  },
  {
   "cell_type": "code",
   "execution_count": 3,
   "id": "5bb86f77-114d-4064-a13a-cd5bbddfc432",
   "metadata": {},
   "outputs": [
    {
     "name": "stdout",
     "output_type": "stream",
     "text": [
      "<Info | 13 non-empty values\n",
      " bads: []\n",
      " ch_names: Trigger 1, Trigger 2, Trigger 3, Trigger 4, Trigger 5, Trigger ...\n",
      " chs: 27 Stimulus, 192 Magnetometers\n",
      " custom_ref_applied: False\n",
      " dev_head_t: MEG device -> head transform\n",
      " device_info: 2 items (dict)\n",
      " dig: 15603 items (3 Cardinal, 15600 Extra)\n",
      " file_id: 4 items (dict)\n",
      " highpass: 0.0 Hz\n",
      " line_freq: 0.0\n",
      " lowpass: 750.0 Hz\n",
      " meas_date: unspecified\n",
      " meas_id: 4 items (dict)\n",
      " nchan: 219\n",
      " projs: []\n",
      " sfreq: 1500.0 Hz\n",
      ">\n"
     ]
    }
   ],
   "source": [
    "print(raw.info)"
   ]
  },
  {
   "cell_type": "markdown",
   "id": "ada975fb-f6ac-4a0d-b094-bdd2e2089f52",
   "metadata": {},
   "source": [
    "## Lowpass Filtering and Resampling"
   ]
  },
  {
   "cell_type": "markdown",
   "id": "e5557f1f-0abf-4259-8827-318fd1f8411f",
   "metadata": {},
   "source": [
    "The data will now be resampled to 750 Hz. Prior to resampling data will be lowpass filtered at 750 Hz/3 = 250 Hz. The downsample is done to avoid alias problems *(Smith 1998, Ch. 3)*. After the lowpass filtering the data are resampled to the desired frequency."
   ]
  },
  {
   "cell_type": "code",
   "execution_count": 4,
   "id": "46bedb57-f1d9-48ac-9cdc-f3d1debc0fa8",
   "metadata": {},
   "outputs": [
    {
     "name": "stdout",
     "output_type": "stream",
     "text": [
      "Filtering raw data in 1 contiguous segment\n",
      "Setting up low-pass filter at 2.5e+02 Hz\n",
      "\n",
      "FIR filter parameters\n",
      "---------------------\n",
      "Designing a one-pass, zero-phase, non-causal lowpass filter:\n",
      "- Windowed time-domain design (firwin) method\n",
      "- Hamming window with 0.0194 passband ripple and 53 dB stopband attenuation\n",
      "- Upper passband edge: 250.00 Hz\n",
      "- Upper transition bandwidth: 62.50 Hz (-6 dB cutoff frequency: 281.25 Hz)\n",
      "- Filter length: 81 samples (0.054 s)\n",
      "\n"
     ]
    },
    {
     "name": "stderr",
     "output_type": "stream",
     "text": [
      "[Parallel(n_jobs=1)]: Done  17 tasks      | elapsed:    2.4s\n",
      "[Parallel(n_jobs=1)]: Done  71 tasks      | elapsed:   10.3s\n",
      "[Parallel(n_jobs=1)]: Done 161 tasks      | elapsed:   23.9s\n"
     ]
    },
    {
     "name": "stdout",
     "output_type": "stream",
     "text": [
      "348 events found on stim channel Trigger 5\n",
      "Event IDs: [1]\n",
      "348 events found on stim channel Trigger 6\n",
      "Event IDs: [1]\n",
      "337 events found on stim channel Trigger 7\n",
      "Event IDs: [1]\n",
      "360 events found on stim channel Trigger 9\n",
      "Event IDs: [1]\n",
      "309 events found on stim channel Trigger 10\n",
      "Event IDs: [1]\n"
     ]
    },
    {
     "name": "stderr",
     "output_type": "stream",
     "text": [
      "/var/folders/n0/w7vb4jpn0nx3hs95f4p7r9br0000gr/T/ipykernel_41972/2750611751.py:7: RuntimeWarning: Some events are duplicated in your different stim channels. 325 events were ignored during deduplication.\n",
      "  raw_resampled.resample(sfreq=desired_sfreq)\n"
     ]
    },
    {
     "name": "stdout",
     "output_type": "stream",
     "text": [
      "348 events found on stim channel Trigger 5\n",
      "Event IDs: [1]\n",
      "348 events found on stim channel Trigger 6\n",
      "Event IDs: [1]\n",
      "337 events found on stim channel Trigger 7\n",
      "Event IDs: [1]\n",
      "360 events found on stim channel Trigger 9\n",
      "Event IDs: [1]\n",
      "309 events found on stim channel Trigger 10\n",
      "Event IDs: [1]\n"
     ]
    },
    {
     "name": "stderr",
     "output_type": "stream",
     "text": [
      "/var/folders/n0/w7vb4jpn0nx3hs95f4p7r9br0000gr/T/ipykernel_41972/2750611751.py:7: RuntimeWarning: Some events are duplicated in your different stim channels. 331 events were ignored during deduplication.\n",
      "  raw_resampled.resample(sfreq=desired_sfreq)\n",
      "/var/folders/n0/w7vb4jpn0nx3hs95f4p7r9br0000gr/T/ipykernel_41972/2750611751.py:7: RuntimeWarning: Resampling of the stim channels caused event information to become unreliable. Consider finding events on the original data and passing the event matrix as a parameter.\n",
      "  raw_resampled.resample(sfreq=desired_sfreq)\n"
     ]
    },
    {
     "data": {
      "text/html": [
       "<details open>\n",
       "    <summary><strong>General</strong></summary>\n",
       "    <table class=\"table table-hover table-striped table-sm table-responsive small\">\n",
       "        <tr>\n",
       "            <th>Measurement date</th>\n",
       "            \n",
       "            <td>Unknown</td>\n",
       "            \n",
       "        </tr>\n",
       "        <tr>\n",
       "            <th>Experimenter</th>\n",
       "            \n",
       "            <td>Unknown</td>\n",
       "            \n",
       "        </tr>\n",
       "        <tr>\n",
       "            <th>Participant</th>\n",
       "            \n",
       "            <td>Unknown</td>\n",
       "            \n",
       "        </tr>\n",
       "    </table>\n",
       "    </details>\n",
       "    <details open>\n",
       "        <summary><strong>Channels</strong></summary>\n",
       "        <table class=\"table table-hover table-striped table-sm table-responsive small\">\n",
       "            <tr>\n",
       "                <th>Digitized points</th>\n",
       "                \n",
       "                <td>15603 points</td>\n",
       "                \n",
       "            </tr>\n",
       "            <tr>\n",
       "                <th>Good channels</th>\n",
       "                <td>27 Stimulus, 192 Magnetometers</td>\n",
       "            </tr>\n",
       "            <tr>\n",
       "                <th>Bad channels</th>\n",
       "                <td>None</td>\n",
       "            </tr>\n",
       "            <tr>\n",
       "                <th>EOG channels</th>\n",
       "                <td>Not available</td>\n",
       "            </tr>\n",
       "            <tr>\n",
       "                <th>ECG channels</th>\n",
       "                <td>Not available</td>\n",
       "            </tr>\n",
       "        </table>\n",
       "        </details>\n",
       "        <details open>\n",
       "            <summary><strong>Data</strong></summary>\n",
       "            <table class=\"table table-hover table-striped table-sm table-responsive small\">\n",
       "                \n",
       "                <tr>\n",
       "                    <th>Sampling frequency</th>\n",
       "                    <td>750.00 Hz</td>\n",
       "                </tr>\n",
       "                \n",
       "                \n",
       "                <tr>\n",
       "                    <th>Highpass</th>\n",
       "                    <td>0.00 Hz</td>\n",
       "                </tr>\n",
       "                \n",
       "                \n",
       "                <tr>\n",
       "                    <th>Lowpass</th>\n",
       "                    <td>250.00 Hz</td>\n",
       "                </tr>\n",
       "                \n",
       "                \n",
       "                \n",
       "                <tr>\n",
       "                    <th>Filenames</th>\n",
       "                    <td>20250410_110557_meg.fif&lt;br&gt;20250410_110557_meg-1.fif</td>\n",
       "                </tr>\n",
       "                \n",
       "                \n",
       "                <tr>\n",
       "                    <th>Duration</th>\n",
       "                    <td>00:34:14 (HH:MM:SS)</td>\n",
       "                </tr>\n",
       "                \n",
       "            </table>\n",
       "            </details>"
      ],
      "text/plain": [
       "<Raw | 20250410_110557_meg.fif, 219 x 1539808 (2053.1 s), ~2.52 GB, data loaded>"
      ]
     },
     "execution_count": 4,
     "metadata": {},
     "output_type": "execute_result"
    }
   ],
   "source": [
    "desired_sfreq = 750\n",
    "current_sfreq = raw.info['sfreq']\n",
    "\n",
    "lowpass_freq = desired_sfreq / 3.0\n",
    "raw_resampled = raw.copy().filter(l_freq=None, h_freq=lowpass_freq)\n",
    "\n",
    "raw_resampled.resample(sfreq=desired_sfreq)"
   ]
  },
  {
   "cell_type": "markdown",
   "id": "09a09efa-639f-46f2-aed0-72a789c4b189",
   "metadata": {},
   "source": [
    "#### As a final step, the resampled data will be saved"
   ]
  },
  {
   "cell_type": "code",
   "execution_count": 5,
   "id": "506811dd-a58d-43fe-afe8-21cbd9dddb4d",
   "metadata": {},
   "outputs": [
    {
     "name": "stdout",
     "output_type": "stream",
     "text": [
      "Overwriting existing file.\n",
      "Writing /Users/o.jensen@bham.ac.uk/Library/CloudStorage/Dropbox/FLUX/OPM-Oxf/fif/20250410_110557_meg_rs.fif\n"
     ]
    },
    {
     "name": "stderr",
     "output_type": "stream",
     "text": [
      "/var/folders/n0/w7vb4jpn0nx3hs95f4p7r9br0000gr/T/ipykernel_41972/649465886.py:1: RuntimeWarning: This filename (/Users/o.jensen@bham.ac.uk/Library/CloudStorage/Dropbox/FLUX/OPM-Oxf/fif/20250410_110557_meg_rs.fif) does not conform to MNE naming conventions. All raw files should end with raw.fif, raw_sss.fif, raw_tsss.fif, _meg.fif, _eeg.fif, _ieeg.fif, raw.fif.gz, raw_sss.fif.gz, raw_tsss.fif.gz, _meg.fif.gz, _eeg.fif.gz or _ieeg.fif.gz\n",
      "  raw_resampled.save(raw_resampled_fname, overwrite=True)\n"
     ]
    },
    {
     "name": "stdout",
     "output_type": "stream",
     "text": [
      "Closing /Users/o.jensen@bham.ac.uk/Library/CloudStorage/Dropbox/FLUX/OPM-Oxf/fif/20250410_110557_meg_rs.fif\n",
      "[done]\n"
     ]
    }
   ],
   "source": [
    "raw_resampled.save(raw_resampled_fname, overwrite=True)"
   ]
  },
  {
   "cell_type": "markdown",
   "id": "a3e814b4-c4c0-4e6f-9b37-ddf287b1fc25",
   "metadata": {},
   "source": [
    "#### To verify that the data has been resampled, print the following line and check the sampling frequency (sfreq) of the `.fif` file.\n"
   ]
  },
  {
   "cell_type": "code",
   "execution_count": 6,
   "id": "3f38f5dc-026b-4e80-8b09-5f69ec080a39",
   "metadata": {},
   "outputs": [
    {
     "name": "stdout",
     "output_type": "stream",
     "text": [
      "<Info | 13 non-empty values\n",
      " bads: []\n",
      " ch_names: Trigger 1, Trigger 2, Trigger 3, Trigger 4, Trigger 5, Trigger ...\n",
      " chs: 27 Stimulus, 192 Magnetometers\n",
      " custom_ref_applied: False\n",
      " dev_head_t: MEG device -> head transform\n",
      " device_info: 2 items (dict)\n",
      " dig: 15603 items (3 Cardinal, 15600 Extra)\n",
      " file_id: 4 items (dict)\n",
      " highpass: 0.0 Hz\n",
      " line_freq: 0.0\n",
      " lowpass: 250.0 Hz\n",
      " meas_date: unspecified\n",
      " meas_id: 4 items (dict)\n",
      " nchan: 219\n",
      " projs: []\n",
      " sfreq: 750.0 Hz\n",
      ">\n"
     ]
    }
   ],
   "source": [
    "print(raw_resampled.info)"
   ]
  },
  {
   "cell_type": "markdown",
   "id": "999bd730-0735-4a12-98dd-82db4932df8d",
   "metadata": {},
   "source": [
    "#### From now we will be working on the resampled data. Data with the 1500 Hz sample rate can be archived as they will no longer be used."
   ]
  },
  {
   "cell_type": "markdown",
   "id": "6bba924b-a9c9-4fc2-943c-e9a03bb0f6d3",
   "metadata": {},
   "source": [
    "## Converting to MEG BIDS format"
   ]
  },
  {
   "cell_type": "markdown",
   "id": "d0a0f124-b200-42a9-be15-c8e301f95f61",
   "metadata": {},
   "source": [
    "#### Read in the resampled data"
   ]
  },
  {
   "cell_type": "code",
   "execution_count": 7,
   "id": "23d2944d-4192-47f7-8a23-3abde2376756",
   "metadata": {},
   "outputs": [
    {
     "name": "stdout",
     "output_type": "stream",
     "text": [
      "Opening raw data file /Users/o.jensen@bham.ac.uk/Library/CloudStorage/Dropbox/FLUX/OPM-Oxf/fif/20250410_110557_meg_rs.fif...\n",
      "    Range : 0 ... 1539807 =      0.000 ...  2053.076 secs\n",
      "Ready.\n"
     ]
    },
    {
     "name": "stderr",
     "output_type": "stream",
     "text": [
      "/var/folders/n0/w7vb4jpn0nx3hs95f4p7r9br0000gr/T/ipykernel_41972/1265112872.py:2: RuntimeWarning: This filename (/Users/o.jensen@bham.ac.uk/Library/CloudStorage/Dropbox/FLUX/OPM-Oxf/fif/20250410_110557_meg_rs.fif) does not conform to MNE naming conventions. All raw files should end with raw.fif, raw_sss.fif, raw_tsss.fif, _meg.fif, _eeg.fif, _ieeg.fif, raw.fif.gz, raw_sss.fif.gz, raw_tsss.fif.gz, _meg.fif.gz, _eeg.fif.gz or _ieeg.fif.gz\n",
      "  raw = mne.io.read_raw(raw_resampled_fname)\n"
     ]
    }
   ],
   "source": [
    "del raw, raw_resampled\n",
    "raw = mne.io.read_raw(raw_resampled_fname)"
   ]
  },
  {
   "cell_type": "markdown",
   "id": "a0c3477a-3128-4e80-abde-499060e3cfb0",
   "metadata": {},
   "source": [
    "This code extracts the original trigger channels (Trigger 5 to Trigger 11) from the raw data. Each trigger channel represents a separate digital line. To reconstruct the full event information, the triggers are combined into a single digital trigger channel using a 4n4n weighting scheme, where nn is the channel index. Rising edges are detected to mark trigger onsets, and an MNE-compatible events array is created for subsequent analysis."
   ]
  },
  {
   "cell_type": "markdown",
   "id": "e38d5f44-3525-4a76-82e0-104228dbb902",
   "metadata": {},
   "source": [
    "## Finding Triggers and write a FIF file"
   ]
  },
  {
   "cell_type": "markdown",
   "id": "6361e9f4-8f0b-4635-9099-d7bf45c7386c",
   "metadata": {},
   "source": [
    "The BIDS data will include trigger information.The following code extracts the original trigger channels (Trigger 5 to Trigger 11) from the raw data. Each trigger channel represents a separate digital line. To reconstruct the full event information, the triggers are combined into a existing spare single digital trigger channel ('Trigger 1') using a $4^n$ weighting scheme, where $n$ is the channel index and an MNE-compatible events array is created for subsequent analysis. All the events extracted from the trigger channel are also included in an additional `.fif`file. "
   ]
  },
  {
   "cell_type": "code",
   "execution_count": 8,
   "id": "8004956b-d8b5-4814-9186-649c72c5c70b",
   "metadata": {},
   "outputs": [
    {
     "name": "stdout",
     "output_type": "stream",
     "text": [
      "Reading 0 ... 1539807  =      0.000 ...  2053.076 secs...\n",
      "NOTE: pick_channels() is a legacy function. New code should use inst.pick(...).\n",
      "1365 events found on stim channel Trigger 1\n",
      "Event IDs: [   4   16   64   68   80 1024 1028 1040 4096]\n",
      "[[87906     0    68]\n",
      " [90367     0    16]\n",
      " [91270     0    64]\n",
      " [91674     0  1040]\n",
      " [91963     0  4096]\n",
      " [94080     0    16]\n",
      " [94982     0    64]\n",
      " [95412     0  1040]\n",
      " [95725     0  4096]\n",
      " [97880     0    16]]\n",
      "Overwriting existing file.\n"
     ]
    },
    {
     "name": "stderr",
     "output_type": "stream",
     "text": [
      "/var/folders/n0/w7vb4jpn0nx3hs95f4p7r9br0000gr/T/ipykernel_41972/1797872278.py:18: RuntimeWarning: This filename (/Users/o.jensen@bham.ac.uk/Library/CloudStorage/Dropbox/FLUX/OPM-Oxf/fif/20250410_110557_meg_event.fif) does not conform to MNE naming conventions. All events files should end with .eve, -eve.fif, -eve.fif.gz, -eve.lst, -eve.txt, _eve.fif, _eve.fif.gz, _eve.lst or _eve.txt\n",
      "  mne.write_events(event_fname, events, overwrite=True)\n"
     ]
    }
   ],
   "source": [
    "raw.load_data()\n",
    "trigger_chs =['Trigger 5','Trigger 6','Trigger 7','Trigger 8','Trigger 9','Trigger 10', 'Trigger 11']\n",
    "trigger_data = raw.copy().pick_channels(trigger_chs).get_data()\n",
    "n_times = trigger_data.shape[1]\n",
    "combined_trigger = np.zeros(n_times, dtype=int)\n",
    "\n",
    "for index_ch, ch_data in enumerate(trigger_data):\n",
    "    combined_trigger += ch_data.astype(int) * (4 ** (index_ch + 1))\n",
    "    \n",
    "trigger1_idx = raw.ch_names.index('Trigger 1')\n",
    "\n",
    "raw._data[trigger1_idx, :] = combined_trigger\n",
    "\n",
    "events = mne.find_events(raw, stim_channel='Trigger 1', min_duration=0.003)\n",
    "print(events[:10])  # Print first 10 events for verification\n",
    "\n",
    "# Save events to a .fif file \n",
    "mne.write_events(event_fname, events, overwrite=True)"
   ]
  },
  {
   "cell_type": "markdown",
   "id": "9245d0d2-eb81-45dd-a5fc-bee5d67fcaa6",
   "metadata": {},
   "source": [
    "## Naming the Events According to Trigger Information"
   ]
  },
  {
   "cell_type": "markdown",
   "id": "258350fb-ae45-4bec-b4f5-e4edd2280359",
   "metadata": {},
   "source": [
    "The trigger values will now be assigned labels. This will be dependent on specific design of the study and care should be taken to assing informative labels.\n"
   ]
  },
  {
   "cell_type": "code",
   "execution_count": 9,
   "id": "4810e96e-0a4a-4890-ab78-6be1b7a092f5",
   "metadata": {},
   "outputs": [],
   "source": [
    "event_dict = {\n",
    "    'off': 0,\n",
    "    'cue_Right': 4,       \n",
    "    'cue_Left': 16,       \n",
    "    'trial_Start': 20,\n",
    "    'stimOnset': 64,      \n",
    "    'catchOnset': 1024,     \n",
    "    'dotOnRight': 1028,\n",
    "    'dotOnLeft': 1040,\n",
    "    'resp': 4096,           \n",
    "    'blkStart': 68,      \n",
    "    'blkEnd': 80,        \n",
    "    'expEnd': 260,        \n",
    "    'abort': 272,\n",
    "    }"
   ]
  },
  {
   "cell_type": "markdown",
   "id": "ef60a8d2-d402-4f8c-a1bb-2af5eabd9486",
   "metadata": {},
   "source": [
    "## Writing the BIDS File"
   ]
  },
  {
   "cell_type": "markdown",
   "id": "c57811cc-023e-440a-ba88-a25383d5b3b6",
   "metadata": {},
   "source": [
    "For the BIDS conversion several parameters needs to be defined according to the subjection and session. Subsequently the BIDS structure can be written"
   ]
  },
  {
   "cell_type": "code",
   "execution_count": 10,
   "id": "afbc60d7-250c-42e5-8109-35fee114722c",
   "metadata": {},
   "outputs": [
    {
     "name": "stdout",
     "output_type": "stream",
     "text": [
      "Writing '/Users/o.jensen@bham.ac.uk/Library/CloudStorage/Dropbox/FLUX/OPM-Oxf/fif/Cerca_Spatt_BIDS/participants.tsv'...\n",
      "Writing '/Users/o.jensen@bham.ac.uk/Library/CloudStorage/Dropbox/FLUX/OPM-Oxf/fif/Cerca_Spatt_BIDS/participants.json'...\n",
      "Writing '/Users/o.jensen@bham.ac.uk/Library/CloudStorage/Dropbox/FLUX/OPM-Oxf/fif/Cerca_Spatt_BIDS/sub-01/ses-01/meg/sub-01_ses-01_coordsystem.json'...\n",
      "Writing '/Users/o.jensen@bham.ac.uk/Library/CloudStorage/Dropbox/FLUX/OPM-Oxf/fif/Cerca_Spatt_BIDS/sub-01/ses-01/meg/sub-01_ses-01_coordsystem.json'...\n"
     ]
    },
    {
     "name": "stderr",
     "output_type": "stream",
     "text": [
      "/var/folders/n0/w7vb4jpn0nx3hs95f4p7r9br0000gr/T/ipykernel_41972/2775216759.py:16: RuntimeWarning: This filename (/Users/o.jensen@bham.ac.uk/Library/CloudStorage/Dropbox/FLUX/OPM-Oxf/fif/20250410_110557_meg_event.fif) does not conform to MNE naming conventions. All events files should end with .eve, -eve.fif, -eve.fif.gz, -eve.lst, -eve.txt, _eve.fif, _eve.fif.gz, _eve.lst, _eve.txt or -annot.fif\n",
      "  write_raw_bids(\n"
     ]
    },
    {
     "name": "stdout",
     "output_type": "stream",
     "text": [
      "Used Annotations descriptions: ['blkEnd', 'blkStart', 'catchOnset', 'cue_Left', 'cue_Right', 'dotOnLeft', 'dotOnRight', 'resp', 'stimOnset']\n",
      "Writing '/Users/o.jensen@bham.ac.uk/Library/CloudStorage/Dropbox/FLUX/OPM-Oxf/fif/Cerca_Spatt_BIDS/sub-01/ses-01/meg/sub-01_ses-01_task-SpAtt_run-01_events.tsv'...\n",
      "Writing '/Users/o.jensen@bham.ac.uk/Library/CloudStorage/Dropbox/FLUX/OPM-Oxf/fif/Cerca_Spatt_BIDS/sub-01/ses-01/meg/sub-01_ses-01_task-SpAtt_run-01_events.json'...\n",
      "Writing '/Users/o.jensen@bham.ac.uk/Library/CloudStorage/Dropbox/FLUX/OPM-Oxf/fif/Cerca_Spatt_BIDS/dataset_description.json'...\n",
      "Writing '/Users/o.jensen@bham.ac.uk/Library/CloudStorage/Dropbox/FLUX/OPM-Oxf/fif/Cerca_Spatt_BIDS/sub-01/ses-01/meg/sub-01_ses-01_task-SpAtt_run-01_meg.json'...\n"
     ]
    },
    {
     "ename": "KeyError",
     "evalue": "'mag'",
     "output_type": "error",
     "traceback": [
      "\u001b[0;31m---------------------------------------------------------------------------\u001b[0m",
      "\u001b[0;31mKeyError\u001b[0m                                  Traceback (most recent call last)",
      "Cell \u001b[0;32mIn[10], line 16\u001b[0m\n\u001b[1;32m      6\u001b[0m run \u001b[38;5;241m=\u001b[39m \u001b[38;5;124m'\u001b[39m\u001b[38;5;124m01\u001b[39m\u001b[38;5;124m'\u001b[39m\n\u001b[1;32m      8\u001b[0m bids_path \u001b[38;5;241m=\u001b[39m BIDSPath(\n\u001b[1;32m      9\u001b[0m     subject\u001b[38;5;241m=\u001b[39msubject, \n\u001b[1;32m     10\u001b[0m     session\u001b[38;5;241m=\u001b[39msession, \n\u001b[0;32m   (...)\u001b[0m\n\u001b[1;32m     14\u001b[0m     root\u001b[38;5;241m=\u001b[39mbids_folder\n\u001b[1;32m     15\u001b[0m )\n\u001b[0;32m---> 16\u001b[0m \u001b[43mwrite_raw_bids\u001b[49m\u001b[43m(\u001b[49m\n\u001b[1;32m     17\u001b[0m \u001b[43m    \u001b[49m\u001b[43mraw\u001b[49m\u001b[38;5;241;43m=\u001b[39;49m\u001b[43mraw\u001b[49m\u001b[43m,\u001b[49m\n\u001b[1;32m     18\u001b[0m \u001b[43m    \u001b[49m\u001b[43mbids_path\u001b[49m\u001b[38;5;241;43m=\u001b[39;49m\u001b[43mbids_path\u001b[49m\u001b[43m,\u001b[49m\n\u001b[1;32m     19\u001b[0m \u001b[43m    \u001b[49m\u001b[43mevents\u001b[49m\u001b[38;5;241;43m=\u001b[39;49m\u001b[43mevent_fname\u001b[49m\u001b[43m,\u001b[49m\n\u001b[1;32m     20\u001b[0m \u001b[43m    \u001b[49m\u001b[43mevent_id\u001b[49m\u001b[38;5;241;43m=\u001b[39;49m\u001b[43mevent_dict\u001b[49m\u001b[43m,\u001b[49m\n\u001b[1;32m     21\u001b[0m \u001b[43m    \u001b[49m\u001b[43moverwrite\u001b[49m\u001b[38;5;241;43m=\u001b[39;49m\u001b[38;5;28;43;01mTrue\u001b[39;49;00m\u001b[43m,\u001b[49m\n\u001b[1;32m     22\u001b[0m \u001b[43m    \u001b[49m\u001b[43mallow_preload\u001b[49m\u001b[38;5;241;43m=\u001b[39;49m\u001b[38;5;28;43;01mTrue\u001b[39;49;00m\u001b[43m,\u001b[49m\u001b[43m \u001b[49m\n\u001b[1;32m     23\u001b[0m \u001b[43m    \u001b[49m\u001b[38;5;28;43mformat\u001b[39;49m\u001b[38;5;241;43m=\u001b[39;49m\u001b[38;5;124;43m'\u001b[39;49m\u001b[38;5;124;43mFIF\u001b[39;49m\u001b[38;5;124;43m'\u001b[39;49m\u001b[43m,\u001b[49m\n\u001b[1;32m     24\u001b[0m \u001b[43m    \u001b[49m\u001b[43manonymize\u001b[49m\u001b[38;5;241;43m=\u001b[39;49m\u001b[43m{\u001b[49m\u001b[38;5;124;43m'\u001b[39;49m\u001b[38;5;124;43mdaysback\u001b[39;49m\u001b[38;5;124;43m'\u001b[39;49m\u001b[43m:\u001b[49m\u001b[43m \u001b[49m\u001b[38;5;241;43m50000\u001b[39;49m\u001b[43m,\u001b[49m\u001b[43m \u001b[49m\u001b[38;5;124;43m'\u001b[39;49m\u001b[38;5;124;43mkeep_his\u001b[39;49m\u001b[38;5;124;43m'\u001b[39;49m\u001b[43m:\u001b[49m\u001b[43m \u001b[49m\u001b[38;5;28;43;01mFalse\u001b[39;49;00m\u001b[43m,\u001b[49m\u001b[43m \u001b[49m\u001b[38;5;124;43m'\u001b[39;49m\u001b[38;5;124;43mkeep_source\u001b[39;49m\u001b[38;5;124;43m'\u001b[39;49m\u001b[43m:\u001b[49m\u001b[43m \u001b[49m\u001b[38;5;28;43;01mFalse\u001b[39;49;00m\u001b[43m}\u001b[49m\n\u001b[1;32m     25\u001b[0m \u001b[43m)\u001b[49m\n",
      "File \u001b[0;32m<decorator-gen-418>:12\u001b[0m, in \u001b[0;36mwrite_raw_bids\u001b[0;34m(raw, bids_path, events, event_id, anonymize, format, symlink, empty_room, allow_preload, montage, acpc_aligned, overwrite, events_data, verbose)\u001b[0m\n",
      "File \u001b[0;32m~/Applications/MNE-Python/1.6.1_0/.mne-python/lib/python3.11/site-packages/mne_bids/write.py:2012\u001b[0m, in \u001b[0;36mwrite_raw_bids\u001b[0;34m(***failed resolving arguments***)\u001b[0m\n\u001b[1;32m   2001\u001b[0m make_dataset_description(path\u001b[38;5;241m=\u001b[39mbids_path\u001b[38;5;241m.\u001b[39mroot, name\u001b[38;5;241m=\u001b[39m\u001b[38;5;124m\"\u001b[39m\u001b[38;5;124m \u001b[39m\u001b[38;5;124m\"\u001b[39m, overwrite\u001b[38;5;241m=\u001b[39m\u001b[38;5;28;01mFalse\u001b[39;00m)\n\u001b[1;32m   2003\u001b[0m _sidecar_json(\n\u001b[1;32m   2004\u001b[0m     raw,\n\u001b[1;32m   2005\u001b[0m     task\u001b[38;5;241m=\u001b[39mbids_path\u001b[38;5;241m.\u001b[39mtask,\n\u001b[0;32m   (...)\u001b[0m\n\u001b[1;32m   2010\u001b[0m     overwrite\u001b[38;5;241m=\u001b[39moverwrite,\n\u001b[1;32m   2011\u001b[0m )\n\u001b[0;32m-> 2012\u001b[0m \u001b[43m_channels_tsv\u001b[49m\u001b[43m(\u001b[49m\u001b[43mraw\u001b[49m\u001b[43m,\u001b[49m\u001b[43m \u001b[49m\u001b[43mchannels_path\u001b[49m\u001b[38;5;241;43m.\u001b[39;49m\u001b[43mfpath\u001b[49m\u001b[43m,\u001b[49m\u001b[43m \u001b[49m\u001b[43moverwrite\u001b[49m\u001b[43m)\u001b[49m\n\u001b[1;32m   2014\u001b[0m \u001b[38;5;66;03m# create parent directories if needed\u001b[39;00m\n\u001b[1;32m   2015\u001b[0m _mkdir_p(os\u001b[38;5;241m.\u001b[39mpath\u001b[38;5;241m.\u001b[39mdirname(data_path))\n",
      "File \u001b[0;32m~/Applications/MNE-Python/1.6.1_0/.mne-python/lib/python3.11/site-packages/mne_bids/write.py:157\u001b[0m, in \u001b[0;36m_channels_tsv\u001b[0;34m(raw, fname, overwrite)\u001b[0m\n\u001b[1;32m    155\u001b[0m     \u001b[38;5;28;01mif\u001b[39;00m _channel_type \u001b[38;5;129;01min\u001b[39;00m get_specific:\n\u001b[1;32m    156\u001b[0m         _channel_type \u001b[38;5;241m=\u001b[39m coil_type(raw\u001b[38;5;241m.\u001b[39minfo, idx, _channel_type)\n\u001b[0;32m--> 157\u001b[0m     ch_type\u001b[38;5;241m.\u001b[39mappend(\u001b[43mmap_chs\u001b[49m\u001b[43m[\u001b[49m\u001b[43m_channel_type\u001b[49m\u001b[43m]\u001b[49m)\n\u001b[1;32m    158\u001b[0m     description\u001b[38;5;241m.\u001b[39mappend(map_desc[_channel_type])\n\u001b[1;32m    159\u001b[0m low_cutoff, high_cutoff \u001b[38;5;241m=\u001b[39m (raw\u001b[38;5;241m.\u001b[39minfo[\u001b[38;5;124m\"\u001b[39m\u001b[38;5;124mhighpass\u001b[39m\u001b[38;5;124m\"\u001b[39m], raw\u001b[38;5;241m.\u001b[39minfo[\u001b[38;5;124m\"\u001b[39m\u001b[38;5;124mlowpass\u001b[39m\u001b[38;5;124m\"\u001b[39m])\n",
      "\u001b[0;31mKeyError\u001b[0m: 'mag'"
     ]
    }
   ],
   "source": [
    "raw.info[\"line_freq\"] = 50\n",
    "raw.set_annotations(None)\n",
    "subject = '01'\n",
    "session = '01'\n",
    "task = 'SpAtt'\n",
    "run = '01'\n",
    "\n",
    "bids_path = BIDSPath(\n",
    "    subject=subject, \n",
    "    session=session, \n",
    "    task=task, \n",
    "    run=run, \n",
    "    datatype=\"meg\", \n",
    "    root=bids_folder\n",
    ")\n",
    "write_raw_bids(\n",
    "    raw=raw,\n",
    "    bids_path=bids_path,\n",
    "    events=event_fname,\n",
    "    event_id=event_dict,\n",
    "    overwrite=True,\n",
    "    allow_preload=True, \n",
    "    format='FIF',\n",
    "    anonymize={'daysback': 50000, 'keep_his': False, 'keep_source': False}\n",
    ")"
   ]
  },
  {
   "cell_type": "markdown",
   "id": "f7cfe4ef-4593-4a02-8216-debf4bfbb500",
   "metadata": {},
   "source": [
    "#### As last check print the structure of the BIDS file"
   ]
  },
  {
   "cell_type": "code",
   "execution_count": 16,
   "id": "23e00013-f654-419f-ba27-bf881cc287e9",
   "metadata": {},
   "outputs": [
    {
     "name": "stdout",
     "output_type": "stream",
     "text": [
      "|Cerca_Spatt_BIDS/\n",
      "|--- README\n",
      "|--- dataset_description.json\n",
      "|--- participants.json\n",
      "|--- participants.tsv\n",
      "|--- sub-01/\n",
      "|------ ses-01/\n",
      "|--------- meg/\n",
      "|------------ sub-01_ses-01_coordsystem.json\n",
      "|------------ sub-01_ses-01_task-SpAtt_run-01_events.json\n",
      "|------------ sub-01_ses-01_task-SpAtt_run-01_events.tsv\n",
      "|------------ sub-01_ses-01_task-SpAtt_run-01_meg.json\n"
     ]
    }
   ],
   "source": [
    "print_dir_tree(bids_folder)"
   ]
  },
  {
   "cell_type": "markdown",
   "id": "187b393f-b29a-4c36-9b41-42365cd1d9fc",
   "metadata": {},
   "source": [
    "## References\n",
    "\n",
    "[1] Niso G, Gorgolewski KJ, Bock E, Brooks TL, Flandin G, Gramfort A, Henson RN, Jas M, Litvak V, Moreau JT, Oostenveld R, Schoffelen JM, Tadel F, Wexler J, Baillet S. MEG-BIDS, the brain imaging data structure extended to magnetoencephalography. *Scientific Data* 5, 180110 (2018). doi: [10.1038/sdata.2018.110](https://doi.org/10.1038/sdata.2018.110).\n",
    "\n",
    "[2] Smith SW. *The Scientist and Engineer's Guide to Digital Signal Processing*. California Technical Publishing, 1998. [Link to PDF](https://www.dspguide.com/pdfbook.htm).\n"
   ]
  },
  {
   "cell_type": "code",
   "execution_count": null,
   "id": "6b986bc7-6619-4aaa-a913-b7062ff56d3b",
   "metadata": {},
   "outputs": [],
   "source": [
    "pip install -U m"
   ]
  }
 ],
 "metadata": {
  "kernelspec": {
   "display_name": "Python 3 (ipykernel)",
   "language": "python",
   "name": "python3"
  },
  "language_info": {
   "codemirror_mode": {
    "name": "ipython",
    "version": 3
   },
   "file_extension": ".py",
   "mimetype": "text/x-python",
   "name": "python",
   "nbconvert_exporter": "python",
   "pygments_lexer": "ipython3",
   "version": "3.11.5"
  }
 },
 "nbformat": 4,
 "nbformat_minor": 5
}
