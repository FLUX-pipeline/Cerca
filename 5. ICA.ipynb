{
 "cells": [
  {
   "cell_type": "markdown",
   "id": "44520936-a9b7-45ff-aa06-748209d0fa5a",
   "metadata": {},
   "source": [
    "# Using ICA to reduce artefacts"
   ]
  },
  {
   "cell_type": "markdown",
   "id": "14d48cb7-3809-4917-a4dd-5b1f73a7d9d6",
   "metadata": {},
   "source": [
    "This section will show how to use an independent component analysis (ICA) approach to suppress ocular and cardiac artefacts. This will be done by first performing an ICA decomposition of the data after which the components reflecting the artefacts are identified manually. As a last step the artefact components are 'projected out'."
   ]
  },
  {
   "cell_type": "markdown",
   "id": "5df5f9e1-a868-49b3-bd1b-6293ff36aa1f",
   "metadata": {},
   "source": [
    "## Preparation\n",
    "#### Import the necessary modules\n",
    "Below are the required Python modules to be imported"
   ]
  },
  {
   "cell_type": "code",
   "execution_count": 1,
   "id": "eebcf2c3-02d1-4cb2-8682-7d19acb35445",
   "metadata": {},
   "outputs": [],
   "source": [
    "import mne\n",
    "import os\n",
    "import matplotlib\n",
    "import numpy as np\n",
    "import matplotlib.pyplot as plt\n",
    "import os.path as op\n",
    "from mne_bids import (\n",
    "    BIDSPath,\n",
    "    read_raw_bids\n",
    ")\n",
    "from mne.preprocessing import ICA"
   ]
  },
  {
   "attachments": {},
   "cell_type": "markdown",
   "id": "62a912d8-e67d-4f5f-a1bf-093cbe1ae021",
   "metadata": {},
   "source": [
    "#### File overview\n",
    "\n",
    "The chapter relies on the file (embedded in the BIDS structure):\n",
    "\n",
    "< BIDS_ROOT >/derivatives/Preprocessing/sub-01/ses-01/meg/sub-01_ses-01_task-SpAtt_run-01_raw_hfc.fif\n",
    "\n",
    "and generates the output files:\n",
    "\n",
    "< BIDS_ROOT >/derivatives/Preprocessing/sub-01/ses-01/meg/sub-01_ses-01_task-SpAtt_run-01_ica.fif\n"
   ]
  },
  {
   "cell_type": "markdown",
   "id": "2a19d1ac-ad08-4d6b-9bc5-4b5af61f66bb",
   "metadata": {},
   "source": [
    "#### The filtered data is saved inside the derivative folder of the BIDS Directory. To import the data in this workspace the following steps will be followed."
   ]
  },
  {
   "cell_type": "markdown",
   "id": "1d499ed9-8122-457e-941a-a5c0945f6c4f",
   "metadata": {},
   "source": [
    "#### Specify your BIDS parameters along with the BIDS folder path"
   ]
  },
  {
   "cell_type": "code",
   "execution_count": 2,
   "id": "f379e447-01f3-4c91-b9dd-c2df642a9c95",
   "metadata": {},
   "outputs": [
    {
     "name": "stdout",
     "output_type": "stream",
     "text": [
      "C:/Users/rakshita/Documents/Cerca_raw_files/Cerca_Spatt_BIDS/derivatives/preprocessing/sub-01/ses-01/meg/sub-01_ses-01_task-SpAtt_run-01_ann.fif\n",
      "C:\\Users\\rakshita\\Documents\\Cerca_raw_files\\Cerca_Spatt_BIDS\\derivatives\\preprocessing\\sub-01\\ses-01\\meg\\sub-01_ses-01_task-SpAtt_run-01_ica.fif\n"
     ]
    }
   ],
   "source": [
    "subject = '01'\n",
    "session = '01'\n",
    "task = 'SpAtt'\n",
    "run = '01'\n",
    "meg_suffix = 'meg'\n",
    "hfc_suffix = 'raw_hfc'\n",
    "ann_suffix = 'ann'\n",
    "ica_suffix='ica'\n",
    "\n",
    "data_path='C:/Users/rakshita/Documents/Cerca_raw_files'\n",
    "bids_root = op.join(data_path, \"Cerca_Spatt_BIDS\")\n",
    "deriv_root = op.join(bids_root, \"derivatives/preprocessing\")\n",
    "\n",
    "bids_path = BIDSPath(subject=subject, session=session, datatype='meg',\n",
    "            task=task, run=run, suffix=ann_suffix, \n",
    "            root=deriv_root, extension='.fif', check=False)\n",
    "\n",
    "deriv_fname = bids_path.basename.replace(ann_suffix, ica_suffix) # fif output filename\n",
    "deriv_fname_fif = op.join(bids_path.directory, deriv_fname)\n",
    "\n",
    "\n",
    "print(bids_path)\n",
    "print(deriv_fname_fif)\n"
   ]
  },
  {
   "cell_type": "markdown",
   "id": "ea24fe1c-aab3-4a4e-9766-eb8748b214e3",
   "metadata": {},
   "source": [
    "\n",
    "## Resampling and filtering of the raw data\n",
    "\n",
    "To make ICA work more efficiently and allow all parts of the data to stay in memory, the data will be downsampled. The version of the dataset that has already been cleaned using HFC and has annotations will be used. This data will be resampled to 250 Hz, and then a bandpass filter between 1 and 40 Hz will be applied. The high-pass filter at 1 Hz is especially important because it removes slow drifts in the signal, which can otherwise make ICA less effective.\n"
   ]
  },
  {
   "cell_type": "code",
   "execution_count": 3,
   "id": "5fa274f9-6947-4a73-93f7-d9f0a58032a6",
   "metadata": {},
   "outputs": [
    {
     "name": "stdout",
     "output_type": "stream",
     "text": [
      "Opening raw data file C:\\Users\\rakshita\\Documents\\Cerca_raw_files\\Cerca_Spatt_BIDS\\derivatives\\preprocessing\\sub-01\\ses-01\\meg\\sub-01_ses-01_task-SpAtt_run-01_ann.fif...\n"
     ]
    },
    {
     "name": "stderr",
     "output_type": "stream",
     "text": [
      "C:\\Users\\rakshita\\AppData\\Local\\Temp\\ipykernel_25340\\2274475918.py:2: RuntimeWarning: This filename (C:\\Users\\rakshita\\Documents\\Cerca_raw_files\\Cerca_Spatt_BIDS\\derivatives\\preprocessing\\sub-01\\ses-01\\meg\\sub-01_ses-01_task-SpAtt_run-01_ann.fif) does not conform to MNE naming conventions. All raw files should end with raw.fif, raw_sss.fif, raw_tsss.fif, _meg.fif, _eeg.fif, _ieeg.fif, raw.fif.gz, raw_sss.fif.gz, raw_tsss.fif.gz, _meg.fif.gz, _eeg.fif.gz or _ieeg.fif.gz\n",
      "  raw = read_raw_bids(bids_path=bids_path, extra_params={'preload': True}, verbose=True)\n"
     ]
    },
    {
     "name": "stdout",
     "output_type": "stream",
     "text": [
      "    Read a total of 8 projection items:\n",
      "        HFC: l=1 m=-1 (1 x 176) active\n",
      "        HFC: l=1 m=0 (1 x 176) active\n",
      "        HFC: l=1 m=1 (1 x 176) active\n",
      "        HFC: l=2 m=-2 (1 x 176) active\n",
      "        HFC: l=2 m=-1 (1 x 176) active\n",
      "        HFC: l=2 m=0 (1 x 176) active\n",
      "        HFC: l=2 m=1 (1 x 176) active\n",
      "        HFC: l=2 m=2 (1 x 176) active\n",
      "    Range : 0 ... 1539807 =      0.000 ...  2053.076 secs\n",
      "Ready.\n",
      "Reading 0 ... 1539807  =      0.000 ...  2053.076 secs...\n"
     ]
    },
    {
     "name": "stderr",
     "output_type": "stream",
     "text": [
      "C:\\Users\\rakshita\\AppData\\Local\\Temp\\ipykernel_25340\\2274475918.py:2: RuntimeWarning: Did not find any events.tsv associated with sub-01_ses-01_task-SpAtt_run-01.\n",
      "\n",
      "The search_str was \"C:\\Users\\rakshita\\Documents\\Cerca_raw_files\\Cerca_Spatt_BIDS\\derivatives\\preprocessing\\sub-01\\**\\meg\\sub-01_ses-01*events.tsv\"\n",
      "  raw = read_raw_bids(bids_path=bids_path, extra_params={'preload': True}, verbose=True)\n",
      "C:\\Users\\rakshita\\AppData\\Local\\Temp\\ipykernel_25340\\2274475918.py:2: RuntimeWarning: Did not find any channels.tsv associated with sub-01_ses-01_task-SpAtt_run-01.\n",
      "\n",
      "The search_str was \"C:\\Users\\rakshita\\Documents\\Cerca_raw_files\\Cerca_Spatt_BIDS\\derivatives\\preprocessing\\sub-01\\**\\meg\\sub-01_ses-01*channels.tsv\"\n",
      "  raw = read_raw_bids(bids_path=bids_path, extra_params={'preload': True}, verbose=True)\n",
      "C:\\Users\\rakshita\\AppData\\Local\\Temp\\ipykernel_25340\\2274475918.py:2: RuntimeWarning: Did not find any meg.json associated with sub-01_ses-01_task-SpAtt_run-01.\n",
      "\n",
      "The search_str was \"C:\\Users\\rakshita\\Documents\\Cerca_raw_files\\Cerca_Spatt_BIDS\\derivatives\\preprocessing\\sub-01\\**\\meg\\sub-01_ses-01*meg.json\"\n",
      "  raw = read_raw_bids(bids_path=bids_path, extra_params={'preload': True}, verbose=True)\n",
      "C:\\Users\\rakshita\\AppData\\Local\\Temp\\ipykernel_25340\\2274475918.py:2: RuntimeWarning: participants.tsv file not found for C:\\Users\\rakshita\\Documents\\Cerca_raw_files\\Cerca_Spatt_BIDS\\derivatives\\preprocessing\\sub-01\\ses-01\\meg\\sub-01_ses-01_task-SpAtt_run-01_ann.fif\n",
      "  raw = read_raw_bids(bids_path=bids_path, extra_params={'preload': True}, verbose=True)\n"
     ]
    },
    {
     "name": "stdout",
     "output_type": "stream",
     "text": [
      "Filtering raw data in 1 contiguous segment\n",
      "Setting up band-pass filter from 3 - 30 Hz\n",
      "\n",
      "FIR filter parameters\n",
      "---------------------\n",
      "Designing a one-pass, zero-phase, non-causal bandpass filter:\n",
      "- Windowed time-domain design (firwin) method\n",
      "- Hamming window with 0.0194 passband ripple and 53 dB stopband attenuation\n",
      "- Lower passband edge: 3.00\n",
      "- Lower transition bandwidth: 2.00 Hz (-6 dB cutoff frequency: 2.00 Hz)\n",
      "- Upper passband edge: 30.00 Hz\n",
      "- Upper transition bandwidth: 7.50 Hz (-6 dB cutoff frequency: 33.75 Hz)\n",
      "- Filter length: 1239 samples (1.652 s)\n",
      "\n"
     ]
    },
    {
     "name": "stderr",
     "output_type": "stream",
     "text": [
      "[Parallel(n_jobs=1)]: Done  17 tasks      | elapsed:    1.0s\n",
      "[Parallel(n_jobs=1)]: Done  71 tasks      | elapsed:    4.0s\n",
      "[Parallel(n_jobs=1)]: Done 161 tasks      | elapsed:    9.0s\n"
     ]
    },
    {
     "data": {
      "text/html": [
       "<script type=\"text/javascript\">\n",
       "    // must be `var` (not `const`) because this can get embedded multiple times on a page\n",
       "var toggleVisibility = (className) => {\n",
       "\n",
       "    const elements = document.querySelectorAll(`.${className}`);\n",
       "\n",
       "    elements.forEach(element => {\n",
       "        if (element.classList.contains(\"mne-repr-section-header\")) {\n",
       "            return  // Don't collapse the section header row\n",
       "        }\n",
       "        element.classList.toggle(\"mne-repr-collapsed\");\n",
       "    });\n",
       "\n",
       "    // trigger caret to rotate\n",
       "    var sel = `.mne-repr-section-header.${className} > th.mne-repr-section-toggle > button`;\n",
       "    const button = document.querySelector(sel);\n",
       "    button.classList.toggle(\"collapsed\");\n",
       "\n",
       "    // adjust tooltip\n",
       "    sel = `tr.mne-repr-section-header.${className}`;\n",
       "    const secHeadRow = document.querySelector(sel);\n",
       "    secHeadRow.classList.toggle(\"collapsed\");\n",
       "    secHeadRow.title = secHeadRow.title === \"Hide section\" ? \"Show section\" : \"Hide section\";\n",
       "}\n",
       "</script>\n",
       "\n",
       "<style type=\"text/css\">\n",
       "    /*\n",
       "Styles in this section apply both to the sphinx-built website docs and to notebooks\n",
       "rendered in an IDE or in Jupyter. In our web docs, styles here are complemented by\n",
       "doc/_static/styles.css and other CSS files (e.g. from the sphinx theme, sphinx-gallery,\n",
       "or bootstrap). In IDEs/Jupyter, those style files are unavailable, so only the rules in\n",
       "this file apply (plus whatever default styling the IDE applies).\n",
       "*/\n",
       ".mne-repr-table {\n",
       "    display: inline;  /* prevent using full container width */\n",
       "}\n",
       ".mne-repr-table tr.mne-repr-section-header > th {\n",
       "    padding-top: 1rem;\n",
       "    text-align: left;\n",
       "    vertical-align: middle;\n",
       "}\n",
       ".mne-repr-section-toggle > button {\n",
       "    all: unset;\n",
       "    display: block;\n",
       "    height: 1rem;\n",
       "    width: 1rem;\n",
       "}\n",
       ".mne-repr-section-toggle > button > svg {\n",
       "    height: 60%;\n",
       "}\n",
       "\n",
       "/* transition (rotation) effects on the collapser button */\n",
       ".mne-repr-section-toggle > button.collapsed > svg {\n",
       "    transition: 0.1s ease-out;\n",
       "    transform: rotate(-90deg);\n",
       "}\n",
       ".mne-repr-section-toggle > button:not(.collapsed) > svg {\n",
       "    transition: 0.1s ease-out;\n",
       "    transform: rotate(0deg);\n",
       "}\n",
       "\n",
       "/* hide collapsed table rows */\n",
       ".mne-repr-collapsed {\n",
       "    display: none;\n",
       "}\n",
       "\n",
       "\n",
       "@layer {\n",
       "    /*\n",
       "    Selectors in a `@layer` will always be lower-precedence than selectors outside the\n",
       "    layer. So even though e.g. `div.output_html` is present in the sphinx-rendered\n",
       "    website docs, the styles here won't take effect there as long as some other rule\n",
       "    somewhere in the page's CSS targets the same element.\n",
       "\n",
       "    In IDEs or Jupyter notebooks, though, the CSS files from the sphinx theme,\n",
       "    sphinx-gallery, and bootstrap are unavailable, so these styles will apply.\n",
       "\n",
       "    Notes:\n",
       "\n",
       "    - the selector `.accordion-body` is for MNE Reports\n",
       "    - the selector `.output_html` is for VSCode's notebook interface\n",
       "    - the selector `.jp-RenderedHTML` is for Jupyter notebook\n",
       "    - variables starting with `--theme-` are VSCode-specific.\n",
       "    - variables starting with `--jp-` are Jupyter styles, *some of which* are also\n",
       "      available in VSCode. Here we try the `--theme-` variable first, then fall back to\n",
       "      the `--jp-` ones.\n",
       "    */\n",
       "    .mne-repr-table {\n",
       "        --mne-toggle-color: var(--theme-foreground, var(--jp-ui-font-color1));\n",
       "        --mne-button-bg-color: var(--theme-button-background, var(--jp-info-color0, var(--jp-content-link-color)));\n",
       "        --mne-button-fg-color: var(--theme-button-foreground, var(--jp-ui-inverse-font-color0, var(--jp-editor-background)));\n",
       "        --mne-button-hover-bg-color: var(--theme-button-hover-background, var(--jp-info-color1));\n",
       "        --mne-button-radius: var(--jp-border-radius, 0.25rem);\n",
       "    }\n",
       "    /* chevron position/alignment; in VSCode it looks ok without adjusting */\n",
       "    .accordion-body .mne-repr-section-toggle > button,\n",
       "    .jp-RenderedHTML .mne-repr-section-toggle > button {\n",
       "        padding: 0 0 45% 25% !important;\n",
       "    }\n",
       "    /* chevron color; MNE Report doesn't have light/dark mode */\n",
       "    div.output_html .mne-repr-section-toggle > button > svg > path,\n",
       "    .jp-RenderedHTML .mne-repr-section-toggle > button > svg > path {\n",
       "        fill: var(--mne-toggle-color);\n",
       "    }\n",
       "    .accordion-body .mne-ch-names-btn,\n",
       "    div.output_html .mne-ch-names-btn,\n",
       "    .jp-RenderedHTML .mne-ch-names-btn {\n",
       "        -webkit-border-radius: var(--mne-button-radius);\n",
       "        -moz-border-radius: var(--mne-button-radius);\n",
       "        border-radius: var(--mne-button-radius);\n",
       "        border: none;\n",
       "        background-image: none;\n",
       "        background-color: var(--mne-button-bg-color);\n",
       "        color: var(--mne-button-fg-color);\n",
       "        font-size: inherit;\n",
       "        min-width: 1.5rem;\n",
       "        padding: 0.25rem;\n",
       "        text-align: center;\n",
       "        text-decoration: none;\n",
       "    }\n",
       "    .accordion-body .mne-ch-names-btn:hover,\n",
       "    div.output_html .mne.ch-names-btn:hover,\n",
       "    .jp-RenderedHTML .mne-ch-names-btn:hover {\n",
       "        background-color: var(--mne-button-hover-bg-color);\n",
       "        text-decoration: underline;\n",
       "    }\n",
       "    .accordion-body .mne-ch-names-btn:focus-visible,\n",
       "    div.output_html .mne-ch-names-btn:focus-visible,\n",
       "    .jp-RenderedHTML .mne-ch-names-btn:focus-visible {\n",
       "        outline: 0.1875rem solid var(--mne-button-bg-color) !important;\n",
       "        outline-offset: 0.1875rem !important;\n",
       "    }\n",
       "}\n",
       "</style>\n",
       "\n",
       "\n",
       "\n",
       "<table class=\"table mne-repr-table\">\n",
       "    \n",
       "\n",
       "\n",
       "\n",
       "\n",
       "\n",
       "\n",
       "\n",
       "<tr class=\"mne-repr-section-header general-d37ec91c-f60a-4c1f-832c-87a21b26f489\"\n",
       "     title=\"Hide section\" \n",
       "    onclick=\"toggleVisibility('general-d37ec91c-f60a-4c1f-832c-87a21b26f489')\">\n",
       "    <th class=\"mne-repr-section-toggle\">\n",
       "        <button >\n",
       "            <svg xmlns=\"http://www.w3.org/2000/svg\" viewBox=\"0 0 512 512\"><!--!Font Awesome Free 6.6.0 by @fontawesome - https://fontawesome.com License - https://fontawesome.com/license/free Copyright 2024 Fonticons, Inc.--><path d=\"M233.4 406.6c12.5 12.5 32.8 12.5 45.3 0l192-192c12.5-12.5 12.5-32.8 0-45.3s-32.8-12.5-45.3 0L256 338.7 86.6 169.4c-12.5-12.5-32.8-12.5-45.3 0s-12.5 32.8 0 45.3l192 192z\"/></svg>\n",
       "        </button>\n",
       "    </th>\n",
       "    <th colspan=\"2\">\n",
       "        <strong>General</strong>\n",
       "    </th>\n",
       "</tr>\n",
       "\n",
       "\n",
       "<tr class=\"repr-element general-d37ec91c-f60a-4c1f-832c-87a21b26f489 \">\n",
       "    <td class=\"mne-repr-section-toggle\"></td>\n",
       "    <td>Filename(s)</td>\n",
       "    <td>\n",
       "        \n",
       "        sub-01_ses-01_task-SpAtt_run-01_ann.fif\n",
       "        \n",
       "        \n",
       "    </td>\n",
       "</tr>\n",
       "\n",
       "<tr class=\"repr-element general-d37ec91c-f60a-4c1f-832c-87a21b26f489 \">\n",
       "    <td class=\"mne-repr-section-toggle\"></td>\n",
       "    <td>MNE object type</td>\n",
       "    <td>Raw</td>\n",
       "</tr>\n",
       "<tr class=\"repr-element general-d37ec91c-f60a-4c1f-832c-87a21b26f489 \">\n",
       "    <td class=\"mne-repr-section-toggle\"></td>\n",
       "    <td>Measurement date</td>\n",
       "    \n",
       "    <td>Unknown</td>\n",
       "    \n",
       "</tr>\n",
       "<tr class=\"repr-element general-d37ec91c-f60a-4c1f-832c-87a21b26f489 \">\n",
       "    <td class=\"mne-repr-section-toggle\"></td>\n",
       "    <td>Participant</td>\n",
       "    \n",
       "    \n",
       "    \n",
       "</tr>\n",
       "<tr class=\"repr-element general-d37ec91c-f60a-4c1f-832c-87a21b26f489 \">\n",
       "    <td class=\"mne-repr-section-toggle\"></td>\n",
       "    <td>Experimenter</td>\n",
       "    \n",
       "    <td>mne_anonymize</td>\n",
       "    \n",
       "</tr>\n",
       "    \n",
       "\n",
       "\n",
       "\n",
       "\n",
       "\n",
       "\n",
       "\n",
       "<tr class=\"mne-repr-section-header acquisition-bb33cc46-abe2-47ea-ab3c-a90b0fcbe937\"\n",
       "     title=\"Hide section\" \n",
       "    onclick=\"toggleVisibility('acquisition-bb33cc46-abe2-47ea-ab3c-a90b0fcbe937')\">\n",
       "    <th class=\"mne-repr-section-toggle\">\n",
       "        <button >\n",
       "            <svg xmlns=\"http://www.w3.org/2000/svg\" viewBox=\"0 0 512 512\"><!--!Font Awesome Free 6.6.0 by @fontawesome - https://fontawesome.com License - https://fontawesome.com/license/free Copyright 2024 Fonticons, Inc.--><path d=\"M233.4 406.6c12.5 12.5 32.8 12.5 45.3 0l192-192c12.5-12.5 12.5-32.8 0-45.3s-32.8-12.5-45.3 0L256 338.7 86.6 169.4c-12.5-12.5-32.8-12.5-45.3 0s-12.5 32.8 0 45.3l192 192z\"/></svg>\n",
       "        </button>\n",
       "    </th>\n",
       "    <th colspan=\"2\">\n",
       "        <strong>Acquisition</strong>\n",
       "    </th>\n",
       "</tr>\n",
       "\n",
       "\n",
       "<tr class=\"repr-element acquisition-bb33cc46-abe2-47ea-ab3c-a90b0fcbe937 \">\n",
       "    <td class=\"mne-repr-section-toggle\"></td>\n",
       "    <td>Duration</td>\n",
       "    <td>00:34:14 (HH:MM:SS)</td>\n",
       "</tr>\n",
       "\n",
       "\n",
       "\n",
       "\n",
       "\n",
       "\n",
       "\n",
       "\n",
       "<tr class=\"repr-element acquisition-bb33cc46-abe2-47ea-ab3c-a90b0fcbe937 \">\n",
       "    <td class=\"mne-repr-section-toggle\"></td>\n",
       "    <td>Sampling frequency</td>\n",
       "    <td>250.00 Hz</td>\n",
       "</tr>\n",
       "\n",
       "\n",
       "<tr class=\"repr-element acquisition-bb33cc46-abe2-47ea-ab3c-a90b0fcbe937 \">\n",
       "    <td class=\"mne-repr-section-toggle\"></td>\n",
       "    <td>Time points</td>\n",
       "    <td>513,269</td>\n",
       "</tr>\n",
       "\n",
       "\n",
       "    \n",
       "\n",
       "\n",
       "\n",
       "\n",
       "\n",
       "\n",
       "\n",
       "<tr class=\"mne-repr-section-header channels-b1bf454e-008a-4763-9167-c65351ff1aff\"\n",
       "     title=\"Hide section\" \n",
       "    onclick=\"toggleVisibility('channels-b1bf454e-008a-4763-9167-c65351ff1aff')\">\n",
       "    <th class=\"mne-repr-section-toggle\">\n",
       "        <button >\n",
       "            <svg xmlns=\"http://www.w3.org/2000/svg\" viewBox=\"0 0 512 512\"><!--!Font Awesome Free 6.6.0 by @fontawesome - https://fontawesome.com License - https://fontawesome.com/license/free Copyright 2024 Fonticons, Inc.--><path d=\"M233.4 406.6c12.5 12.5 32.8 12.5 45.3 0l192-192c12.5-12.5 12.5-32.8 0-45.3s-32.8-12.5-45.3 0L256 338.7 86.6 169.4c-12.5-12.5-32.8-12.5-45.3 0s-12.5 32.8 0 45.3l192 192z\"/></svg>\n",
       "        </button>\n",
       "    </th>\n",
       "    <th colspan=\"2\">\n",
       "        <strong>Channels</strong>\n",
       "    </th>\n",
       "</tr>\n",
       "\n",
       "\n",
       "    \n",
       "<tr class=\"repr-element channels-b1bf454e-008a-4763-9167-c65351ff1aff \">\n",
       "    <td class=\"mne-repr-section-toggle\"></td>\n",
       "    <td>Magnetometers</td>\n",
       "    <td>\n",
       "        <button class=\"mne-ch-names-btn sd-sphinx-override sd-btn sd-btn-info sd-text-wrap sd-shadow-sm\" onclick=\"alert('Good Magnetometers:\\n\\nF1&nbsp;A1&nbsp;Z, F1&nbsp;A1&nbsp;Y, F1&nbsp;A1&nbsp;X, F3&nbsp;A3&nbsp;Z, F3&nbsp;A3&nbsp;Y, F3&nbsp;A3&nbsp;X, F5&nbsp;A6&nbsp;Z, F5&nbsp;A6&nbsp;Y, F5&nbsp;A6&nbsp;X, F7&nbsp;C3&nbsp;Z, F7&nbsp;C3&nbsp;Y, F7&nbsp;C3&nbsp;X, F9&nbsp;A4&nbsp;Z, F9&nbsp;A4&nbsp;Y, F9&nbsp;A4&nbsp;X, F11&nbsp;A8&nbsp;Z, F11&nbsp;A8&nbsp;Y, F11&nbsp;A8&nbsp;X, C1&nbsp;A7&nbsp;Z, C1&nbsp;A7&nbsp;Y, C1&nbsp;A7&nbsp;X, C3&nbsp;C2&nbsp;Z, C3&nbsp;C2&nbsp;Y, C3&nbsp;C2&nbsp;X, C5&nbsp;C1&nbsp;Z, C5&nbsp;C1&nbsp;Y, C5&nbsp;C1&nbsp;X, C7&nbsp;E4&nbsp;Z, C7&nbsp;E4&nbsp;Y, C7&nbsp;E4&nbsp;X, P1&nbsp;E8&nbsp;Z, P1&nbsp;E8&nbsp;Y, P1&nbsp;E8&nbsp;X, P3&nbsp;E1&nbsp;Z, P3&nbsp;E1&nbsp;Y, P3&nbsp;E1&nbsp;X, P5&nbsp;C6&nbsp;Z, P5&nbsp;C6&nbsp;Y, P5&nbsp;C6&nbsp;X, P7&nbsp;E7&nbsp;Z, P7&nbsp;E7&nbsp;Y, P7&nbsp;E7&nbsp;X, P9&nbsp;E3&nbsp;Z, P9&nbsp;E3&nbsp;Y, P9&nbsp;E3&nbsp;X, P11&nbsp;E6&nbsp;Z, P11&nbsp;E6&nbsp;Y, P11&nbsp;E6&nbsp;X, O1&nbsp;E5&nbsp;Z, O1&nbsp;E5&nbsp;Y, O1&nbsp;E5&nbsp;X, O3&nbsp;G6&nbsp;Z, O3&nbsp;G6&nbsp;Y, O3&nbsp;G6&nbsp;X, O5&nbsp;G4&nbsp;Z, O5&nbsp;G4&nbsp;Y, O5&nbsp;G4&nbsp;X, O7&nbsp;G2&nbsp;Z, O7&nbsp;G2&nbsp;Y, O7&nbsp;G2&nbsp;X, O9&nbsp;G3&nbsp;Z, O9&nbsp;G3&nbsp;Y, T1&nbsp;C7&nbsp;Y, T1&nbsp;C7&nbsp;X, T3&nbsp;C4&nbsp;Z, T3&nbsp;C4&nbsp;Y, T3&nbsp;C4&nbsp;X, T5&nbsp;C5&nbsp;X, T7&nbsp;C8&nbsp;Z, T7&nbsp;C8&nbsp;X, T9&nbsp;G1&nbsp;Z, T9&nbsp;G1&nbsp;Y, T9&nbsp;G1&nbsp;X, T11&nbsp;G7&nbsp;Z, T11&nbsp;G7&nbsp;X, T13&nbsp;G8&nbsp;Z, T13&nbsp;G8&nbsp;Y, T13&nbsp;G8&nbsp;X, F2&nbsp;B7&nbsp;Z, F2&nbsp;B7&nbsp;X, F4&nbsp;B6&nbsp;Z, F4&nbsp;B6&nbsp;Y, F4&nbsp;B6&nbsp;X, F6&nbsp;B8&nbsp;Z, F6&nbsp;B8&nbsp;Y, F6&nbsp;B8&nbsp;X, F8&nbsp;B1&nbsp;Z, F8&nbsp;B1&nbsp;Y, F8&nbsp;B1&nbsp;X, F10&nbsp;B3&nbsp;Z, F10&nbsp;B3&nbsp;Y, F10&nbsp;B3&nbsp;X, F12&nbsp;D8&nbsp;Z, F12&nbsp;D8&nbsp;Y, F12&nbsp;D8&nbsp;X, C2&nbsp;B5&nbsp;Z, C2&nbsp;B5&nbsp;Y, C2&nbsp;B5&nbsp;X, C4&nbsp;D7&nbsp;Z, C4&nbsp;D7&nbsp;Y, C4&nbsp;D7&nbsp;X, C6&nbsp;D4&nbsp;Z, C6&nbsp;D4&nbsp;Y, C6&nbsp;D4&nbsp;X, C8&nbsp;F7&nbsp;Z, C8&nbsp;F7&nbsp;Y, P2&nbsp;F3&nbsp;Z, P2&nbsp;F3&nbsp;Y, P2&nbsp;F3&nbsp;X, P4&nbsp;D3&nbsp;Z, P4&nbsp;D3&nbsp;Y, P4&nbsp;D3&nbsp;X, P6&nbsp;F2&nbsp;Z, P6&nbsp;F2&nbsp;Y, P6&nbsp;F2&nbsp;X, P8&nbsp;F1&nbsp;Z, P8&nbsp;F1&nbsp;Y, P8&nbsp;F1&nbsp;X, P10&nbsp;F5&nbsp;Z, P10&nbsp;F5&nbsp;Y, P10&nbsp;F5&nbsp;X, P12&nbsp;F4&nbsp;Z, P12&nbsp;F4&nbsp;Y, P12&nbsp;F4&nbsp;X, O2&nbsp;H3&nbsp;Z, O2&nbsp;H3&nbsp;X, O4&nbsp;H8&nbsp;Z, O4&nbsp;H8&nbsp;Y, O4&nbsp;H8&nbsp;X, O6&nbsp;H1&nbsp;Z, O6&nbsp;H1&nbsp;X, O8&nbsp;H5&nbsp;Z, O8&nbsp;H5&nbsp;Y, O8&nbsp;H5&nbsp;X, O10&nbsp;H7&nbsp;Z, O10&nbsp;H7&nbsp;Y, O10&nbsp;H7&nbsp;X, T2&nbsp;B2&nbsp;Z, T2&nbsp;B2&nbsp;Y, T2&nbsp;B2&nbsp;X, T4&nbsp;D1&nbsp;Z, T4&nbsp;D1&nbsp;Y, T4&nbsp;D1&nbsp;X, T6&nbsp;D6&nbsp;Z, T6&nbsp;D6&nbsp;Y, T6&nbsp;D6&nbsp;X, T8&nbsp;D2&nbsp;Z, T8&nbsp;D2&nbsp;Y, T8&nbsp;D2&nbsp;X, T10&nbsp;D5&nbsp;Z, T10&nbsp;D5&nbsp;Y, T10&nbsp;D5&nbsp;X, T12&nbsp;H2&nbsp;Z, T12&nbsp;H2&nbsp;Y, T12&nbsp;H2&nbsp;X, Fpz&nbsp;A2&nbsp;Z, Fpz&nbsp;A2&nbsp;Y, Fpz&nbsp;A2&nbsp;X, Fz&nbsp;A5&nbsp;Z, Fz&nbsp;A5&nbsp;Y, Fz&nbsp;A5&nbsp;X, FCz&nbsp;F6&nbsp;Z, FCz&nbsp;F6&nbsp;Y, FCz&nbsp;F6&nbsp;X, Cz&nbsp;E2&nbsp;Z, Cz&nbsp;E2&nbsp;Y, Cz&nbsp;E2&nbsp;X, Pz&nbsp;F8&nbsp;Z, Pz&nbsp;F8&nbsp;Y, Pz&nbsp;F8&nbsp;X, Oz&nbsp;G5&nbsp;Z, Oz&nbsp;G5&nbsp;Y, Oz&nbsp;G5&nbsp;X, Iz&nbsp;H4&nbsp;Z, Iz&nbsp;H4&nbsp;Y, Iz&nbsp;H4&nbsp;X')\" title=\"(Click to open in popup)&#13;&#13;F1&nbsp;A1&nbsp;Z, F1&nbsp;A1&nbsp;Y, F1&nbsp;A1&nbsp;X, F3&nbsp;A3&nbsp;Z, F3&nbsp;A3&nbsp;Y, F3&nbsp;A3&nbsp;X, F5&nbsp;A6&nbsp;Z, F5&nbsp;A6&nbsp;Y, F5&nbsp;A6&nbsp;X, F7&nbsp;C3&nbsp;Z, F7&nbsp;C3&nbsp;Y, F7&nbsp;C3&nbsp;X, F9&nbsp;A4&nbsp;Z, F9&nbsp;A4&nbsp;Y, F9&nbsp;A4&nbsp;X, F11&nbsp;A8&nbsp;Z, F11&nbsp;A8&nbsp;Y, F11&nbsp;A8&nbsp;X, C1&nbsp;A7&nbsp;Z, C1&nbsp;A7&nbsp;Y, C1&nbsp;A7&nbsp;X, C3&nbsp;C2&nbsp;Z, C3&nbsp;C2&nbsp;Y, C3&nbsp;C2&nbsp;X, C5&nbsp;C1&nbsp;Z, C5&nbsp;C1&nbsp;Y, C5&nbsp;C1&nbsp;X, C7&nbsp;E4&nbsp;Z, C7&nbsp;E4&nbsp;Y, C7&nbsp;E4&nbsp;X, P1&nbsp;E8&nbsp;Z, P1&nbsp;E8&nbsp;Y, P1&nbsp;E8&nbsp;X, P3&nbsp;E1&nbsp;Z, P3&nbsp;E1&nbsp;Y, P3&nbsp;E1&nbsp;X, P5&nbsp;C6&nbsp;Z, P5&nbsp;C6&nbsp;Y, P5&nbsp;C6&nbsp;X, P7&nbsp;E7&nbsp;Z, P7&nbsp;E7&nbsp;Y, P7&nbsp;E7&nbsp;X, P9&nbsp;E3&nbsp;Z, P9&nbsp;E3&nbsp;Y, P9&nbsp;E3&nbsp;X, P11&nbsp;E6&nbsp;Z, P11&nbsp;E6&nbsp;Y, P11&nbsp;E6&nbsp;X, O1&nbsp;E5&nbsp;Z, O1&nbsp;E5&nbsp;Y, O1&nbsp;E5&nbsp;X, O3&nbsp;G6&nbsp;Z, O3&nbsp;G6&nbsp;Y, O3&nbsp;G6&nbsp;X, O5&nbsp;G4&nbsp;Z, O5&nbsp;G4&nbsp;Y, O5&nbsp;G4&nbsp;X, O7&nbsp;G2&nbsp;Z, O7&nbsp;G2&nbsp;Y, O7&nbsp;G2&nbsp;X, O9&nbsp;G3&nbsp;Z, O9&nbsp;G3&nbsp;Y, T1&nbsp;C7&nbsp;Y, T1&nbsp;C7&nbsp;X, T3&nbsp;C4&nbsp;Z, T3&nbsp;C4&nbsp;Y, T3&nbsp;C4&nbsp;X, T5&nbsp;C5&nbsp;X, T7&nbsp;C8&nbsp;Z, T7&nbsp;C8&nbsp;X, T9&nbsp;G1&nbsp;Z, T9&nbsp;G1&nbsp;Y, T9&nbsp;G1&nbsp;X, T11&nbsp;G7&nbsp;Z, T11&nbsp;G7&nbsp;X, T13&nbsp;G8&nbsp;Z, T13&nbsp;G8&nbsp;Y, T13&nbsp;G8&nbsp;X, F2&nbsp;B7&nbsp;Z, F2&nbsp;B7&nbsp;X, F4&nbsp;B6&nbsp;Z, F4&nbsp;B6&nbsp;Y, F4&nbsp;B6&nbsp;X, F6&nbsp;B8&nbsp;Z, F6&nbsp;B8&nbsp;Y, F6&nbsp;B8&nbsp;X, F8&nbsp;B1&nbsp;Z, F8&nbsp;B1&nbsp;Y, F8&nbsp;B1&nbsp;X, F10&nbsp;B3&nbsp;Z, F10&nbsp;B3&nbsp;Y, F10&nbsp;B3&nbsp;X, F12&nbsp;D8&nbsp;Z, F12&nbsp;D8&nbsp;Y, F12&nbsp;D8&nbsp;X, C2&nbsp;B5&nbsp;Z, C2&nbsp;B5&nbsp;Y, C2&nbsp;B5&nbsp;X, C4&nbsp;D7&nbsp;Z, C4&nbsp;D7&nbsp;Y, C4&nbsp;D7&nbsp;X, C6&nbsp;D4&nbsp;Z, C6&nbsp;D4&nbsp;Y, C6&nbsp;D4&nbsp;X, C8&nbsp;F7&nbsp;Z, C8&nbsp;F7&nbsp;Y, P2&nbsp;F3&nbsp;Z, P2&nbsp;F3&nbsp;Y, P2&nbsp;F3&nbsp;X, P4&nbsp;D3&nbsp;Z, P4&nbsp;D3&nbsp;Y, P4&nbsp;D3&nbsp;X, P6&nbsp;F2&nbsp;Z, P6&nbsp;F2&nbsp;Y, P6&nbsp;F2&nbsp;X, P8&nbsp;F1&nbsp;Z, P8&nbsp;F1&nbsp;Y, P8&nbsp;F1&nbsp;X, P10&nbsp;F5&nbsp;Z, P10&nbsp;F5&nbsp;Y, P10&nbsp;F5&nbsp;X, P12&nbsp;F4&nbsp;Z, P12&nbsp;F4&nbsp;Y, P12&nbsp;F4&nbsp;X, O2&nbsp;H3&nbsp;Z, O2&nbsp;H3&nbsp;X, O4&nbsp;H8&nbsp;Z, O4&nbsp;H8&nbsp;Y, O4&nbsp;H8&nbsp;X, O6&nbsp;H1&nbsp;Z, O6&nbsp;H1&nbsp;X, O8&nbsp;H5&nbsp;Z, O8&nbsp;H5&nbsp;Y, O8&nbsp;H5&nbsp;X, O10&nbsp;H7&nbsp;Z, O10&nbsp;H7&nbsp;Y, O10&nbsp;H7&nbsp;X, T2&nbsp;B2&nbsp;Z, T2&nbsp;B2&nbsp;Y, T2&nbsp;B2&nbsp;X, T4&nbsp;D1&nbsp;Z, T4&nbsp;D1&nbsp;Y, T4&nbsp;D1&nbsp;X, T6&nbsp;D6&nbsp;Z, T6&nbsp;D6&nbsp;Y, T6&nbsp;D6&nbsp;X, T8&nbsp;D2&nbsp;Z, T8&nbsp;D2&nbsp;Y, T8&nbsp;D2&nbsp;X, T10&nbsp;D5&nbsp;Z, T10&nbsp;D5&nbsp;Y, T10&nbsp;D5&nbsp;X, T12&nbsp;H2&nbsp;Z, T12&nbsp;H2&nbsp;Y, T12&nbsp;H2&nbsp;X, Fpz&nbsp;A2&nbsp;Z, Fpz&nbsp;A2&nbsp;Y, Fpz&nbsp;A2&nbsp;X, Fz&nbsp;A5&nbsp;Z, Fz&nbsp;A5&nbsp;Y, Fz&nbsp;A5&nbsp;X, FCz&nbsp;F6&nbsp;Z, FCz&nbsp;F6&nbsp;Y, FCz&nbsp;F6&nbsp;X, Cz&nbsp;E2&nbsp;Z, Cz&nbsp;E2&nbsp;Y, Cz&nbsp;E2&nbsp;X, Pz&nbsp;F8&nbsp;Z, Pz&nbsp;F8&nbsp;Y, Pz&nbsp;F8&nbsp;X, Oz&nbsp;G5&nbsp;Z, Oz&nbsp;G5&nbsp;Y, Oz&nbsp;G5&nbsp;X, Iz&nbsp;H4&nbsp;Z, Iz&nbsp;H4&nbsp;Y, Iz&nbsp;H4&nbsp;X\">\n",
       "            176\n",
       "        </button>\n",
       "\n",
       "        \n",
       "    </td>\n",
       "</tr>\n",
       "\n",
       "\n",
       "<tr class=\"repr-element channels-b1bf454e-008a-4763-9167-c65351ff1aff \">\n",
       "    <td class=\"mne-repr-section-toggle\"></td>\n",
       "    <td>Head & sensor digitization</td>\n",
       "    \n",
       "    <td>15603 points</td>\n",
       "    \n",
       "</tr>\n",
       "    \n",
       "\n",
       "\n",
       "\n",
       "\n",
       "\n",
       "\n",
       "\n",
       "<tr class=\"mne-repr-section-header filters-7383f34c-aadc-4dac-8971-ec2892a18d63\"\n",
       "     title=\"Hide section\" \n",
       "    onclick=\"toggleVisibility('filters-7383f34c-aadc-4dac-8971-ec2892a18d63')\">\n",
       "    <th class=\"mne-repr-section-toggle\">\n",
       "        <button >\n",
       "            <svg xmlns=\"http://www.w3.org/2000/svg\" viewBox=\"0 0 512 512\"><!--!Font Awesome Free 6.6.0 by @fontawesome - https://fontawesome.com License - https://fontawesome.com/license/free Copyright 2024 Fonticons, Inc.--><path d=\"M233.4 406.6c12.5 12.5 32.8 12.5 45.3 0l192-192c12.5-12.5 12.5-32.8 0-45.3s-32.8-12.5-45.3 0L256 338.7 86.6 169.4c-12.5-12.5-32.8-12.5-45.3 0s-12.5 32.8 0 45.3l192 192z\"/></svg>\n",
       "        </button>\n",
       "    </th>\n",
       "    <th colspan=\"2\">\n",
       "        <strong>Filters</strong>\n",
       "    </th>\n",
       "</tr>\n",
       "\n",
       "\n",
       "<tr class=\"repr-element filters-7383f34c-aadc-4dac-8971-ec2892a18d63 \">\n",
       "    <td class=\"mne-repr-section-toggle\"></td>\n",
       "    <td>Highpass</td>\n",
       "    <td>3.00 Hz</td>\n",
       "</tr>\n",
       "\n",
       "\n",
       "<tr class=\"repr-element filters-7383f34c-aadc-4dac-8971-ec2892a18d63 \">\n",
       "    <td class=\"mne-repr-section-toggle\"></td>\n",
       "    <td>Lowpass</td>\n",
       "    <td>30.00 Hz</td>\n",
       "</tr>\n",
       "\n",
       "\n",
       "<tr class=\"repr-element filters-7383f34c-aadc-4dac-8971-ec2892a18d63 \">\n",
       "    <td class=\"mne-repr-section-toggle\"></td>\n",
       "    <td>Projections</td>\n",
       "    <td>\n",
       "        \n",
       "        HFC: l=1 m=-1 (on)\n",
       "        <br />\n",
       "        \n",
       "        HFC: l=1 m=0 (on)\n",
       "        <br />\n",
       "        \n",
       "        HFC: l=1 m=1 (on)\n",
       "        <br />\n",
       "        \n",
       "        HFC: l=2 m=-2 (on)\n",
       "        <br />\n",
       "        \n",
       "        HFC: l=2 m=-1 (on)\n",
       "        <br />\n",
       "        \n",
       "        HFC: l=2 m=0 (on)\n",
       "        <br />\n",
       "        \n",
       "        HFC: l=2 m=1 (on)\n",
       "        <br />\n",
       "        \n",
       "        HFC: l=2 m=2 (on)\n",
       "        \n",
       "        \n",
       "    </td>\n",
       "</tr>\n",
       "\n",
       "</table>"
      ],
      "text/plain": [
       "<Raw | sub-01_ses-01_task-SpAtt_run-01_ann.fif, 176 x 513269 (2053.1 s), ~694.8 MiB, data loaded>"
      ]
     },
     "execution_count": 3,
     "metadata": {},
     "output_type": "execute_result"
    }
   ],
   "source": [
    "# Read the raw data from the BIDS path\n",
    "raw = read_raw_bids(bids_path=bids_path, extra_params={'preload': True}, verbose=True)\n",
    "\n",
    "# Process the raw data\n",
    "raw_resmpl = raw.copy().pick('mag')  \n",
    "raw_resmpl.filter(3, 30)  \n",
    "raw_resmpl.resample(250)  \n"
   ]
  },
  {
   "cell_type": "markdown",
   "id": "4c08441c-2a35-49c6-8c0a-7b080fba6256",
   "metadata": {},
   "source": [
    "\n",
    "## Applying the ICA algorithm\n",
    "\n",
    "Now the ICA algorithm will be applied. The fastica approach is chosen as it is well established and widely used. However, other ICA methods are available in MNE-Python. To expedite the computation, it is decided to restrict the ICA to the initial 30 components.\n"
   ]
  },
  {
   "cell_type": "code",
   "execution_count": 4,
   "id": "9ef3b6f7-f49f-48e7-bda2-f7110d2022ed",
   "metadata": {},
   "outputs": [
    {
     "data": {
      "text/html": [
       "<table class=\"table mne-repr-table\">\n",
       "    <tr>\n",
       "        <th>Method</th>\n",
       "        <td>fastica</td>\n",
       "    </tr>\n",
       "    <tr>\n",
       "        <th>Fit parameters</th>\n",
       "        <td>algorithm=parallel<br />fun=logcosh<br />fun_args=None<br />max_iter=1000<br /></td>\n",
       "    </tr>\n",
       "    <tr>\n",
       "        <th>Fit</th>\n",
       "        <td>55 iterations on raw data (508000 samples)</td>\n",
       "    </tr>\n",
       "    \n",
       "    <tr>\n",
       "        <th>ICA components</th>\n",
       "        <td>30</td>\n",
       "    </tr>\n",
       "    <tr>\n",
       "        <th>Available PCA components</th>\n",
       "        <td>176</td>\n",
       "    </tr>\n",
       "    <tr>\n",
       "        <th>Channel types</th>\n",
       "        <td>mag</td>\n",
       "    </tr>\n",
       "    <tr>\n",
       "        <th>ICA components marked for exclusion</th>\n",
       "        <td>&mdash;</td>\n",
       "    </tr>\n",
       "    \n",
       "</table>"
      ],
      "text/plain": [
       "<ICA | raw data decomposition, method: fastica (fit in 55 iterations on 508000 samples), 30 ICA components (176 PCA components available), channel types: mag, no sources marked for exclusion>"
      ]
     },
     "execution_count": 4,
     "metadata": {},
     "output_type": "execute_result"
    }
   ],
   "source": [
    "raw_resmpl_all = raw_resmpl\n",
    "ica = ICA(method='fastica',\n",
    "    random_state=96,\n",
    "    n_components=30,\n",
    "    verbose=False)\n",
    "\n",
    "ica.fit(raw_resmpl_all,\n",
    "    verbose=False,\n",
    "       picks='meg')"
   ]
  },
  {
   "cell_type": "markdown",
   "id": "f37b4ffe-ce29-41bf-a366-5af8dc2b570b",
   "metadata": {},
   "source": [
    "\n",
    "## Identifying the ICA components reflecting the artefacts\n",
    "\n",
    "To plot the examples for the time-traces of the ICA components use:\n"
   ]
  },
  {
   "cell_type": "code",
   "execution_count": 5,
   "id": "e00ce0ff-4848-433e-b683-875873266187",
   "metadata": {},
   "outputs": [
    {
     "name": "stdout",
     "output_type": "stream",
     "text": [
      "    Applying projection operator with 8 vectors (pre-whitener application)\n",
      "Creating RawArray with float64 data, n_channels=30, n_times=513269\n",
      "    Range : 0 ... 513268 =      0.000 ...  2053.072 secs\n",
      "Ready.\n",
      "Using qt as 2D backend.\n"
     ]
    },
    {
     "name": "stderr",
     "output_type": "stream",
     "text": [
      "C:\\Users\\rakshita\\AppData\\Local\\mne-python\\1.9.0_0\\Lib\\site-packages\\mne_qt_browser\\_pg_figure.py:3061: RuntimeWarning: Failed to disconnect (None) from signal \"triggered()\".\n",
      "  sig.disconnect()\n"
     ]
    }
   ],
   "source": [
    "%matplotlib inline\n",
    "ica.plot_sources(raw_resmpl_all, title='ICA');"
   ]
  },
  {
   "cell_type": "markdown",
   "id": "88ba0db2-163b-48ca-bdf3-549ba85d8363",
   "metadata": {},
   "source": [
    "Use the left/right arrow-keys to scroll through the data and the up/down arrow-keys to scroll through the components. Right-click on the IC names to see the corrisponding topographies and other details.\n",
    "\n",
    "When inspecting the traces, it is clear that ICA006 reflects eye-blinks as measured most strongly and ICA011 reflects the ECG. This order of ICA components is specific to this data set and the seed (random_state) used for the ICA decomposition. For other data sets or using a different seed the components will come in a different order. Therefore the components associated with artefacts have to be identified manually.\n",
    "\n",
    "- **Question 1:** Identify the saccades in ICA006"
   ]
  },
  {
   "cell_type": "markdown",
   "id": "26d2bc79-0686-4daa-a46f-938c0dbbb74c",
   "metadata": {},
   "source": [
    "## Attenuating the artefacts by applying the projections"
   ]
  },
  {
   "cell_type": "markdown",
   "id": "3097deb6-48d4-4018-9d38-aba3fb9d18bc",
   "metadata": {},
   "source": [
    "Now the ICA components associated with ocular and cardiac artefacts are detected, hence it must be 'projected out'. This will be done by applying the ICA projections generated by ica.exclude to the original raw data which will be loaded again. After the ICA projections have been applied *(ica.apply)* the data will be saved."
   ]
  },
  {
   "cell_type": "code",
   "execution_count": 6,
   "id": "866f5bed-6b5c-4d60-987d-88cfabe6c41f",
   "metadata": {},
   "outputs": [
    {
     "name": "stdout",
     "output_type": "stream",
     "text": [
      "Opening raw data file C:\\Users\\rakshita\\Documents\\Cerca_raw_files\\Cerca_Spatt_BIDS\\derivatives\\preprocessing\\sub-01\\ses-01\\meg\\sub-01_ses-01_task-SpAtt_run-01_ann.fif...\n"
     ]
    },
    {
     "name": "stderr",
     "output_type": "stream",
     "text": [
      "C:\\Users\\rakshita\\AppData\\Local\\Temp\\ipykernel_25340\\436392174.py:5: RuntimeWarning: This filename (C:\\Users\\rakshita\\Documents\\Cerca_raw_files\\Cerca_Spatt_BIDS\\derivatives\\preprocessing\\sub-01\\ses-01\\meg\\sub-01_ses-01_task-SpAtt_run-01_ann.fif) does not conform to MNE naming conventions. All raw files should end with raw.fif, raw_sss.fif, raw_tsss.fif, _meg.fif, _eeg.fif, _ieeg.fif, raw.fif.gz, raw_sss.fif.gz, raw_tsss.fif.gz, _meg.fif.gz, _eeg.fif.gz or _ieeg.fif.gz\n",
      "  raw_ica = read_raw_bids(bids_path=bids_path,extra_params={'preload':True},verbose=True)\n"
     ]
    },
    {
     "name": "stdout",
     "output_type": "stream",
     "text": [
      "    Read a total of 8 projection items:\n",
      "        HFC: l=1 m=-1 (1 x 176) active\n",
      "        HFC: l=1 m=0 (1 x 176) active\n",
      "        HFC: l=1 m=1 (1 x 176) active\n",
      "        HFC: l=2 m=-2 (1 x 176) active\n",
      "        HFC: l=2 m=-1 (1 x 176) active\n",
      "        HFC: l=2 m=0 (1 x 176) active\n",
      "        HFC: l=2 m=1 (1 x 176) active\n",
      "        HFC: l=2 m=2 (1 x 176) active\n",
      "    Range : 0 ... 1539807 =      0.000 ...  2053.076 secs\n",
      "Ready.\n",
      "Reading 0 ... 1539807  =      0.000 ...  2053.076 secs...\n"
     ]
    },
    {
     "name": "stderr",
     "output_type": "stream",
     "text": [
      "C:\\Users\\rakshita\\AppData\\Local\\Temp\\ipykernel_25340\\436392174.py:5: RuntimeWarning: Did not find any events.tsv associated with sub-01_ses-01_task-SpAtt_run-01.\n",
      "\n",
      "The search_str was \"C:\\Users\\rakshita\\Documents\\Cerca_raw_files\\Cerca_Spatt_BIDS\\derivatives\\preprocessing\\sub-01\\**\\meg\\sub-01_ses-01*events.tsv\"\n",
      "  raw_ica = read_raw_bids(bids_path=bids_path,extra_params={'preload':True},verbose=True)\n",
      "C:\\Users\\rakshita\\AppData\\Local\\Temp\\ipykernel_25340\\436392174.py:5: RuntimeWarning: Did not find any channels.tsv associated with sub-01_ses-01_task-SpAtt_run-01.\n",
      "\n",
      "The search_str was \"C:\\Users\\rakshita\\Documents\\Cerca_raw_files\\Cerca_Spatt_BIDS\\derivatives\\preprocessing\\sub-01\\**\\meg\\sub-01_ses-01*channels.tsv\"\n",
      "  raw_ica = read_raw_bids(bids_path=bids_path,extra_params={'preload':True},verbose=True)\n",
      "C:\\Users\\rakshita\\AppData\\Local\\Temp\\ipykernel_25340\\436392174.py:5: RuntimeWarning: Did not find any meg.json associated with sub-01_ses-01_task-SpAtt_run-01.\n",
      "\n",
      "The search_str was \"C:\\Users\\rakshita\\Documents\\Cerca_raw_files\\Cerca_Spatt_BIDS\\derivatives\\preprocessing\\sub-01\\**\\meg\\sub-01_ses-01*meg.json\"\n",
      "  raw_ica = read_raw_bids(bids_path=bids_path,extra_params={'preload':True},verbose=True)\n",
      "C:\\Users\\rakshita\\AppData\\Local\\Temp\\ipykernel_25340\\436392174.py:5: RuntimeWarning: participants.tsv file not found for C:\\Users\\rakshita\\Documents\\Cerca_raw_files\\Cerca_Spatt_BIDS\\derivatives\\preprocessing\\sub-01\\ses-01\\meg\\sub-01_ses-01_task-SpAtt_run-01_ann.fif\n",
      "  raw_ica = read_raw_bids(bids_path=bids_path,extra_params={'preload':True},verbose=True)\n"
     ]
    },
    {
     "name": "stdout",
     "output_type": "stream",
     "text": [
      "Applying ICA to Raw instance\n",
      "    Applying projection operator with 8 vectors (pre-whitener application)\n",
      "    Transforming to ICA space (30 components)\n",
      "    Zeroing out 2 ICA components\n",
      "    Projecting back using 176 PCA components\n",
      "Writing C:\\Users\\rakshita\\Documents\\Cerca_raw_files\\Cerca_Spatt_BIDS\\derivatives\\preprocessing\\sub-01\\ses-01\\meg\\sub-01_ses-01_task-SpAtt_run-01_ica.fif\n"
     ]
    },
    {
     "name": "stderr",
     "output_type": "stream",
     "text": [
      "C:\\Users\\rakshita\\AppData\\Local\\Temp\\ipykernel_25340\\436392174.py:8: RuntimeWarning: This filename (C:\\Users\\rakshita\\Documents\\Cerca_raw_files\\Cerca_Spatt_BIDS\\derivatives\\preprocessing\\sub-01\\ses-01\\meg\\sub-01_ses-01_task-SpAtt_run-01_ica.fif) does not conform to MNE naming conventions. All raw files should end with raw.fif, raw_sss.fif, raw_tsss.fif, _meg.fif, _eeg.fif, _ieeg.fif, raw.fif.gz, raw_sss.fif.gz, raw_tsss.fif.gz, _meg.fif.gz, _eeg.fif.gz or _ieeg.fif.gz\n",
      "  raw_ica.save(deriv_fname_fif, overwrite=True)\n"
     ]
    },
    {
     "name": "stdout",
     "output_type": "stream",
     "text": [
      "Closing C:\\Users\\rakshita\\Documents\\Cerca_raw_files\\Cerca_Spatt_BIDS\\derivatives\\preprocessing\\sub-01\\ses-01\\meg\\sub-01_ses-01_task-SpAtt_run-01_ica.fif\n",
      "[done]\n"
     ]
    },
    {
     "data": {
      "text/plain": [
       "[WindowsPath('C:/Users/rakshita/Documents/Cerca_raw_files/Cerca_Spatt_BIDS/derivatives/preprocessing/sub-01/ses-01/meg/sub-01_ses-01_task-SpAtt_run-01_ica.fif')]"
      ]
     },
     "execution_count": 6,
     "metadata": {},
     "output_type": "execute_result"
    }
   ],
   "source": [
    "# Set the 4 components to exclude\n",
    "ica.exclude = [6,11]\n",
    "\n",
    "\n",
    "raw_ica = read_raw_bids(bids_path=bids_path,extra_params={'preload':True},verbose=True)\n",
    "ica.apply(raw_ica)\n",
    "\n",
    "raw_ica.save(deriv_fname_fif, overwrite=True)"
   ]
  },
  {
   "cell_type": "markdown",
   "id": "1a0bb945-d2e1-43c6-8ef8-e3e6e43e87be",
   "metadata": {},
   "source": [
    "\n",
    "## Plotting the data to check the artefact reduction\n",
    "\n",
    "We will here examine some of the traces to demonstrate the artefact reduction.\n",
    "\n",
    "Define a few frontal OPM sensors to examine"
   ]
  },
  {
   "cell_type": "markdown",
   "id": "94d444da-489e-44ef-82e8-5652663c9e2a",
   "metadata": {},
   "source": [
    "#### For the sake of understanding sensor poistions will be plotted in the topomap"
   ]
  },
  {
   "cell_type": "code",
   "execution_count": 22,
   "id": "4c52def7-7e34-48af-b553-5d67beb2904a",
   "metadata": {},
   "outputs": [
    {
     "data": {
      "image/png": "[encoded data removed]",
      "text/plain": [
       "<Figure size 640x640 with 1 Axes>"
      ]
     },
     "metadata": {},
     "output_type": "display_data"
    }
   ],
   "source": [
    "fig = raw_ica.plot_sensors(kind='topomap', show_names=True)"
   ]
  },
  {
   "cell_type": "markdown",
   "id": "bfd14e86-3cb8-4ada-a881-8c80fbe45efc",
   "metadata": {},
   "source": [
    "Here Frontal sensors start with letter 'F'"
   ]
  },
  {
   "cell_type": "code",
   "execution_count": 13,
   "id": "0ce69e9d-98c8-4b82-8a85-035b23bd5731",
   "metadata": {},
   "outputs": [],
   "source": [
    "chs = ['F1 A1 Z','F1 A1 Y','F1 A1 X','F3 A3 Z','F3 A3 Y','F3 A3 X','F5 A6 Z','F5 A6 Y','F5 A6 X','F7 C3 Z','F7 C3 Y',\n",
    " 'F7 C3 X','F9 A4 Z','F9 A4 Y','F9 A4 X','F11 A8 Z','F11 A8 Y','F11 A8 X','F2 B7 Z','F2 B7 X','F4 B6 Z','F4 B6 Y',\n",
    " 'F4 B6 X','F6 B8 Z','F6 B8 Y','F6 B8 X','F8 B1 Z','F8 B1 Y','F8 B1 X','F10 B3 Z','F10 B3 Y','F10 B3 X','F12 D8 Z','F12 D8 Y','F12 D8 X',]\n",
    "chan_idxs = [raw.ch_names.index(ch) for ch in chs]"
   ]
  },
  {
   "cell_type": "markdown",
   "id": "0cc4899f-69ca-4142-a4e7-bf8d70fe40a0",
   "metadata": {},
   "source": [
    "#### Then plot the data before the ICA projections were applied. Use the arrow button to scroll through the trials."
   ]
  },
  {
   "cell_type": "code",
   "execution_count": 15,
   "id": "5b5b7556-1778-4518-bb67-21ea87bdf5a7",
   "metadata": {},
   "outputs": [
    {
     "data": {
      "text/plain": [
       "<mne_qt_browser._pg_figure.MNEQtBrowser(0x2544b5eb940) at 0x0000025445ED4F00>"
      ]
     },
     "execution_count": 15,
     "metadata": {},
     "output_type": "execute_result"
    }
   ],
   "source": [
    "%matplotlib inline\n",
    "raw.plot(order=chan_idxs)"
   ]
  },
  {
   "cell_type": "markdown",
   "id": "22ccad2c-6c9d-4fe0-aa86-c89bb14b9726",
   "metadata": {},
   "source": [
    "The plot above shows the raw traces before the application of the ICA projections. Note the ocular artefacts in the OPM data at e.g. ~1 sec."
   ]
  },
  {
   "cell_type": "markdown",
   "id": "dfc71197-3b9a-4cf1-8de6-c9e24da53569",
   "metadata": {},
   "source": [
    "Then plot the same traces after the application of the ICA projections:"
   ]
  },
  {
   "cell_type": "code",
   "execution_count": 16,
   "id": "7d88345f-4976-4219-a8fc-a7435d949661",
   "metadata": {},
   "outputs": [
    {
     "data": {
      "text/plain": [
       "<mne_qt_browser._pg_figure.MNEQtBrowser(0x25452067290) at 0x000002545E40CE80>"
      ]
     },
     "execution_count": 16,
     "metadata": {},
     "output_type": "execute_result"
    },
    {
     "name": "stdout",
     "output_type": "stream",
     "text": [
      "Channels marked as bad:\n",
      "none\n"
     ]
    },
    {
     "name": "stderr",
     "output_type": "stream",
     "text": [
      "C:\\Users\\rakshita\\AppData\\Local\\mne-python\\1.9.0_0\\Lib\\site-packages\\mne_qt_browser\\_pg_figure.py:3061: RuntimeWarning: Failed to disconnect (None) from signal \"triggered()\".\n",
      "  sig.disconnect()\n"
     ]
    }
   ],
   "source": [
    "%matplotlib inline\n",
    "raw_ica.plot(order=chan_idxs)"
   ]
  },
  {
   "cell_type": "markdown",
   "id": "89b39bc8-370c-472a-b577-bc8c1681257a",
   "metadata": {},
   "source": [
    "As seen in the plot above, the ocular artefacts are clearly reduced."
   ]
  },
  {
   "cell_type": "markdown",
   "id": "fb866e42-8b7d-411f-a61a-09e7d28292ef",
   "metadata": {},
   "source": [
    "## Preregistration and Publication"
   ]
  },
  {
   "cell_type": "markdown",
   "id": "e329fa70-9e0e-4ba5-bbb0-2d0c892901d6",
   "metadata": {},
   "source": [
    "Example text:\n",
    "\"The data were down sampled to 250 Hz prior to Independent Component Analysis (ICA) and bandpass filtered at 1 – 40 Hz. Next the fastICA algorithm (`Hyvärinen and Oja, 2000`) was applied to the segmented data as implemented in MNE Python. Components containing cardiac artefacts and eyeblinks (identified in time course and topographies of the ICA components) were removed in each subject (3 – 5 over subjects) in the raw unfiltered data. \""
   ]
  },
  {
   "cell_type": "markdown",
   "id": "e1edb01c-1d65-4b31-8f13-b6c56bf7997f",
   "metadata": {},
   "source": [
    "\n",
    "## References\n",
    "\n",
    "[Hyvärinen & Oja, 2002]: Hyvärinen, A., & Oja, E. (2002). Independent component analysis: algorithms and applications. *Neural Networks*, 13(4–5), 411–430. https://doi.org/10.1016/s0893-6080(00)00026-5\n",
    "\n",
    "\n"
   ]
  }
 ],
 "metadata": {
  "kernelspec": {
   "display_name": "Python 3 (ipykernel)",
   "language": "python",
   "name": "python3"
  },
  "language_info": {
   "codemirror_mode": {
    "name": "ipython",
    "version": 3
   },
   "file_extension": ".py",
   "mimetype": "text/x-python",
   "name": "python",
   "nbconvert_exporter": "python",
   "pygments_lexer": "ipython3",
   "version": "3.12.7"
  }
 },
 "nbformat": 4,
 "nbformat_minor": 5
}
