{
 "cells": [
  {
   "cell_type": "markdown",
   "id": "6b01ebc9-d4a5-4287-93a4-077e4910a321",
   "metadata": {},
   "source": [
    "# Downsampling and BIDS conversion"
   ]
  },
  {
   "cell_type": "markdown",
   "id": "e4b3b35f-4a20-4fd6-9c28-5cc87fc93798",
   "metadata": {},
   "source": [
    "## Introduction\n",
    "\n",
    "In this section we will demonstrate how to prepare the data for further analysis. As the Quspin data are sampled at 1500 Hz the first step is to downsample to 500 Hz. Subsequenctly we will convert the data to MEG BIDS <i>(Niso et al., 2018)</i>\n",
    ". BIDS (Brain Imaging Data Structure) is a standardised format for organising and describing neuroimaging datasets. It ensures that the meta data are present and that the file structure is consistent over data sets. "
   ]
  },
  {
   "cell_type": "markdown",
   "id": "5a6d0098-7b19-4bc0-b0e7-011bbd5e8640",
   "metadata": {},
   "source": [
    "## Preparation\n",
    "\n",
    "Import the required modules:"
   ]
  },
  {
   "cell_type": "code",
   "execution_count": 1,
   "id": "7eab5988-f6df-4733-a1f4-bca13876e4fb",
   "metadata": {},
   "outputs": [],
   "source": [
    "import os\n",
    "import numpy as np\n",
    "import pandas as pd\n",
    "import mne\n",
    "from mne_bids import (\n",
    "    BIDSPath,\n",
    "    make_dataset_description,\n",
    "    print_dir_tree,\n",
    "    read_raw_bids,\n",
    "    write_meg_calibration,\n",
    "    write_meg_crosstalk,\n",
    "    write_raw_bids\n",
    ")"
   ]
  },
  {
   "cell_type": "markdown",
   "id": "7877dde4-476a-414f-be06-7f5616c859df",
   "metadata": {},
   "source": [
    "## File overview\n",
    "\n",
    "The chapter relies on the input files:\n",
    "~~~\n",
    "<ROOT>/Main_split-01_meg.fif\n",
    "<ROOT>/Main_split-02_meg.fif\n",
    "~~~ \n",
    "and generate the out files:\n",
    "~~~\n",
    "<ROOT>/Main_fs.fif\n",
    "<ROOT>/Main_event.fif\n",
    "\n",
    "<ROOT/Ox_Sub1_BIDS/participants.json\n",
    "<ROOT/Ox_Sub1_BIDS/participants.tsv\n",
    "<ROOT/Ox_Sub1_BIDS/sub-01/ses-01/sub-01_ses-01_scans.tsv\n",
    "<ROOT/Ox_Sub1_BIDS/dataset_description.json\n",
    "<ROOT/Ox_Sub1_BIDS/sub-01/ses-01/meg/sub-01_ses-01_coordsystem.json\n",
    "<ROOT/Ox_Sub1_BIDS/ses-01/meg/sub-01_ses-01_task-SpAtt_run-1_channels.tsv\n",
    "<ROOT/Ox_Sub1_BIDS/ses-01/meg/sub-01_ses-01_task-SpAtt_run-1_events.json\n",
    "<ROOT/Ox_Sub1_BIDS/meg/sub-01_ses-01_task-SpAtt_run-1_events.tsv\n",
    "<ROOT/Ox_Sub1_BIDS/meg/sub-01_ses-01_task-SpAtt_run-1_meg.fif\n",
    "<ROOT/Ox_Sub1_BIDS/sub-01_ses-01_task-SpAtt_run-1_meg.json\n",
    "~~~"
   ]
  },
  {
   "cell_type": "markdown",
   "id": "504f5ef0-ee46-451d-a4ef-62d4df4f8bfb",
   "metadata": {},
   "source": [
    "## Downloading the Data"
   ]
  },
  {
   "cell_type": "markdown",
   "id": "4b95c0e0-73d3-4826-96eb-fcd87cac26f6",
   "metadata": {},
   "source": [
    "Visit [OpenNeuro](https://openneuro.org/) and download the dataset."
   ]
  },
  {
   "cell_type": "markdown",
   "id": "e3a7eb42-8947-4d37-b0c8-b82f0e1baba4",
   "metadata": {},
   "source": [
    "## Loading the Data from Local Space"
   ]
  },
  {
   "cell_type": "markdown",
   "id": "eba9aaec-4dda-43bb-905d-cdf513c74d96",
   "metadata": {},
   "source": [
    "The QuSpin OPM data are stored in FIF format which is a binary file structure with embedded lables. As a first step we will load the data. Make sure the data path is set to where the data are downloaded. QuSpin systems save data across multiple split files based on the total size of the data.Here, both split files will be loaded into the workspace.However, we only need to specify the name of split-01, and MNE will automatically detect and load split-02 along with it\n",
    " We will also define the name of the resampled data with 'rs' added to the filename <code>(<a> *_rs.fif </a>)</code>"
   ]
  },
  {
   "cell_type": "code",
   "execution_count": 3,
   "id": "11d3713d-484b-4f48-b090-14b4c4e023da",
   "metadata": {},
   "outputs": [
    {
     "name": "stdout",
     "output_type": "stream",
     "text": [
      "Opening raw data file C:/Users/rakshita/Documents/Cerca_raw_files\\20250410_110557_meg.fif...\n",
      "    Range : 0 ... 2449499 =      0.000 ...  1632.999 secs\n",
      "Ready.\n",
      "Opening raw data file C:\\Users\\rakshita\\Documents\\Cerca_raw_files\\20250410_110557_meg-1.fif...\n",
      "    Range : 2449500 ... 3079615 =   1633.000 ...  2053.077 secs\n",
      "Ready.\n",
      "Reading 0 ... 3079615  =      0.000 ...  2053.077 secs...\n"
     ]
    }
   ],
   "source": [
    "data_path = 'C:/Users/rakshita/Documents/Cerca_raw_files'\n",
    "file_name = '20250410_110557_meg.fif'\n",
    "raw_fname = os.path.join(data_path, file_name)\n",
    "\n",
    "raw = mne.io.read_raw_fif(raw_fname, preload=True)\n",
    "raw_resampled_fname = raw_fname.replace('.fif', f'_rs.fif')\n",
    "\n",
    "event_fname = raw_fname.replace('.fif', f'_event.fif')\n",
    "\n",
    "bids_folder = os.path.join(data_path, \"Cerca_Spatt_BIDS\")"
   ]
  },
  {
   "cell_type": "code",
   "execution_count": 4,
   "id": "5bb86f77-114d-4064-a13a-cd5bbddfc432",
   "metadata": {},
   "outputs": [
    {
     "name": "stdout",
     "output_type": "stream",
     "text": [
      "<Info | 13 non-empty values\n",
      " bads: []\n",
      " ch_names: Trigger 1, Trigger 2, Trigger 3, Trigger 4, Trigger 5, Trigger ...\n",
      " chs: 27 Stimulus, 192 Magnetometers\n",
      " custom_ref_applied: False\n",
      " dev_head_t: MEG device -> head transform\n",
      " device_info: 2 items (dict)\n",
      " dig: 15603 items (3 Cardinal, 15600 Extra)\n",
      " file_id: 4 items (dict)\n",
      " highpass: 0.0 Hz\n",
      " line_freq: 0.0\n",
      " lowpass: 750.0 Hz\n",
      " meas_date: unspecified\n",
      " meas_id: 4 items (dict)\n",
      " nchan: 219\n",
      " projs: []\n",
      " sfreq: 1500.0 Hz\n",
      ">\n"
     ]
    }
   ],
   "source": [
    "print(raw.info)"
   ]
  },
  {
   "cell_type": "markdown",
   "id": "ada975fb-f6ac-4a0d-b094-bdd2e2089f52",
   "metadata": {},
   "source": [
    "## Lowpass Filtering and Resampling"
   ]
  },
  {
   "cell_type": "markdown",
   "id": "e5557f1f-0abf-4259-8827-318fd1f8411f",
   "metadata": {},
   "source": [
    "The data will now be resampled to 750 Hz. Prior to resampling data will be lowpass filtered at 750 Hz/3 = 250 Hz. The downsample is done to avoid alias problems *(Smith 1998, Ch. 3)*. After the lowpass filtering the data are resampled to the desired frequency."
   ]
  },
  {
   "cell_type": "code",
   "execution_count": 5,
   "id": "46bedb57-f1d9-48ac-9cdc-f3d1debc0fa8",
   "metadata": {},
   "outputs": [
    {
     "name": "stdout",
     "output_type": "stream",
     "text": [
      "Filtering raw data in 1 contiguous segment\n",
      "Setting up low-pass filter at 2.5e+02 Hz\n",
      "\n",
      "FIR filter parameters\n",
      "---------------------\n",
      "Designing a one-pass, zero-phase, non-causal lowpass filter:\n",
      "- Windowed time-domain design (firwin) method\n",
      "- Hamming window with 0.0194 passband ripple and 53 dB stopband attenuation\n",
      "- Upper passband edge: 250.00 Hz\n",
      "- Upper transition bandwidth: 62.50 Hz (-6 dB cutoff frequency: 281.25 Hz)\n",
      "- Filter length: 81 samples (0.054 s)\n",
      "\n"
     ]
    },
    {
     "name": "stderr",
     "output_type": "stream",
     "text": [
      "[Parallel(n_jobs=1)]: Done  17 tasks      | elapsed:    6.9s\n",
      "[Parallel(n_jobs=1)]: Done  71 tasks      | elapsed:   25.2s\n",
      "[Parallel(n_jobs=1)]: Done 161 tasks      | elapsed:   55.2s\n"
     ]
    },
    {
     "name": "stdout",
     "output_type": "stream",
     "text": [
      "348 events found on stim channel Trigger 5\n",
      "Event IDs: [1]\n",
      "348 events found on stim channel Trigger 6\n",
      "Event IDs: [1]\n",
      "337 events found on stim channel Trigger 7\n",
      "Event IDs: [1]\n",
      "360 events found on stim channel Trigger 9\n",
      "Event IDs: [1]\n",
      "309 events found on stim channel Trigger 10\n",
      "Event IDs: [1]\n"
     ]
    },
    {
     "name": "stderr",
     "output_type": "stream",
     "text": [
      "C:\\Users\\rakshita\\AppData\\Local\\Temp\\ipykernel_16708\\2750611751.py:7: RuntimeWarning: Some events are duplicated in your different stim channels. 325 events were ignored during deduplication.\n",
      "  raw_resampled.resample(sfreq=desired_sfreq)\n"
     ]
    },
    {
     "name": "stdout",
     "output_type": "stream",
     "text": [
      "348 events found on stim channel Trigger 5\n",
      "Event IDs: [1]\n",
      "348 events found on stim channel Trigger 6\n",
      "Event IDs: [1]\n",
      "337 events found on stim channel Trigger 7\n",
      "Event IDs: [1]\n",
      "360 events found on stim channel Trigger 9\n",
      "Event IDs: [1]\n",
      "309 events found on stim channel Trigger 10\n",
      "Event IDs: [1]\n"
     ]
    },
    {
     "name": "stderr",
     "output_type": "stream",
     "text": [
      "C:\\Users\\rakshita\\AppData\\Local\\Temp\\ipykernel_16708\\2750611751.py:7: RuntimeWarning: Some events are duplicated in your different stim channels. 331 events were ignored during deduplication.\n",
      "  raw_resampled.resample(sfreq=desired_sfreq)\n",
      "C:\\Users\\rakshita\\AppData\\Local\\Temp\\ipykernel_16708\\2750611751.py:7: RuntimeWarning: Resampling of the stim channels caused event information to become unreliable. Consider finding events on the original data and passing the event matrix as a parameter.\n",
      "  raw_resampled.resample(sfreq=desired_sfreq)\n"
     ]
    },
    {
     "data": {
      "text/html": [
       "<script type=\"text/javascript\">\n",
       "    // must be `var` (not `const`) because this can get embedded multiple times on a page\n",
       "var toggleVisibility = (className) => {\n",
       "\n",
       "    const elements = document.querySelectorAll(`.${className}`);\n",
       "\n",
       "    elements.forEach(element => {\n",
       "        if (element.classList.contains(\"mne-repr-section-header\")) {\n",
       "            return  // Don't collapse the section header row\n",
       "        }\n",
       "        element.classList.toggle(\"mne-repr-collapsed\");\n",
       "    });\n",
       "\n",
       "    // trigger caret to rotate\n",
       "    var sel = `.mne-repr-section-header.${className} > th.mne-repr-section-toggle > button`;\n",
       "    const button = document.querySelector(sel);\n",
       "    button.classList.toggle(\"collapsed\");\n",
       "\n",
       "    // adjust tooltip\n",
       "    sel = `tr.mne-repr-section-header.${className}`;\n",
       "    const secHeadRow = document.querySelector(sel);\n",
       "    secHeadRow.classList.toggle(\"collapsed\");\n",
       "    secHeadRow.title = secHeadRow.title === \"Hide section\" ? \"Show section\" : \"Hide section\";\n",
       "}\n",
       "</script>\n",
       "\n",
       "<style type=\"text/css\">\n",
       "    /*\n",
       "Styles in this section apply both to the sphinx-built website docs and to notebooks\n",
       "rendered in an IDE or in Jupyter. In our web docs, styles here are complemented by\n",
       "doc/_static/styles.css and other CSS files (e.g. from the sphinx theme, sphinx-gallery,\n",
       "or bootstrap). In IDEs/Jupyter, those style files are unavailable, so only the rules in\n",
       "this file apply (plus whatever default styling the IDE applies).\n",
       "*/\n",
       ".mne-repr-table {\n",
       "    display: inline;  /* prevent using full container width */\n",
       "}\n",
       ".mne-repr-table tr.mne-repr-section-header > th {\n",
       "    padding-top: 1rem;\n",
       "    text-align: left;\n",
       "    vertical-align: middle;\n",
       "}\n",
       ".mne-repr-section-toggle > button {\n",
       "    all: unset;\n",
       "    display: block;\n",
       "    height: 1rem;\n",
       "    width: 1rem;\n",
       "}\n",
       ".mne-repr-section-toggle > button > svg {\n",
       "    height: 60%;\n",
       "}\n",
       "\n",
       "/* transition (rotation) effects on the collapser button */\n",
       ".mne-repr-section-toggle > button.collapsed > svg {\n",
       "    transition: 0.1s ease-out;\n",
       "    transform: rotate(-90deg);\n",
       "}\n",
       ".mne-repr-section-toggle > button:not(.collapsed) > svg {\n",
       "    transition: 0.1s ease-out;\n",
       "    transform: rotate(0deg);\n",
       "}\n",
       "\n",
       "/* hide collapsed table rows */\n",
       ".mne-repr-collapsed {\n",
       "    display: none;\n",
       "}\n",
       "\n",
       "\n",
       "@layer {\n",
       "    /*\n",
       "    Selectors in a `@layer` will always be lower-precedence than selectors outside the\n",
       "    layer. So even though e.g. `div.output_html` is present in the sphinx-rendered\n",
       "    website docs, the styles here won't take effect there as long as some other rule\n",
       "    somewhere in the page's CSS targets the same element.\n",
       "\n",
       "    In IDEs or Jupyter notebooks, though, the CSS files from the sphinx theme,\n",
       "    sphinx-gallery, and bootstrap are unavailable, so these styles will apply.\n",
       "\n",
       "    Notes:\n",
       "\n",
       "    - the selector `.accordion-body` is for MNE Reports\n",
       "    - the selector `.output_html` is for VSCode's notebook interface\n",
       "    - the selector `.jp-RenderedHTML` is for Jupyter notebook\n",
       "    - variables starting with `--theme-` are VSCode-specific.\n",
       "    - variables starting with `--jp-` are Jupyter styles, *some of which* are also\n",
       "      available in VSCode. Here we try the `--theme-` variable first, then fall back to\n",
       "      the `--jp-` ones.\n",
       "    */\n",
       "    .mne-repr-table {\n",
       "        --mne-toggle-color: var(--theme-foreground, var(--jp-ui-font-color1));\n",
       "        --mne-button-bg-color: var(--theme-button-background, var(--jp-info-color0, var(--jp-content-link-color)));\n",
       "        --mne-button-fg-color: var(--theme-button-foreground, var(--jp-ui-inverse-font-color0, var(--jp-editor-background)));\n",
       "        --mne-button-hover-bg-color: var(--theme-button-hover-background, var(--jp-info-color1));\n",
       "        --mne-button-radius: var(--jp-border-radius, 0.25rem);\n",
       "    }\n",
       "    /* chevron position/alignment; in VSCode it looks ok without adjusting */\n",
       "    .accordion-body .mne-repr-section-toggle > button,\n",
       "    .jp-RenderedHTML .mne-repr-section-toggle > button {\n",
       "        padding: 0 0 45% 25% !important;\n",
       "    }\n",
       "    /* chevron color; MNE Report doesn't have light/dark mode */\n",
       "    div.output_html .mne-repr-section-toggle > button > svg > path,\n",
       "    .jp-RenderedHTML .mne-repr-section-toggle > button > svg > path {\n",
       "        fill: var(--mne-toggle-color);\n",
       "    }\n",
       "    .accordion-body .mne-ch-names-btn,\n",
       "    div.output_html .mne-ch-names-btn,\n",
       "    .jp-RenderedHTML .mne-ch-names-btn {\n",
       "        -webkit-border-radius: var(--mne-button-radius);\n",
       "        -moz-border-radius: var(--mne-button-radius);\n",
       "        border-radius: var(--mne-button-radius);\n",
       "        border: none;\n",
       "        background-image: none;\n",
       "        background-color: var(--mne-button-bg-color);\n",
       "        color: var(--mne-button-fg-color);\n",
       "        font-size: inherit;\n",
       "        min-width: 1.5rem;\n",
       "        padding: 0.25rem;\n",
       "        text-align: center;\n",
       "        text-decoration: none;\n",
       "    }\n",
       "    .accordion-body .mne-ch-names-btn:hover,\n",
       "    div.output_html .mne.ch-names-btn:hover,\n",
       "    .jp-RenderedHTML .mne-ch-names-btn:hover {\n",
       "        background-color: var(--mne-button-hover-bg-color);\n",
       "        text-decoration: underline;\n",
       "    }\n",
       "    .accordion-body .mne-ch-names-btn:focus-visible,\n",
       "    div.output_html .mne-ch-names-btn:focus-visible,\n",
       "    .jp-RenderedHTML .mne-ch-names-btn:focus-visible {\n",
       "        outline: 0.1875rem solid var(--mne-button-bg-color) !important;\n",
       "        outline-offset: 0.1875rem !important;\n",
       "    }\n",
       "}\n",
       "</style>\n",
       "\n",
       "\n",
       "\n",
       "<table class=\"table mne-repr-table\">\n",
       "    \n",
       "\n",
       "\n",
       "\n",
       "\n",
       "\n",
       "\n",
       "\n",
       "<tr class=\"mne-repr-section-header general-e9271d3a-dd5d-4bed-bede-9e6b8ee4da3b\"\n",
       "     title=\"Hide section\" \n",
       "    onclick=\"toggleVisibility('general-e9271d3a-dd5d-4bed-bede-9e6b8ee4da3b')\">\n",
       "    <th class=\"mne-repr-section-toggle\">\n",
       "        <button >\n",
       "            <svg xmlns=\"http://www.w3.org/2000/svg\" viewBox=\"0 0 512 512\"><!--!Font Awesome Free 6.6.0 by @fontawesome - https://fontawesome.com License - https://fontawesome.com/license/free Copyright 2024 Fonticons, Inc.--><path d=\"M233.4 406.6c12.5 12.5 32.8 12.5 45.3 0l192-192c12.5-12.5 12.5-32.8 0-45.3s-32.8-12.5-45.3 0L256 338.7 86.6 169.4c-12.5-12.5-32.8-12.5-45.3 0s-12.5 32.8 0 45.3l192 192z\"/></svg>\n",
       "        </button>\n",
       "    </th>\n",
       "    <th colspan=\"2\">\n",
       "        <strong>General</strong>\n",
       "    </th>\n",
       "</tr>\n",
       "\n",
       "\n",
       "<tr class=\"repr-element general-e9271d3a-dd5d-4bed-bede-9e6b8ee4da3b \">\n",
       "    <td class=\"mne-repr-section-toggle\"></td>\n",
       "    <td>Filename(s)</td>\n",
       "    <td>\n",
       "        \n",
       "        20250410_110557_meg.fif\n",
       "        <br />\n",
       "        \n",
       "        20250410_110557_meg-1.fif\n",
       "        \n",
       "        \n",
       "    </td>\n",
       "</tr>\n",
       "\n",
       "<tr class=\"repr-element general-e9271d3a-dd5d-4bed-bede-9e6b8ee4da3b \">\n",
       "    <td class=\"mne-repr-section-toggle\"></td>\n",
       "    <td>MNE object type</td>\n",
       "    <td>Raw</td>\n",
       "</tr>\n",
       "<tr class=\"repr-element general-e9271d3a-dd5d-4bed-bede-9e6b8ee4da3b \">\n",
       "    <td class=\"mne-repr-section-toggle\"></td>\n",
       "    <td>Measurement date</td>\n",
       "    \n",
       "    <td>Unknown</td>\n",
       "    \n",
       "</tr>\n",
       "<tr class=\"repr-element general-e9271d3a-dd5d-4bed-bede-9e6b8ee4da3b \">\n",
       "    <td class=\"mne-repr-section-toggle\"></td>\n",
       "    <td>Participant</td>\n",
       "    \n",
       "    <td>Unknown</td>\n",
       "    \n",
       "</tr>\n",
       "<tr class=\"repr-element general-e9271d3a-dd5d-4bed-bede-9e6b8ee4da3b \">\n",
       "    <td class=\"mne-repr-section-toggle\"></td>\n",
       "    <td>Experimenter</td>\n",
       "    \n",
       "    <td>Unknown</td>\n",
       "    \n",
       "</tr>\n",
       "    \n",
       "\n",
       "\n",
       "\n",
       "\n",
       "\n",
       "\n",
       "\n",
       "<tr class=\"mne-repr-section-header acquisition-7165bd4b-d02d-4b1c-9fed-d7200a133c26\"\n",
       "     title=\"Hide section\" \n",
       "    onclick=\"toggleVisibility('acquisition-7165bd4b-d02d-4b1c-9fed-d7200a133c26')\">\n",
       "    <th class=\"mne-repr-section-toggle\">\n",
       "        <button >\n",
       "            <svg xmlns=\"http://www.w3.org/2000/svg\" viewBox=\"0 0 512 512\"><!--!Font Awesome Free 6.6.0 by @fontawesome - https://fontawesome.com License - https://fontawesome.com/license/free Copyright 2024 Fonticons, Inc.--><path d=\"M233.4 406.6c12.5 12.5 32.8 12.5 45.3 0l192-192c12.5-12.5 12.5-32.8 0-45.3s-32.8-12.5-45.3 0L256 338.7 86.6 169.4c-12.5-12.5-32.8-12.5-45.3 0s-12.5 32.8 0 45.3l192 192z\"/></svg>\n",
       "        </button>\n",
       "    </th>\n",
       "    <th colspan=\"2\">\n",
       "        <strong>Acquisition</strong>\n",
       "    </th>\n",
       "</tr>\n",
       "\n",
       "\n",
       "<tr class=\"repr-element acquisition-7165bd4b-d02d-4b1c-9fed-d7200a133c26 \">\n",
       "    <td class=\"mne-repr-section-toggle\"></td>\n",
       "    <td>Duration</td>\n",
       "    <td>00:34:14 (HH:MM:SS)</td>\n",
       "</tr>\n",
       "\n",
       "\n",
       "\n",
       "\n",
       "\n",
       "\n",
       "\n",
       "\n",
       "<tr class=\"repr-element acquisition-7165bd4b-d02d-4b1c-9fed-d7200a133c26 \">\n",
       "    <td class=\"mne-repr-section-toggle\"></td>\n",
       "    <td>Sampling frequency</td>\n",
       "    <td>750.00 Hz</td>\n",
       "</tr>\n",
       "\n",
       "\n",
       "<tr class=\"repr-element acquisition-7165bd4b-d02d-4b1c-9fed-d7200a133c26 \">\n",
       "    <td class=\"mne-repr-section-toggle\"></td>\n",
       "    <td>Time points</td>\n",
       "    <td>1,539,808</td>\n",
       "</tr>\n",
       "\n",
       "\n",
       "    \n",
       "\n",
       "\n",
       "\n",
       "\n",
       "\n",
       "\n",
       "\n",
       "<tr class=\"mne-repr-section-header channels-7f450de0-aa17-4fbf-80c3-af0bba74c9b9\"\n",
       "     title=\"Hide section\" \n",
       "    onclick=\"toggleVisibility('channels-7f450de0-aa17-4fbf-80c3-af0bba74c9b9')\">\n",
       "    <th class=\"mne-repr-section-toggle\">\n",
       "        <button >\n",
       "            <svg xmlns=\"http://www.w3.org/2000/svg\" viewBox=\"0 0 512 512\"><!--!Font Awesome Free 6.6.0 by @fontawesome - https://fontawesome.com License - https://fontawesome.com/license/free Copyright 2024 Fonticons, Inc.--><path d=\"M233.4 406.6c12.5 12.5 32.8 12.5 45.3 0l192-192c12.5-12.5 12.5-32.8 0-45.3s-32.8-12.5-45.3 0L256 338.7 86.6 169.4c-12.5-12.5-32.8-12.5-45.3 0s-12.5 32.8 0 45.3l192 192z\"/></svg>\n",
       "        </button>\n",
       "    </th>\n",
       "    <th colspan=\"2\">\n",
       "        <strong>Channels</strong>\n",
       "    </th>\n",
       "</tr>\n",
       "\n",
       "\n",
       "    \n",
       "<tr class=\"repr-element channels-7f450de0-aa17-4fbf-80c3-af0bba74c9b9 \">\n",
       "    <td class=\"mne-repr-section-toggle\"></td>\n",
       "    <td>Magnetometers</td>\n",
       "    <td>\n",
       "        <button class=\"mne-ch-names-btn sd-sphinx-override sd-btn sd-btn-info sd-text-wrap sd-shadow-sm\" onclick=\"alert('Good Magnetometers:\\n\\nF1&nbsp;A1&nbsp;Z, F1&nbsp;A1&nbsp;Y, F1&nbsp;A1&nbsp;X, F3&nbsp;A3&nbsp;Z, F3&nbsp;A3&nbsp;Y, F3&nbsp;A3&nbsp;X, F5&nbsp;A6&nbsp;Z, F5&nbsp;A6&nbsp;Y, F5&nbsp;A6&nbsp;X, F7&nbsp;C3&nbsp;Z, F7&nbsp;C3&nbsp;Y, F7&nbsp;C3&nbsp;X, F9&nbsp;A4&nbsp;Z, F9&nbsp;A4&nbsp;Y, F9&nbsp;A4&nbsp;X, F11&nbsp;A8&nbsp;Z, F11&nbsp;A8&nbsp;Y, F11&nbsp;A8&nbsp;X, C1&nbsp;A7&nbsp;Z, C1&nbsp;A7&nbsp;Y, C1&nbsp;A7&nbsp;X, C3&nbsp;C2&nbsp;Z, C3&nbsp;C2&nbsp;Y, C3&nbsp;C2&nbsp;X, C5&nbsp;C1&nbsp;Z, C5&nbsp;C1&nbsp;Y, C5&nbsp;C1&nbsp;X, C7&nbsp;E4&nbsp;Z, C7&nbsp;E4&nbsp;Y, C7&nbsp;E4&nbsp;X, P1&nbsp;E8&nbsp;Z, P1&nbsp;E8&nbsp;Y, P1&nbsp;E8&nbsp;X, P3&nbsp;E1&nbsp;Z, P3&nbsp;E1&nbsp;Y, P3&nbsp;E1&nbsp;X, P5&nbsp;C6&nbsp;Z, P5&nbsp;C6&nbsp;Y, P5&nbsp;C6&nbsp;X, P7&nbsp;E7&nbsp;Z, P7&nbsp;E7&nbsp;Y, P7&nbsp;E7&nbsp;X, P9&nbsp;E3&nbsp;Z, P9&nbsp;E3&nbsp;Y, P9&nbsp;E3&nbsp;X, P11&nbsp;E6&nbsp;Z, P11&nbsp;E6&nbsp;Y, P11&nbsp;E6&nbsp;X, O1&nbsp;E5&nbsp;Z, O1&nbsp;E5&nbsp;Y, O1&nbsp;E5&nbsp;X, O3&nbsp;G6&nbsp;Z, O3&nbsp;G6&nbsp;Y, O3&nbsp;G6&nbsp;X, O5&nbsp;G4&nbsp;Z, O5&nbsp;G4&nbsp;Y, O5&nbsp;G4&nbsp;X, O7&nbsp;G2&nbsp;Z, O7&nbsp;G2&nbsp;Y, O7&nbsp;G2&nbsp;X, O9&nbsp;G3&nbsp;Z, O9&nbsp;G3&nbsp;Y, O9&nbsp;G3&nbsp;X, T1&nbsp;C7&nbsp;Z, T1&nbsp;C7&nbsp;Y, T1&nbsp;C7&nbsp;X, T3&nbsp;C4&nbsp;Z, T3&nbsp;C4&nbsp;Y, T3&nbsp;C4&nbsp;X, T5&nbsp;C5&nbsp;Z, T5&nbsp;C5&nbsp;Y, T5&nbsp;C5&nbsp;X, T7&nbsp;C8&nbsp;Z, T7&nbsp;C8&nbsp;Y, T7&nbsp;C8&nbsp;X, T9&nbsp;G1&nbsp;Z, T9&nbsp;G1&nbsp;Y, T9&nbsp;G1&nbsp;X, T11&nbsp;G7&nbsp;Z, T11&nbsp;G7&nbsp;Y, T11&nbsp;G7&nbsp;X, T13&nbsp;G8&nbsp;Z, T13&nbsp;G8&nbsp;Y, T13&nbsp;G8&nbsp;X, F2&nbsp;B7&nbsp;Z, F2&nbsp;B7&nbsp;Y, F2&nbsp;B7&nbsp;X, F4&nbsp;B6&nbsp;Z, F4&nbsp;B6&nbsp;Y, F4&nbsp;B6&nbsp;X, F6&nbsp;B8&nbsp;Z, F6&nbsp;B8&nbsp;Y, F6&nbsp;B8&nbsp;X, F8&nbsp;B1&nbsp;Z, F8&nbsp;B1&nbsp;Y, F8&nbsp;B1&nbsp;X, F10&nbsp;B3&nbsp;Z, F10&nbsp;B3&nbsp;Y, F10&nbsp;B3&nbsp;X, F12&nbsp;D8&nbsp;Z, F12&nbsp;D8&nbsp;Y, F12&nbsp;D8&nbsp;X, C2&nbsp;B5&nbsp;Z, C2&nbsp;B5&nbsp;Y, C2&nbsp;B5&nbsp;X, C4&nbsp;D7&nbsp;Z, C4&nbsp;D7&nbsp;Y, C4&nbsp;D7&nbsp;X, C6&nbsp;D4&nbsp;Z, C6&nbsp;D4&nbsp;Y, C6&nbsp;D4&nbsp;X, C8&nbsp;F7&nbsp;Z, C8&nbsp;F7&nbsp;Y, C8&nbsp;F7&nbsp;X, P2&nbsp;F3&nbsp;Z, P2&nbsp;F3&nbsp;Y, P2&nbsp;F3&nbsp;X, P4&nbsp;D3&nbsp;Z, P4&nbsp;D3&nbsp;Y, P4&nbsp;D3&nbsp;X, P6&nbsp;F2&nbsp;Z, P6&nbsp;F2&nbsp;Y, P6&nbsp;F2&nbsp;X, P8&nbsp;F1&nbsp;Z, P8&nbsp;F1&nbsp;Y, P8&nbsp;F1&nbsp;X, P10&nbsp;F5&nbsp;Z, P10&nbsp;F5&nbsp;Y, P10&nbsp;F5&nbsp;X, P12&nbsp;F4&nbsp;Z, P12&nbsp;F4&nbsp;Y, P12&nbsp;F4&nbsp;X, O2&nbsp;H3&nbsp;Z, O2&nbsp;H3&nbsp;Y, O2&nbsp;H3&nbsp;X, O4&nbsp;H8&nbsp;Z, O4&nbsp;H8&nbsp;Y, O4&nbsp;H8&nbsp;X, O6&nbsp;H1&nbsp;Z, O6&nbsp;H1&nbsp;Y, O6&nbsp;H1&nbsp;X, O8&nbsp;H5&nbsp;Z, O8&nbsp;H5&nbsp;Y, O8&nbsp;H5&nbsp;X, O10&nbsp;H7&nbsp;Z, O10&nbsp;H7&nbsp;Y, O10&nbsp;H7&nbsp;X, T2&nbsp;B2&nbsp;Z, T2&nbsp;B2&nbsp;Y, T2&nbsp;B2&nbsp;X, T4&nbsp;D1&nbsp;Z, T4&nbsp;D1&nbsp;Y, T4&nbsp;D1&nbsp;X, T6&nbsp;D6&nbsp;Z, T6&nbsp;D6&nbsp;Y, T6&nbsp;D6&nbsp;X, T8&nbsp;D2&nbsp;Z, T8&nbsp;D2&nbsp;Y, T8&nbsp;D2&nbsp;X, T10&nbsp;D5&nbsp;Z, T10&nbsp;D5&nbsp;Y, T10&nbsp;D5&nbsp;X, T12&nbsp;H2&nbsp;Z, T12&nbsp;H2&nbsp;Y, T12&nbsp;H2&nbsp;X, T14&nbsp;H6&nbsp;Z, T14&nbsp;H6&nbsp;Y, T14&nbsp;H6&nbsp;X, Fpz&nbsp;A2&nbsp;Z, Fpz&nbsp;A2&nbsp;Y, Fpz&nbsp;A2&nbsp;X, AFz&nbsp;B4&nbsp;Z, AFz&nbsp;B4&nbsp;Y, AFz&nbsp;B4&nbsp;X, Fz&nbsp;A5&nbsp;Z, Fz&nbsp;A5&nbsp;Y, Fz&nbsp;A5&nbsp;X, FCz&nbsp;F6&nbsp;Z, FCz&nbsp;F6&nbsp;Y, FCz&nbsp;F6&nbsp;X, Cz&nbsp;E2&nbsp;Z, Cz&nbsp;E2&nbsp;Y, Cz&nbsp;E2&nbsp;X, Pz&nbsp;F8&nbsp;Z, Pz&nbsp;F8&nbsp;Y, Pz&nbsp;F8&nbsp;X, Oz&nbsp;G5&nbsp;Z, Oz&nbsp;G5&nbsp;Y, Oz&nbsp;G5&nbsp;X, Iz&nbsp;H4&nbsp;Z, Iz&nbsp;H4&nbsp;Y, Iz&nbsp;H4&nbsp;X')\" title=\"(Click to open in popup)&#13;&#13;F1&nbsp;A1&nbsp;Z, F1&nbsp;A1&nbsp;Y, F1&nbsp;A1&nbsp;X, F3&nbsp;A3&nbsp;Z, F3&nbsp;A3&nbsp;Y, F3&nbsp;A3&nbsp;X, F5&nbsp;A6&nbsp;Z, F5&nbsp;A6&nbsp;Y, F5&nbsp;A6&nbsp;X, F7&nbsp;C3&nbsp;Z, F7&nbsp;C3&nbsp;Y, F7&nbsp;C3&nbsp;X, F9&nbsp;A4&nbsp;Z, F9&nbsp;A4&nbsp;Y, F9&nbsp;A4&nbsp;X, F11&nbsp;A8&nbsp;Z, F11&nbsp;A8&nbsp;Y, F11&nbsp;A8&nbsp;X, C1&nbsp;A7&nbsp;Z, C1&nbsp;A7&nbsp;Y, C1&nbsp;A7&nbsp;X, C3&nbsp;C2&nbsp;Z, C3&nbsp;C2&nbsp;Y, C3&nbsp;C2&nbsp;X, C5&nbsp;C1&nbsp;Z, C5&nbsp;C1&nbsp;Y, C5&nbsp;C1&nbsp;X, C7&nbsp;E4&nbsp;Z, C7&nbsp;E4&nbsp;Y, C7&nbsp;E4&nbsp;X, P1&nbsp;E8&nbsp;Z, P1&nbsp;E8&nbsp;Y, P1&nbsp;E8&nbsp;X, P3&nbsp;E1&nbsp;Z, P3&nbsp;E1&nbsp;Y, P3&nbsp;E1&nbsp;X, P5&nbsp;C6&nbsp;Z, P5&nbsp;C6&nbsp;Y, P5&nbsp;C6&nbsp;X, P7&nbsp;E7&nbsp;Z, P7&nbsp;E7&nbsp;Y, P7&nbsp;E7&nbsp;X, P9&nbsp;E3&nbsp;Z, P9&nbsp;E3&nbsp;Y, P9&nbsp;E3&nbsp;X, P11&nbsp;E6&nbsp;Z, P11&nbsp;E6&nbsp;Y, P11&nbsp;E6&nbsp;X, O1&nbsp;E5&nbsp;Z, O1&nbsp;E5&nbsp;Y, O1&nbsp;E5&nbsp;X, O3&nbsp;G6&nbsp;Z, O3&nbsp;G6&nbsp;Y, O3&nbsp;G6&nbsp;X, O5&nbsp;G4&nbsp;Z, O5&nbsp;G4&nbsp;Y, O5&nbsp;G4&nbsp;X, O7&nbsp;G2&nbsp;Z, O7&nbsp;G2&nbsp;Y, O7&nbsp;G2&nbsp;X, O9&nbsp;G3&nbsp;Z, O9&nbsp;G3&nbsp;Y, O9&nbsp;G3&nbsp;X, T1&nbsp;C7&nbsp;Z, T1&nbsp;C7&nbsp;Y, T1&nbsp;C7&nbsp;X, T3&nbsp;C4&nbsp;Z, T3&nbsp;C4&nbsp;Y, T3&nbsp;C4&nbsp;X, T5&nbsp;C5&nbsp;Z, T5&nbsp;C5&nbsp;Y, T5&nbsp;C5&nbsp;X, T7&nbsp;C8&nbsp;Z, T7&nbsp;C8&nbsp;Y, T7&nbsp;C8&nbsp;X, T9&nbsp;G1&nbsp;Z, T9&nbsp;G1&nbsp;Y, T9&nbsp;G1&nbsp;X, T11&nbsp;G7&nbsp;Z, T11&nbsp;G7&nbsp;Y, T11&nbsp;G7&nbsp;X, T13&nbsp;G8&nbsp;Z, T13&nbsp;G8&nbsp;Y, T13&nbsp;G8&nbsp;X, F2&nbsp;B7&nbsp;Z, F2&nbsp;B7&nbsp;Y, F2&nbsp;B7&nbsp;X, F4&nbsp;B6&nbsp;Z, F4&nbsp;B6&nbsp;Y, F4&nbsp;B6&nbsp;X, F6&nbsp;B8&nbsp;Z, F6&nbsp;B8&nbsp;Y, F6&nbsp;B8&nbsp;X, F8&nbsp;B1&nbsp;Z, F8&nbsp;B1&nbsp;Y, F8&nbsp;B1&nbsp;X, F10&nbsp;B3&nbsp;Z, F10&nbsp;B3&nbsp;Y, F10&nbsp;B3&nbsp;X, F12&nbsp;D8&nbsp;Z, F12&nbsp;D8&nbsp;Y, F12&nbsp;D8&nbsp;X, C2&nbsp;B5&nbsp;Z, C2&nbsp;B5&nbsp;Y, C2&nbsp;B5&nbsp;X, C4&nbsp;D7&nbsp;Z, C4&nbsp;D7&nbsp;Y, C4&nbsp;D7&nbsp;X, C6&nbsp;D4&nbsp;Z, C6&nbsp;D4&nbsp;Y, C6&nbsp;D4&nbsp;X, C8&nbsp;F7&nbsp;Z, C8&nbsp;F7&nbsp;Y, C8&nbsp;F7&nbsp;X, P2&nbsp;F3&nbsp;Z, P2&nbsp;F3&nbsp;Y, P2&nbsp;F3&nbsp;X, P4&nbsp;D3&nbsp;Z, P4&nbsp;D3&nbsp;Y, P4&nbsp;D3&nbsp;X, P6&nbsp;F2&nbsp;Z, P6&nbsp;F2&nbsp;Y, P6&nbsp;F2&nbsp;X, P8&nbsp;F1&nbsp;Z, P8&nbsp;F1&nbsp;Y, P8&nbsp;F1&nbsp;X, P10&nbsp;F5&nbsp;Z, P10&nbsp;F5&nbsp;Y, P10&nbsp;F5&nbsp;X, P12&nbsp;F4&nbsp;Z, P12&nbsp;F4&nbsp;Y, P12&nbsp;F4&nbsp;X, O2&nbsp;H3&nbsp;Z, O2&nbsp;H3&nbsp;Y, O2&nbsp;H3&nbsp;X, O4&nbsp;H8&nbsp;Z, O4&nbsp;H8&nbsp;Y, O4&nbsp;H8&nbsp;X, O6&nbsp;H1&nbsp;Z, O6&nbsp;H1&nbsp;Y, O6&nbsp;H1&nbsp;X, O8&nbsp;H5&nbsp;Z, O8&nbsp;H5&nbsp;Y, O8&nbsp;H5&nbsp;X, O10&nbsp;H7&nbsp;Z, O10&nbsp;H7&nbsp;Y, O10&nbsp;H7&nbsp;X, T2&nbsp;B2&nbsp;Z, T2&nbsp;B2&nbsp;Y, T2&nbsp;B2&nbsp;X, T4&nbsp;D1&nbsp;Z, T4&nbsp;D1&nbsp;Y, T4&nbsp;D1&nbsp;X, T6&nbsp;D6&nbsp;Z, T6&nbsp;D6&nbsp;Y, T6&nbsp;D6&nbsp;X, T8&nbsp;D2&nbsp;Z, T8&nbsp;D2&nbsp;Y, T8&nbsp;D2&nbsp;X, T10&nbsp;D5&nbsp;Z, T10&nbsp;D5&nbsp;Y, T10&nbsp;D5&nbsp;X, T12&nbsp;H2&nbsp;Z, T12&nbsp;H2&nbsp;Y, T12&nbsp;H2&nbsp;X, T14&nbsp;H6&nbsp;Z, T14&nbsp;H6&nbsp;Y, T14&nbsp;H6&nbsp;X, Fpz&nbsp;A2&nbsp;Z, Fpz&nbsp;A2&nbsp;Y, Fpz&nbsp;A2&nbsp;X, AFz&nbsp;B4&nbsp;Z, AFz&nbsp;B4&nbsp;Y, AFz&nbsp;B4&nbsp;X, Fz&nbsp;A5&nbsp;Z, Fz&nbsp;A5&nbsp;Y, Fz&nbsp;A5&nbsp;X, FCz&nbsp;F6&nbsp;Z, FCz&nbsp;F6&nbsp;Y, FCz&nbsp;F6&nbsp;X, Cz&nbsp;E2&nbsp;Z, Cz&nbsp;E2&nbsp;Y, Cz&nbsp;E2&nbsp;X, Pz&nbsp;F8&nbsp;Z, Pz&nbsp;F8&nbsp;Y, Pz&nbsp;F8&nbsp;X, Oz&nbsp;G5&nbsp;Z, Oz&nbsp;G5&nbsp;Y, Oz&nbsp;G5&nbsp;X, Iz&nbsp;H4&nbsp;Z, Iz&nbsp;H4&nbsp;Y, Iz&nbsp;H4&nbsp;X\">\n",
       "            192\n",
       "        </button>\n",
       "\n",
       "        \n",
       "    </td>\n",
       "</tr>\n",
       "\n",
       "    \n",
       "<tr class=\"repr-element channels-7f450de0-aa17-4fbf-80c3-af0bba74c9b9 \">\n",
       "    <td class=\"mne-repr-section-toggle\"></td>\n",
       "    <td>Stimulus</td>\n",
       "    <td>\n",
       "        <button class=\"mne-ch-names-btn sd-sphinx-override sd-btn sd-btn-info sd-text-wrap sd-shadow-sm\" onclick=\"alert('Good Stimulus:\\n\\nTrigger&nbsp;1, Trigger&nbsp;2, Trigger&nbsp;3, Trigger&nbsp;4, Trigger&nbsp;5, Trigger&nbsp;6, Trigger&nbsp;7, Trigger&nbsp;8, Trigger&nbsp;9, Trigger&nbsp;10, Trigger&nbsp;11, BNC&nbsp;1&nbsp;Z, BNC&nbsp;2&nbsp;Z, BNC&nbsp;3&nbsp;Z, BNC&nbsp;4&nbsp;Z, BNC&nbsp;5&nbsp;Z, BNC&nbsp;6&nbsp;Z, BNC&nbsp;7&nbsp;Z, BNC&nbsp;8&nbsp;Z, BNC&nbsp;9&nbsp;Z, BNC&nbsp;10&nbsp;Z, BNC&nbsp;11&nbsp;Z, BNC&nbsp;12&nbsp;Z, BNC&nbsp;13&nbsp;Z, BNC&nbsp;14&nbsp;Z, BNC&nbsp;15&nbsp;Z, BNC&nbsp;16&nbsp;Z')\" title=\"(Click to open in popup)&#13;&#13;Trigger&nbsp;1, Trigger&nbsp;2, Trigger&nbsp;3, Trigger&nbsp;4, Trigger&nbsp;5, Trigger&nbsp;6, Trigger&nbsp;7, Trigger&nbsp;8, Trigger&nbsp;9, Trigger&nbsp;10, Trigger&nbsp;11, BNC&nbsp;1&nbsp;Z, BNC&nbsp;2&nbsp;Z, BNC&nbsp;3&nbsp;Z, BNC&nbsp;4&nbsp;Z, BNC&nbsp;5&nbsp;Z, BNC&nbsp;6&nbsp;Z, BNC&nbsp;7&nbsp;Z, BNC&nbsp;8&nbsp;Z, BNC&nbsp;9&nbsp;Z, BNC&nbsp;10&nbsp;Z, BNC&nbsp;11&nbsp;Z, BNC&nbsp;12&nbsp;Z, BNC&nbsp;13&nbsp;Z, BNC&nbsp;14&nbsp;Z, BNC&nbsp;15&nbsp;Z, BNC&nbsp;16&nbsp;Z\">\n",
       "            27\n",
       "        </button>\n",
       "\n",
       "        \n",
       "    </td>\n",
       "</tr>\n",
       "\n",
       "\n",
       "<tr class=\"repr-element channels-7f450de0-aa17-4fbf-80c3-af0bba74c9b9 \">\n",
       "    <td class=\"mne-repr-section-toggle\"></td>\n",
       "    <td>Head & sensor digitization</td>\n",
       "    \n",
       "    <td>15603 points</td>\n",
       "    \n",
       "</tr>\n",
       "    \n",
       "\n",
       "\n",
       "\n",
       "\n",
       "\n",
       "\n",
       "\n",
       "<tr class=\"mne-repr-section-header filters-293d4108-c84a-4325-8e88-9c9a3510fef3\"\n",
       "     title=\"Hide section\" \n",
       "    onclick=\"toggleVisibility('filters-293d4108-c84a-4325-8e88-9c9a3510fef3')\">\n",
       "    <th class=\"mne-repr-section-toggle\">\n",
       "        <button >\n",
       "            <svg xmlns=\"http://www.w3.org/2000/svg\" viewBox=\"0 0 512 512\"><!--!Font Awesome Free 6.6.0 by @fontawesome - https://fontawesome.com License - https://fontawesome.com/license/free Copyright 2024 Fonticons, Inc.--><path d=\"M233.4 406.6c12.5 12.5 32.8 12.5 45.3 0l192-192c12.5-12.5 12.5-32.8 0-45.3s-32.8-12.5-45.3 0L256 338.7 86.6 169.4c-12.5-12.5-32.8-12.5-45.3 0s-12.5 32.8 0 45.3l192 192z\"/></svg>\n",
       "        </button>\n",
       "    </th>\n",
       "    <th colspan=\"2\">\n",
       "        <strong>Filters</strong>\n",
       "    </th>\n",
       "</tr>\n",
       "\n",
       "\n",
       "<tr class=\"repr-element filters-293d4108-c84a-4325-8e88-9c9a3510fef3 \">\n",
       "    <td class=\"mne-repr-section-toggle\"></td>\n",
       "    <td>Highpass</td>\n",
       "    <td>0.00 Hz</td>\n",
       "</tr>\n",
       "\n",
       "\n",
       "<tr class=\"repr-element filters-293d4108-c84a-4325-8e88-9c9a3510fef3 \">\n",
       "    <td class=\"mne-repr-section-toggle\"></td>\n",
       "    <td>Lowpass</td>\n",
       "    <td>250.00 Hz</td>\n",
       "</tr>\n",
       "\n",
       "\n",
       "</table>"
      ],
      "text/plain": [
       "<Raw | 20250410_110557_meg.fif, 219 x 1539808 (2053.1 s), ~2.52 GiB, data loaded>"
      ]
     },
     "execution_count": 5,
     "metadata": {},
     "output_type": "execute_result"
    }
   ],
   "source": [
    "desired_sfreq = 750\n",
    "current_sfreq = raw.info['sfreq']\n",
    "\n",
    "lowpass_freq = desired_sfreq / 3.0\n",
    "raw_resampled = raw.copy().filter(l_freq=None, h_freq=lowpass_freq)\n",
    "\n",
    "raw_resampled.resample(sfreq=desired_sfreq)"
   ]
  },
  {
   "cell_type": "markdown",
   "id": "09a09efa-639f-46f2-aed0-72a789c4b189",
   "metadata": {},
   "source": [
    "#### As a final step, the resampled data will be saved"
   ]
  },
  {
   "cell_type": "code",
   "execution_count": 6,
   "id": "506811dd-a58d-43fe-afe8-21cbd9dddb4d",
   "metadata": {},
   "outputs": [
    {
     "name": "stderr",
     "output_type": "stream",
     "text": [
      "C:\\Users\\rakshita\\AppData\\Local\\Temp\\ipykernel_16708\\649465886.py:1: RuntimeWarning: This filename (C:\\Users\\rakshita\\Documents\\Cerca_raw_files\\20250410_110557_meg_rs.fif) does not conform to MNE naming conventions. All raw files should end with raw.fif, raw_sss.fif, raw_tsss.fif, _meg.fif, _eeg.fif, _ieeg.fif, raw.fif.gz, raw_sss.fif.gz, raw_tsss.fif.gz, _meg.fif.gz, _eeg.fif.gz or _ieeg.fif.gz\n",
      "  raw_resampled.save(raw_resampled_fname, overwrite=True)\n"
     ]
    },
    {
     "name": "stdout",
     "output_type": "stream",
     "text": [
      "Writing C:\\Users\\rakshita\\Documents\\Cerca_raw_files\\20250410_110557_meg_rs.fif\n",
      "Closing C:\\Users\\rakshita\\Documents\\Cerca_raw_files\\20250410_110557_meg_rs.fif\n",
      "[done]\n"
     ]
    },
    {
     "data": {
      "text/plain": [
       "[WindowsPath('C:/Users/rakshita/Documents/Cerca_raw_files/20250410_110557_meg_rs.fif')]"
      ]
     },
     "execution_count": 6,
     "metadata": {},
     "output_type": "execute_result"
    }
   ],
   "source": [
    "raw_resampled.save(raw_resampled_fname, overwrite=True)"
   ]
  },
  {
   "cell_type": "markdown",
   "id": "a3e814b4-c4c0-4e6f-9b37-ddf287b1fc25",
   "metadata": {},
   "source": [
    "#### To verify that the data has been resampled, print the following line and check the sampling frequency (sfreq) of the `.fif` file.\n"
   ]
  },
  {
   "cell_type": "code",
   "execution_count": 7,
   "id": "3f38f5dc-026b-4e80-8b09-5f69ec080a39",
   "metadata": {},
   "outputs": [
    {
     "name": "stdout",
     "output_type": "stream",
     "text": [
      "<Info | 13 non-empty values\n",
      " bads: []\n",
      " ch_names: Trigger 1, Trigger 2, Trigger 3, Trigger 4, Trigger 5, Trigger ...\n",
      " chs: 27 Stimulus, 192 Magnetometers\n",
      " custom_ref_applied: False\n",
      " dev_head_t: MEG device -> head transform\n",
      " device_info: 2 items (dict)\n",
      " dig: 15603 items (3 Cardinal, 15600 Extra)\n",
      " file_id: 4 items (dict)\n",
      " highpass: 0.0 Hz\n",
      " line_freq: 0.0\n",
      " lowpass: 250.0 Hz\n",
      " meas_date: unspecified\n",
      " meas_id: 4 items (dict)\n",
      " nchan: 219\n",
      " projs: []\n",
      " sfreq: 750.0 Hz\n",
      ">\n"
     ]
    }
   ],
   "source": [
    "print(raw_resampled.info)"
   ]
  },
  {
   "cell_type": "markdown",
   "id": "999bd730-0735-4a12-98dd-82db4932df8d",
   "metadata": {},
   "source": [
    "#### From now we will be working on the resampled data. Data with the 1500 Hz sample rate can be archived as they will no longer be used."
   ]
  },
  {
   "cell_type": "markdown",
   "id": "6bba924b-a9c9-4fc2-943c-e9a03bb0f6d3",
   "metadata": {},
   "source": [
    "## Converting to MEG BIDS format"
   ]
  },
  {
   "cell_type": "markdown",
   "id": "d0a0f124-b200-42a9-be15-c8e301f95f61",
   "metadata": {},
   "source": [
    "#### Read in the resampled data"
   ]
  },
  {
   "cell_type": "code",
   "execution_count": 8,
   "id": "23d2944d-4192-47f7-8a23-3abde2376756",
   "metadata": {},
   "outputs": [
    {
     "name": "stdout",
     "output_type": "stream",
     "text": [
      "Opening raw data file C:/Users/rakshita/Documents/Cerca_raw_files\\20250410_110557_meg_rs.fif...\n"
     ]
    },
    {
     "name": "stderr",
     "output_type": "stream",
     "text": [
      "C:\\Users\\rakshita\\AppData\\Local\\Temp\\ipykernel_16708\\1265112872.py:2: RuntimeWarning: This filename (C:/Users/rakshita/Documents/Cerca_raw_files\\20250410_110557_meg_rs.fif) does not conform to MNE naming conventions. All raw files should end with raw.fif, raw_sss.fif, raw_tsss.fif, _meg.fif, _eeg.fif, _ieeg.fif, raw.fif.gz, raw_sss.fif.gz, raw_tsss.fif.gz, _meg.fif.gz, _eeg.fif.gz or _ieeg.fif.gz\n",
      "  raw = mne.io.read_raw(raw_resampled_fname)\n"
     ]
    },
    {
     "name": "stdout",
     "output_type": "stream",
     "text": [
      "    Range : 0 ... 1539807 =      0.000 ...  2053.076 secs\n",
      "Ready.\n"
     ]
    }
   ],
   "source": [
    "del raw, raw_resampled\n",
    "raw = mne.io.read_raw(raw_resampled_fname)"
   ]
  },
  {
   "cell_type": "markdown",
   "id": "a0c3477a-3128-4e80-abde-499060e3cfb0",
   "metadata": {},
   "source": [
    "This code extracts the original trigger channels (Trigger 5 to Trigger 11) from the raw data. Each trigger channel represents a separate digital line. To reconstruct the full event information, the triggers are combined into a single digital trigger channel using a 4n4n weighting scheme, where nn is the channel index. Rising edges are detected to mark trigger onsets, and an MNE-compatible events array is created for subsequent analysis."
   ]
  },
  {
   "cell_type": "markdown",
   "id": "e38d5f44-3525-4a76-82e0-104228dbb902",
   "metadata": {},
   "source": [
    "## Finding Triggers and write a FIF file"
   ]
  },
  {
   "cell_type": "markdown",
   "id": "6361e9f4-8f0b-4635-9099-d7bf45c7386c",
   "metadata": {},
   "source": [
    "The BIDS data will include trigger information.The following code extracts the original trigger channels (Trigger 5 to Trigger 11) from the raw data. Each trigger channel represents a separate digital line. To reconstruct the full event information, the triggers are combined into a existing spare single digital trigger channel ('Trigger 1') using a $4^n$ weighting scheme, where $n$ is the channel index and an MNE-compatible events array is created for subsequent analysis. All the events extracted from the trigger channel are also included in an additional `.fif`file. "
   ]
  },
  {
   "cell_type": "code",
   "execution_count": 9,
   "id": "8004956b-d8b5-4814-9186-649c72c5c70b",
   "metadata": {},
   "outputs": [
    {
     "name": "stdout",
     "output_type": "stream",
     "text": [
      "Reading 0 ... 1539807  =      0.000 ...  2053.076 secs...\n",
      "NOTE: pick_channels() is a legacy function. New code should use inst.pick(...).\n",
      "1365 events found on stim channel Trigger 1\n",
      "Event IDs: [   4   16   64   68   80 1024 1028 1040 4096]\n",
      "[[87906     0    68]\n",
      " [90367     0    16]\n",
      " [91270     0    64]\n",
      " [91674     0  1040]\n",
      " [91963     0  4096]\n",
      " [94080     0    16]\n",
      " [94982     0    64]\n",
      " [95412     0  1040]\n",
      " [95725     0  4096]\n",
      " [97880     0    16]]\n"
     ]
    },
    {
     "name": "stderr",
     "output_type": "stream",
     "text": [
      "C:\\Users\\rakshita\\AppData\\Local\\Temp\\ipykernel_16708\\1797872278.py:18: RuntimeWarning: This filename (C:\\Users\\rakshita\\Documents\\Cerca_raw_files\\20250410_110557_meg_event.fif) does not conform to MNE naming conventions. All events files should end with .eve, -eve.fif, -eve.fif.gz, -eve.lst, -eve.txt, _eve.fif, _eve.fif.gz, _eve.lst or _eve.txt\n",
      "  mne.write_events(event_fname, events, overwrite=True)\n"
     ]
    }
   ],
   "source": [
    "raw.load_data()\n",
    "trigger_chs =['Trigger 5','Trigger 6','Trigger 7','Trigger 8','Trigger 9','Trigger 10', 'Trigger 11']\n",
    "trigger_data = raw.copy().pick_channels(trigger_chs).get_data()\n",
    "n_times = trigger_data.shape[1]\n",
    "combined_trigger = np.zeros(n_times, dtype=int)\n",
    "\n",
    "for index_ch, ch_data in enumerate(trigger_data):\n",
    "    combined_trigger += ch_data.astype(int) * (4 ** (index_ch + 1))\n",
    "    \n",
    "trigger1_idx = raw.ch_names.index('Trigger 1')\n",
    "\n",
    "raw._data[trigger1_idx, :] = combined_trigger\n",
    "\n",
    "events = mne.find_events(raw, stim_channel='Trigger 1', min_duration=0.003)\n",
    "print(events[:10])  # Print first 10 events for verification\n",
    "\n",
    "# Save events to a .fif file \n",
    "mne.write_events(event_fname, events, overwrite=True)"
   ]
  },
  {
   "cell_type": "markdown",
   "id": "9245d0d2-eb81-45dd-a5fc-bee5d67fcaa6",
   "metadata": {},
   "source": [
    "## Naming the Events According to Trigger Information"
   ]
  },
  {
   "cell_type": "markdown",
   "id": "258350fb-ae45-4bec-b4f5-e4edd2280359",
   "metadata": {},
   "source": [
    "The trigger values will now be assigned labels. This will be dependent on specific design of the study and care should be taken to assing informative labels.\n"
   ]
  },
  {
   "cell_type": "code",
   "execution_count": 10,
   "id": "4810e96e-0a4a-4890-ab78-6be1b7a092f5",
   "metadata": {},
   "outputs": [],
   "source": [
    "event_dict = {\n",
    "    'off': 0,\n",
    "    'cue_Right': 4,       \n",
    "    'cue_Left': 16,       \n",
    "    'trial_Start': 20,\n",
    "    'stimOnset': 64,      \n",
    "    'catchOnset': 1024,     \n",
    "    'dotOnRight': 1028,\n",
    "    'dotOnLeft': 1040,\n",
    "    'resp': 4096,           \n",
    "    'blkStart': 68,      \n",
    "    'blkEnd': 80,        \n",
    "    'expEnd': 260,        \n",
    "    'abort': 272,\n",
    "    }"
   ]
  },
  {
   "cell_type": "markdown",
   "id": "ef60a8d2-d402-4f8c-a1bb-2af5eabd9486",
   "metadata": {},
   "source": [
    "## Writing the BIDS File"
   ]
  },
  {
   "cell_type": "markdown",
   "id": "c57811cc-023e-440a-ba88-a25383d5b3b6",
   "metadata": {},
   "source": [
    "For the BIDS conversion several parameters needs to be defined according to the subjection and session. Subsequently the BIDS structure can be written"
   ]
  },
  {
   "cell_type": "code",
   "execution_count": 11,
   "id": "afbc60d7-250c-42e5-8109-35fee114722c",
   "metadata": {},
   "outputs": [
    {
     "name": "stdout",
     "output_type": "stream",
     "text": [
      "Writing 'C:\\Users\\rakshita\\Documents\\Cerca_raw_files\\Cerca_Spatt_BIDS\\README'...\n",
      "Writing 'C:\\Users\\rakshita\\Documents\\Cerca_raw_files\\Cerca_Spatt_BIDS\\participants.tsv'...\n",
      "Writing 'C:\\Users\\rakshita\\Documents\\Cerca_raw_files\\Cerca_Spatt_BIDS\\participants.json'...\n",
      "Writing 'C:\\Users\\rakshita\\Documents\\Cerca_raw_files\\Cerca_Spatt_BIDS\\sub-01\\ses-01\\meg\\sub-01_ses-01_coordsystem.json'...\n",
      "Writing 'C:\\Users\\rakshita\\Documents\\Cerca_raw_files\\Cerca_Spatt_BIDS\\sub-01\\ses-01\\meg\\sub-01_ses-01_coordsystem.json'...\n"
     ]
    },
    {
     "name": "stderr",
     "output_type": "stream",
     "text": [
      "C:\\Users\\rakshita\\AppData\\Local\\Temp\\ipykernel_16708\\2775216759.py:16: RuntimeWarning: This filename (C:/Users/rakshita/Documents/Cerca_raw_files\\20250410_110557_meg_event.fif) does not conform to MNE naming conventions. All events files should end with .eve, -eve.fif, -eve.fif.gz, -eve.lst, -eve.txt, _eve.fif, _eve.fif.gz, _eve.lst, _eve.txt or -annot.fif\n",
      "  write_raw_bids(\n"
     ]
    },
    {
     "name": "stdout",
     "output_type": "stream",
     "text": [
      "Used Annotations descriptions: ['blkEnd', 'blkStart', 'catchOnset', 'cue_Left', 'cue_Right', 'dotOnLeft', 'dotOnRight', 'resp', 'stimOnset']\n",
      "Writing 'C:\\Users\\rakshita\\Documents\\Cerca_raw_files\\Cerca_Spatt_BIDS\\sub-01\\ses-01\\meg\\sub-01_ses-01_task-SpAtt_run-01_events.tsv'...\n",
      "Writing 'C:\\Users\\rakshita\\Documents\\Cerca_raw_files\\Cerca_Spatt_BIDS\\sub-01\\ses-01\\meg\\sub-01_ses-01_task-SpAtt_run-01_events.json'...\n",
      "Writing 'C:\\Users\\rakshita\\Documents\\Cerca_raw_files\\Cerca_Spatt_BIDS\\dataset_description.json'...\n",
      "Writing 'C:\\Users\\rakshita\\Documents\\Cerca_raw_files\\Cerca_Spatt_BIDS\\sub-01\\ses-01\\meg\\sub-01_ses-01_task-SpAtt_run-01_meg.json'...\n",
      "Writing 'C:\\Users\\rakshita\\Documents\\Cerca_raw_files\\Cerca_Spatt_BIDS\\sub-01\\ses-01\\meg\\sub-01_ses-01_task-SpAtt_run-01_channels.tsv'...\n",
      "Copying data files to sub-01_ses-01_task-SpAtt_run-01_meg.fif\n",
      "Reserving possible split file sub-01_ses-01_task-SpAtt_run-01_split-01_meg.fif\n",
      "Writing C:\\Users\\rakshita\\Documents\\Cerca_raw_files\\Cerca_Spatt_BIDS\\sub-01\\ses-01\\meg\\sub-01_ses-01_task-SpAtt_run-01_meg.fif\n",
      "Closing C:\\Users\\rakshita\\Documents\\Cerca_raw_files\\Cerca_Spatt_BIDS\\sub-01\\ses-01\\meg\\sub-01_ses-01_task-SpAtt_run-01_meg.fif\n",
      "[done]\n",
      "Writing 'C:\\Users\\rakshita\\Documents\\Cerca_raw_files\\Cerca_Spatt_BIDS\\sub-01\\ses-01\\sub-01_ses-01_scans.tsv'...\n",
      "Wrote C:\\Users\\rakshita\\Documents\\Cerca_raw_files\\Cerca_Spatt_BIDS\\sub-01\\ses-01\\sub-01_ses-01_scans.tsv entry with meg\\sub-01_ses-01_task-SpAtt_run-01_meg.fif.\n"
     ]
    },
    {
     "data": {
      "text/plain": [
       "BIDSPath(\n",
       "root: C:/Users/rakshita/Documents/Cerca_raw_files/Cerca_Spatt_BIDS\n",
       "datatype: meg\n",
       "basename: sub-01_ses-01_task-SpAtt_run-01_meg.fif)"
      ]
     },
     "execution_count": 11,
     "metadata": {},
     "output_type": "execute_result"
    }
   ],
   "source": [
    "raw.info[\"line_freq\"] = 50\n",
    "raw.set_annotations(None)\n",
    "subject = '01'\n",
    "session = '01'\n",
    "task = 'SpAtt'\n",
    "run = '01'\n",
    "\n",
    "bids_path = BIDSPath(\n",
    "    subject=subject, \n",
    "    session=session, \n",
    "    task=task, \n",
    "    run=run, \n",
    "    datatype=\"meg\", \n",
    "    root=bids_folder\n",
    ")\n",
    "write_raw_bids(\n",
    "    raw=raw,\n",
    "    bids_path=bids_path,\n",
    "    events=event_fname,\n",
    "    event_id=event_dict,\n",
    "    overwrite=True,\n",
    "    allow_preload=True, \n",
    "    format='FIF',\n",
    "    anonymize={'daysback': 50000, 'keep_his': False, 'keep_source': False}\n",
    ")"
   ]
  },
  {
   "cell_type": "markdown",
   "id": "f7cfe4ef-4593-4a02-8216-debf4bfbb500",
   "metadata": {},
   "source": [
    "#### As last check print the structure of the BIDS file"
   ]
  },
  {
   "cell_type": "code",
   "execution_count": 12,
   "id": "23e00013-f654-419f-ba27-bf881cc287e9",
   "metadata": {},
   "outputs": [
    {
     "name": "stdout",
     "output_type": "stream",
     "text": [
      "|Cerca_Spatt_BIDS\\\n",
      "|--- README\n",
      "|--- dataset_description.json\n",
      "|--- participants.json\n",
      "|--- participants.tsv\n",
      "|--- sub-01\\\n",
      "|------ ses-01\\\n",
      "|--------- sub-01_ses-01_scans.tsv\n",
      "|--------- meg\\\n",
      "|------------ sub-01_ses-01_coordsystem.json\n",
      "|------------ sub-01_ses-01_task-SpAtt_run-01_channels.tsv\n",
      "|------------ sub-01_ses-01_task-SpAtt_run-01_events.json\n",
      "|------------ sub-01_ses-01_task-SpAtt_run-01_events.tsv\n",
      "|------------ sub-01_ses-01_task-SpAtt_run-01_meg.fif\n",
      "|------------ sub-01_ses-01_task-SpAtt_run-01_meg.json\n"
     ]
    }
   ],
   "source": [
    "print_dir_tree(bids_folder)"
   ]
  },
  {
   "cell_type": "markdown",
   "id": "187b393f-b29a-4c36-9b41-42365cd1d9fc",
   "metadata": {},
   "source": [
    "## References\n",
    "\n",
    "[1] Niso G, Gorgolewski KJ, Bock E, Brooks TL, Flandin G, Gramfort A, Henson RN, Jas M, Litvak V, Moreau JT, Oostenveld R, Schoffelen JM, Tadel F, Wexler J, Baillet S. MEG-BIDS, the brain imaging data structure extended to magnetoencephalography. *Scientific Data* 5, 180110 (2018). doi: [10.1038/sdata.2018.110](https://doi.org/10.1038/sdata.2018.110).\n",
    "\n",
    "[2] Smith SW. *The Scientist and Engineer's Guide to Digital Signal Processing*. California Technical Publishing, 1998. [Link to PDF](https://www.dspguide.com/pdfbook.htm).\n"
   ]
  }
 ],
 "metadata": {
  "kernelspec": {
   "display_name": "Python 3 (ipykernel)",
   "language": "python",
   "name": "python3"
  },
  "language_info": {
   "codemirror_mode": {
    "name": "ipython",
    "version": 3
   },
   "file_extension": ".py",
   "mimetype": "text/x-python",
   "name": "python",
   "nbconvert_exporter": "python",
   "pygments_lexer": "ipython3",
   "version": "3.12.7"
  }
 },
 "nbformat": 4,
 "nbformat_minor": 5
}
