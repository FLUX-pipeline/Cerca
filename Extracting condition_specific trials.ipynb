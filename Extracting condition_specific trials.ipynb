{
 "cells": [
  {
   "cell_type": "markdown",
   "id": "987f30d8-be1f-40c8-81c7-acad4a16409b",
   "metadata": {},
   "source": [
    "# Extracting condition-specific trials\n",
    "\n",
    "The aim of this section is to extract the trials according to the condition labels derived from the trigger channels. Once the trials are extracted, bad epochs will be identified and excluded based on their peak-to-peak signal amplitude."
   ]
  },
  {
   "cell_type": "markdown",
   "id": "ffb549bc-c0d0-4790-8b35-028a178753c3",
   "metadata": {},
   "source": [
    "## Preparation\n",
    "### Import the necessary modules\n",
    "Below are the required Python modules to be imported\n"
   ]
  },
  {
   "cell_type": "code",
   "execution_count": 1,
   "id": "c9a50e36-cac9-4f0e-8835-428b3de1c63e",
   "metadata": {},
   "outputs": [],
   "source": [
    "import os.path as op\n",
    "import os\n",
    "import sys\n",
    "import numpy as np\n",
    "import matplotlib.pyplot as plt\n",
    "import mne\n",
    "from mne_bids import BIDSPath, read_raw_bids"
   ]
  },
  {
   "cell_type": "markdown",
   "id": "7fb16bbf-3182-4259-b312-2602838caa20",
   "metadata": {},
   "source": [
    "\n",
    "### File overview\n",
    "\n",
    "The chapter relies on the input file (embedded in the BIDS structure):\n",
    "\n",
    "< BIDS_ROOT >/derivatives/Preprocessing/sub-01/ses-01/meg/sub-01_ses-01_task-SpAtt_run-01_ica_raw.fif\n",
    "\n",
    "\n",
    "< BIDS_ROOT >/derivatives/Preprocessing/sub-01/ses-01/meg/sub-01_ses-01_task-SpAtt_run-01_ann.fif\n",
    "\n",
    "\n",
    "and generates the output files\n",
    "\n",
    "< BIDS_ROOT >/derivatives/Analysis/sub-01/ses-01/meg/sub-01_ses-01_task-SpAtt_run-12_epo.fif\n",
    "\n",
    "Set the paths for the data and results. Note that these will depend on your local setup.\n"
   ]
  },
  {
   "cell_type": "code",
   "execution_count": 2,
   "id": "8836a932-0be7-458a-a46e-222f0497c352",
   "metadata": {},
   "outputs": [
    {
     "name": "stdout",
     "output_type": "stream",
     "text": [
      "/Users/o.jensen@bham.ac.uk/Library/CloudStorage/Dropbox/FLUX/OPM-Oxf/fif/Cerca_Spatt_BIDS/derivatives/preprocessing/sub-01/ses-01/meg/sub-01_ses-01_task-SpAtt_run-01_ica_raw.fif\n",
      "/Users/o.jensen@bham.ac.uk/Library/CloudStorage/Dropbox/FLUX/OPM-Oxf/fif/Cerca_Spatt_BIDS/derivatives/analysis/sub-01/ses-01/meg/sub-01_ses-01_task-SpAtt_run-01_epo.fif\n"
     ]
    }
   ],
   "source": [
    "subject = '01'\n",
    "session = '01'\n",
    "task = 'SpAtt'\n",
    "run = '01'\n",
    "meg_suffix = 'meg'\n",
    "ica_suffix = 'ica_raw'\n",
    "epo_suffix = 'epo'\n",
    "\n",
    "#data_path='C:/Users/rakshita/Documents/Cerca_raw_files'\n",
    "data_path = '/Users/o.jensen@bham.ac.uk/Library/CloudStorage/Dropbox/FLUX/OPM-Oxf/fif'\n",
    "\n",
    "bids_root = op.join(data_path, \"Cerca_Spatt_BIDS\")\n",
    "deriv_root1 = op.join(bids_root, \"derivatives/preprocessing\")\n",
    "deriv_root2=op.join(bids_root, \"derivatives/analysis\")\n",
    "\n",
    "bids_path_preproc = BIDSPath(subject=subject, session=session,\n",
    "            task=task, run=run, suffix=ica_suffix, datatype='meg',\n",
    "            root=deriv_root1, extension='.fif', check=False)\n",
    "\n",
    "\n",
    "bids_path = BIDSPath(subject=subject, session=session,\n",
    "            task=task, run=run, suffix=epo_suffix, datatype='meg',\n",
    "            root=deriv_root2, extension='.fif', check=False).mkdir()\n",
    "  \n",
    "deriv_fname = bids_path\n",
    "\n",
    "print(bids_path_preproc.fpath)\n",
    "print(deriv_fname)"
   ]
  },
  {
   "cell_type": "markdown",
   "id": "6e680357-9bcf-4c5f-872f-6824810cf7e3",
   "metadata": {},
   "source": [
    "\n",
    "## Reading the events from the stimulus channels\n",
    "\n",
    "First, read all the raw data fron the previous section in which artefacts were attenuated by ICA:"
   ]
  },
  {
   "cell_type": "code",
   "execution_count": 3,
   "id": "672e52ad-c009-4184-9772-8322419f5f50",
   "metadata": {},
   "outputs": [
    {
     "name": "stdout",
     "output_type": "stream",
     "text": [
      "Opening raw data file /Users/o.jensen@bham.ac.uk/Library/CloudStorage/Dropbox/FLUX/OPM-Oxf/fif/Cerca_Spatt_BIDS/derivatives/preprocessing/sub-01/ses-01/meg/sub-01_ses-01_task-SpAtt_run-01_ica_raw.fif...\n",
      "    Read a total of 8 projection items:\n",
      "        HFC: l=1 m=-1 (1 x 180) active\n",
      "        HFC: l=1 m=0 (1 x 180) active\n",
      "        HFC: l=1 m=1 (1 x 180) active\n",
      "        HFC: l=2 m=-2 (1 x 180) active\n",
      "        HFC: l=2 m=-1 (1 x 180) active\n",
      "        HFC: l=2 m=0 (1 x 180) active\n",
      "        HFC: l=2 m=1 (1 x 180) active\n",
      "        HFC: l=2 m=2 (1 x 180) active\n",
      "    Range : 0 ... 1539807 =      0.000 ...  2053.076 secs\n",
      "Ready.\n"
     ]
    },
    {
     "name": "stderr",
     "output_type": "stream",
     "text": [
      "/var/folders/n0/w7vb4jpn0nx3hs95f4p7r9br0000gr/T/ipykernel_46672/1308987296.py:1: RuntimeWarning: Did not find any events.tsv associated with sub-01_ses-01_task-SpAtt_run-01.\n",
      "\n",
      "The search_str was \"/Users/o.jensen@bham.ac.uk/Library/CloudStorage/Dropbox/FLUX/OPM-Oxf/fif/Cerca_Spatt_BIDS/derivatives/preprocessing/sub-01/**/meg/sub-01_ses-01*events.tsv\"\n",
      "  raw = read_raw_bids(bids_path=bids_path_preproc, extra_params={'preload':False},verbose=True)\n",
      "/var/folders/n0/w7vb4jpn0nx3hs95f4p7r9br0000gr/T/ipykernel_46672/1308987296.py:1: RuntimeWarning: Did not find any channels.tsv associated with sub-01_ses-01_task-SpAtt_run-01.\n",
      "\n",
      "The search_str was \"/Users/o.jensen@bham.ac.uk/Library/CloudStorage/Dropbox/FLUX/OPM-Oxf/fif/Cerca_Spatt_BIDS/derivatives/preprocessing/sub-01/**/meg/sub-01_ses-01*channels.tsv\"\n",
      "  raw = read_raw_bids(bids_path=bids_path_preproc, extra_params={'preload':False},verbose=True)\n",
      "/var/folders/n0/w7vb4jpn0nx3hs95f4p7r9br0000gr/T/ipykernel_46672/1308987296.py:1: RuntimeWarning: Did not find any meg.json associated with sub-01_ses-01_task-SpAtt_run-01.\n",
      "\n",
      "The search_str was \"/Users/o.jensen@bham.ac.uk/Library/CloudStorage/Dropbox/FLUX/OPM-Oxf/fif/Cerca_Spatt_BIDS/derivatives/preprocessing/sub-01/**/meg/sub-01_ses-01*meg.json\"\n",
      "  raw = read_raw_bids(bids_path=bids_path_preproc, extra_params={'preload':False},verbose=True)\n",
      "/var/folders/n0/w7vb4jpn0nx3hs95f4p7r9br0000gr/T/ipykernel_46672/1308987296.py:1: RuntimeWarning: participants.tsv file not found for /Users/o.jensen@bham.ac.uk/Library/CloudStorage/Dropbox/FLUX/OPM-Oxf/fif/Cerca_Spatt_BIDS/derivatives/preprocessing/sub-01/ses-01/meg/sub-01_ses-01_task-SpAtt_run-01_ica_raw.fif\n",
      "  raw = read_raw_bids(bids_path=bids_path_preproc, extra_params={'preload':False},verbose=True)\n"
     ]
    }
   ],
   "source": [
    "raw = read_raw_bids(bids_path=bids_path_preproc, extra_params={'preload':False},verbose=True)"
   ]
  },
  {
   "cell_type": "markdown",
   "id": "12c6f432-f4c5-4a68-a822-256ebd073d00",
   "metadata": {},
   "source": [
    "The following code will read the events according to annotations assigned with the BIDS formatting was done:"
   ]
  },
  {
   "cell_type": "code",
   "execution_count": 4,
   "id": "31eb385e-bd88-4f6b-b423-768c77a83a20",
   "metadata": {},
   "outputs": [
    {
     "name": "stdout",
     "output_type": "stream",
     "text": [
      "Used Annotations descriptions: ['blink', 'blkEnd', 'blkStart', 'catchOnset', 'cue_Left', 'cue_Right', 'dotOnLeft', 'dotOnRight', 'resp', 'stimOnset']\n"
     ]
    }
   ],
   "source": [
    "events, events_id = mne.events_from_annotations(raw,event_id='auto')"
   ]
  },
  {
   "cell_type": "markdown",
   "id": "246940df-5437-49fa-b68b-b65f25a018ef",
   "metadata": {},
   "source": [
    "The annotations are represented in the array *events* where the first column is the sample and the third column the corresponding trigger value. The *events_id* is a dictionary of event names and trigger codes.\n",
    "\n",
    "To visualise the *event_id*s and a snippet of the *events*-array write: "
   ]
  },
  {
   "cell_type": "code",
   "execution_count": 5,
   "id": "88d1fe2c-313f-4608-a9a6-0a896ba8ef4a",
   "metadata": {},
   "outputs": [
    {
     "data": {
      "text/plain": [
       "{'blink': 1,\n",
       " 'blkEnd': 2,\n",
       " 'blkStart': 3,\n",
       " 'catchOnset': 4,\n",
       " 'cue_Left': 5,\n",
       " 'cue_Right': 6,\n",
       " 'dotOnLeft': 7,\n",
       " 'dotOnRight': 8,\n",
       " 'resp': 9,\n",
       " 'stimOnset': 10}"
      ]
     },
     "execution_count": 5,
     "metadata": {},
     "output_type": "execute_result"
    }
   ],
   "source": [
    "events_id"
   ]
  },
  {
   "cell_type": "code",
   "execution_count": 6,
   "id": "365f8e55-5709-470b-8a82-4417075aa629",
   "metadata": {},
   "outputs": [
    {
     "data": {
      "text/plain": [
       "array([[102595,      0,     10],\n",
       "       [103699,      0,      8],\n",
       "       [103905,      0,      1],\n",
       "       [103975,      0,      9],\n",
       "       [105271,      0,      1],\n",
       "       [105542,      0,      5],\n",
       "       [106445,      0,     10],\n",
       "       [106524,      0,      7],\n",
       "       [106888,      0,      9],\n",
       "       [109267,      0,      5],\n",
       "       [110170,      0,     10],\n",
       "       [111374,      0,      7],\n",
       "       [111688,      0,      9],\n",
       "       [112967,      0,      5],\n",
       "       [113417,      0,      1],\n",
       "       [113870,      0,     10],\n",
       "       [114887,      0,      7],\n",
       "       [115121,      0,      1],\n",
       "       [115188,      0,      9],\n",
       "       [115447,      0,      1]])"
      ]
     },
     "execution_count": 6,
     "metadata": {},
     "output_type": "execute_result"
    }
   ],
   "source": [
    "events[100:120]"
   ]
  },
  {
   "cell_type": "markdown",
   "id": "aa5ecb21-f3a0-4a81-880a-d366a7da12e1",
   "metadata": {},
   "source": [
    "To visualise the marked events along with the time course of the raw data in a browsing window, write:"
   ]
  },
  {
   "cell_type": "code",
   "execution_count": 7,
   "id": "4af43137-6dac-4160-b066-a2378842c8db",
   "metadata": {},
   "outputs": [
    {
     "name": "stdout",
     "output_type": "stream",
     "text": [
      "Using qt as 2D backend.\n",
      "Using pyopengl with version 3.1.6\n"
     ]
    },
    {
     "data": {
      "text/plain": [
       "<mne_qt_browser._pg_figure.MNEQtBrowser(0x286cb67e0) at 0x290f84280>"
      ]
     },
     "execution_count": 7,
     "metadata": {},
     "output_type": "execute_result"
    },
    {
     "name": "stdout",
     "output_type": "stream",
     "text": [
      "Channels marked as bad:\n",
      "none\n"
     ]
    },
    {
     "name": "stderr",
     "output_type": "stream",
     "text": [
      "/Users/o.jensen@bham.ac.uk/Applications/MNE-Python/1.9.0_0/.mne-python/lib/python3.12/site-packages/mne_qt_browser/_pg_figure.py:3061: RuntimeWarning: Failed to disconnect (None) from signal \"triggered()\".\n",
      "  sig.disconnect()\n"
     ]
    }
   ],
   "source": [
    "%matplotlib inline\n",
    "raw.plot(start=500)"
   ]
  },
  {
   "cell_type": "markdown",
   "id": "b6ed875b-3e25-4024-b71c-835bc84bcf6a",
   "metadata": {},
   "source": [
    "## Defining the epochs (trials) according to the event values\n",
    "\n",
    "The next step is to extract the left and right trials of the data defined according to respectively *cue_Left* and *cue_Right*"
   ]
  },
  {
   "cell_type": "code",
   "execution_count": 8,
   "id": "6ae3cf0e-2b97-428d-b774-51c4be3ec870",
   "metadata": {},
   "outputs": [
    {
     "name": "stdout",
     "output_type": "stream",
     "text": [
      "Opening raw data file /Users/o.jensen@bham.ac.uk/Library/CloudStorage/Dropbox/FLUX/OPM-Oxf/fif/Cerca_Spatt_BIDS/derivatives/preprocessing/sub-01/ses-01/meg/sub-01_ses-01_task-SpAtt_run-01_ica_raw.fif...\n",
      "    Read a total of 8 projection items:\n",
      "        HFC: l=1 m=-1 (1 x 180) active\n",
      "        HFC: l=1 m=0 (1 x 180) active\n",
      "        HFC: l=1 m=1 (1 x 180) active\n",
      "        HFC: l=2 m=-2 (1 x 180) active\n",
      "        HFC: l=2 m=-1 (1 x 180) active\n",
      "        HFC: l=2 m=0 (1 x 180) active\n",
      "        HFC: l=2 m=1 (1 x 180) active\n",
      "        HFC: l=2 m=2 (1 x 180) active\n",
      "    Range : 0 ... 1539807 =      0.000 ...  2053.076 secs\n",
      "Ready.\n",
      "Reading 0 ... 1539807  =      0.000 ...  2053.076 secs...\n",
      "Used Annotations descriptions: ['blink', 'blkEnd', 'blkStart', 'catchOnset', 'cue_Left', 'cue_Right', 'dotOnLeft', 'dotOnRight', 'resp', 'stimOnset']\n"
     ]
    },
    {
     "name": "stderr",
     "output_type": "stream",
     "text": [
      "/var/folders/n0/w7vb4jpn0nx3hs95f4p7r9br0000gr/T/ipykernel_46672/3474265422.py:2: RuntimeWarning: Did not find any events.tsv associated with sub-01_ses-01_task-SpAtt_run-01.\n",
      "\n",
      "The search_str was \"/Users/o.jensen@bham.ac.uk/Library/CloudStorage/Dropbox/FLUX/OPM-Oxf/fif/Cerca_Spatt_BIDS/derivatives/preprocessing/sub-01/**/meg/sub-01_ses-01*events.tsv\"\n",
      "  raw = read_raw_bids(bids_path=bids_path_preproc,\n",
      "/var/folders/n0/w7vb4jpn0nx3hs95f4p7r9br0000gr/T/ipykernel_46672/3474265422.py:2: RuntimeWarning: Did not find any channels.tsv associated with sub-01_ses-01_task-SpAtt_run-01.\n",
      "\n",
      "The search_str was \"/Users/o.jensen@bham.ac.uk/Library/CloudStorage/Dropbox/FLUX/OPM-Oxf/fif/Cerca_Spatt_BIDS/derivatives/preprocessing/sub-01/**/meg/sub-01_ses-01*channels.tsv\"\n",
      "  raw = read_raw_bids(bids_path=bids_path_preproc,\n",
      "/var/folders/n0/w7vb4jpn0nx3hs95f4p7r9br0000gr/T/ipykernel_46672/3474265422.py:2: RuntimeWarning: Did not find any meg.json associated with sub-01_ses-01_task-SpAtt_run-01.\n",
      "\n",
      "The search_str was \"/Users/o.jensen@bham.ac.uk/Library/CloudStorage/Dropbox/FLUX/OPM-Oxf/fif/Cerca_Spatt_BIDS/derivatives/preprocessing/sub-01/**/meg/sub-01_ses-01*meg.json\"\n",
      "  raw = read_raw_bids(bids_path=bids_path_preproc,\n",
      "/var/folders/n0/w7vb4jpn0nx3hs95f4p7r9br0000gr/T/ipykernel_46672/3474265422.py:2: RuntimeWarning: participants.tsv file not found for /Users/o.jensen@bham.ac.uk/Library/CloudStorage/Dropbox/FLUX/OPM-Oxf/fif/Cerca_Spatt_BIDS/derivatives/preprocessing/sub-01/ses-01/meg/sub-01_ses-01_task-SpAtt_run-01_ica_raw.fif\n",
      "  raw = read_raw_bids(bids_path=bids_path_preproc,\n"
     ]
    }
   ],
   "source": [
    "bids_path_preproc.update(run='01')\n",
    "raw = read_raw_bids(bids_path=bids_path_preproc, \n",
    "                    extra_params={'preload': True}, \n",
    "                    verbose=True)\n",
    "events, events_id = mne.events_from_annotations(raw, event_id='auto')\n",
    "\n",
    "raw_list = [raw]\n",
    "events_list = [events]\n",
    "\n",
    "events_picks_id = {k: v for k, v in events_id.items() if k.startswith('cue') or k.startswith('stim')};"
   ]
  },
  {
   "cell_type": "markdown",
   "id": "d94336b1-6886-4c6c-b005-22835ae7a729",
   "metadata": {},
   "source": [
    "As a check, print the picked ids:"
   ]
  },
  {
   "cell_type": "code",
   "execution_count": 9,
   "id": "c7b09bd0-b80c-4806-b310-029c9cd0d269",
   "metadata": {},
   "outputs": [
    {
     "name": "stdout",
     "output_type": "stream",
     "text": [
      "{'cue_Left': 5, 'cue_Right': 6, 'stimOnset': 10}\n"
     ]
    }
   ],
   "source": [
    "print(events_picks_id)"
   ]
  },
  {
   "cell_type": "markdown",
   "id": "4ebce16d-db70-4cda-911d-9a92c0109725",
   "metadata": {},
   "source": [
    "Set the peak-to-peak amplitude thresholds for trial rejection. This is an extra setting for ensuring that trials with excessive artefacts are rejected. Eventually, this should be implemented as an annotation in the Artefect Rejection chapter. \n",
    "These values may change depending on the quality of the data."
   ]
  },
  {
   "cell_type": "code",
   "execution_count": 10,
   "id": "dc7e5917-b643-4e9f-8390-96b04dcf2cc6",
   "metadata": {},
   "outputs": [],
   "source": [
    "reject = dict(mag=1e-11)"
   ]
  },
  {
   "cell_type": "markdown",
   "id": "93594d25-ad84-499c-9c7f-e3569b4e6e22",
   "metadata": {},
   "source": [
    "Time windows of interest are -0.75 to 2 s epochs aligned to the onset of the left and right cues. Now perform the epoching:"
   ]
  },
  {
   "cell_type": "code",
   "execution_count": 11,
   "id": "fbaf3ee4-ce42-447d-a2d8-9a4077f4184e",
   "metadata": {},
   "outputs": [],
   "source": [
    "epochs = mne.Epochs(raw,\n",
    "            events, events_picks_id,\n",
    "            tmin=-0.75 , tmax=2,\n",
    "            baseline=None,\n",
    "            proj=False,\n",
    "            picks = 'all',\n",
    "            detrend = 1,\n",
    "            reject=reject,\n",
    "            reject_by_annotation=True,\n",
    "            preload=True,\n",
    "            verbose=False)"
   ]
  },
  {
   "cell_type": "markdown",
   "id": "9b92c74e-a561-4bb8-beb2-a0bf8eecef9b",
   "metadata": {},
   "source": [
    "To display the details of the epochs write"
   ]
  },
  {
   "cell_type": "code",
   "execution_count": 12,
   "id": "e6c032e9-f1e3-43b5-a2b2-c83ac7465476",
   "metadata": {},
   "outputs": [
    {
     "data": {
      "text/html": [
       "<script type=\"text/javascript\">\n",
       "    // must be `var` (not `const`) because this can get embedded multiple times on a page\n",
       "var toggleVisibility = (className) => {\n",
       "\n",
       "    const elements = document.querySelectorAll(`.${className}`);\n",
       "\n",
       "    elements.forEach(element => {\n",
       "        if (element.classList.contains(\"mne-repr-section-header\")) {\n",
       "            return  // Don't collapse the section header row\n",
       "        }\n",
       "        element.classList.toggle(\"mne-repr-collapsed\");\n",
       "    });\n",
       "\n",
       "    // trigger caret to rotate\n",
       "    var sel = `.mne-repr-section-header.${className} > th.mne-repr-section-toggle > button`;\n",
       "    const button = document.querySelector(sel);\n",
       "    button.classList.toggle(\"collapsed\");\n",
       "\n",
       "    // adjust tooltip\n",
       "    sel = `tr.mne-repr-section-header.${className}`;\n",
       "    const secHeadRow = document.querySelector(sel);\n",
       "    secHeadRow.classList.toggle(\"collapsed\");\n",
       "    secHeadRow.title = secHeadRow.title === \"Hide section\" ? \"Show section\" : \"Hide section\";\n",
       "}\n",
       "</script>\n",
       "\n",
       "<style type=\"text/css\">\n",
       "    /*\n",
       "Styles in this section apply both to the sphinx-built website docs and to notebooks\n",
       "rendered in an IDE or in Jupyter. In our web docs, styles here are complemented by\n",
       "doc/_static/styles.css and other CSS files (e.g. from the sphinx theme, sphinx-gallery,\n",
       "or bootstrap). In IDEs/Jupyter, those style files are unavailable, so only the rules in\n",
       "this file apply (plus whatever default styling the IDE applies).\n",
       "*/\n",
       ".mne-repr-table {\n",
       "    display: inline;  /* prevent using full container width */\n",
       "}\n",
       ".mne-repr-table tr.mne-repr-section-header > th {\n",
       "    padding-top: 1rem;\n",
       "    text-align: left;\n",
       "    vertical-align: middle;\n",
       "}\n",
       ".mne-repr-section-toggle > button {\n",
       "    all: unset;\n",
       "    display: block;\n",
       "    height: 1rem;\n",
       "    width: 1rem;\n",
       "}\n",
       ".mne-repr-section-toggle > button > svg {\n",
       "    height: 60%;\n",
       "}\n",
       "\n",
       "/* transition (rotation) effects on the collapser button */\n",
       ".mne-repr-section-toggle > button.collapsed > svg {\n",
       "    transition: 0.1s ease-out;\n",
       "    transform: rotate(-90deg);\n",
       "}\n",
       ".mne-repr-section-toggle > button:not(.collapsed) > svg {\n",
       "    transition: 0.1s ease-out;\n",
       "    transform: rotate(0deg);\n",
       "}\n",
       "\n",
       "/* hide collapsed table rows */\n",
       ".mne-repr-collapsed {\n",
       "    display: none;\n",
       "}\n",
       "\n",
       "\n",
       "@layer {\n",
       "    /*\n",
       "    Selectors in a `@layer` will always be lower-precedence than selectors outside the\n",
       "    layer. So even though e.g. `div.output_html` is present in the sphinx-rendered\n",
       "    website docs, the styles here won't take effect there as long as some other rule\n",
       "    somewhere in the page's CSS targets the same element.\n",
       "\n",
       "    In IDEs or Jupyter notebooks, though, the CSS files from the sphinx theme,\n",
       "    sphinx-gallery, and bootstrap are unavailable, so these styles will apply.\n",
       "\n",
       "    Notes:\n",
       "\n",
       "    - the selector `.accordion-body` is for MNE Reports\n",
       "    - the selector `.output_html` is for VSCode's notebook interface\n",
       "    - the selector `.jp-RenderedHTML` is for Jupyter notebook\n",
       "    - variables starting with `--theme-` are VSCode-specific.\n",
       "    - variables starting with `--jp-` are Jupyter styles, *some of which* are also\n",
       "      available in VSCode. Here we try the `--theme-` variable first, then fall back to\n",
       "      the `--jp-` ones.\n",
       "    */\n",
       "    .mne-repr-table {\n",
       "        --mne-toggle-color: var(--theme-foreground, var(--jp-ui-font-color1));\n",
       "        --mne-button-bg-color: var(--theme-button-background, var(--jp-info-color0, var(--jp-content-link-color)));\n",
       "        --mne-button-fg-color: var(--theme-button-foreground, var(--jp-ui-inverse-font-color0, var(--jp-editor-background)));\n",
       "        --mne-button-hover-bg-color: var(--theme-button-hover-background, var(--jp-info-color1));\n",
       "        --mne-button-radius: var(--jp-border-radius, 0.25rem);\n",
       "    }\n",
       "    /* chevron position/alignment; in VSCode it looks ok without adjusting */\n",
       "    .accordion-body .mne-repr-section-toggle > button,\n",
       "    .jp-RenderedHTML .mne-repr-section-toggle > button {\n",
       "        padding: 0 0 45% 25% !important;\n",
       "    }\n",
       "    /* chevron color; MNE Report doesn't have light/dark mode */\n",
       "    div.output_html .mne-repr-section-toggle > button > svg > path,\n",
       "    .jp-RenderedHTML .mne-repr-section-toggle > button > svg > path {\n",
       "        fill: var(--mne-toggle-color);\n",
       "    }\n",
       "    .accordion-body .mne-ch-names-btn,\n",
       "    div.output_html .mne-ch-names-btn,\n",
       "    .jp-RenderedHTML .mne-ch-names-btn {\n",
       "        -webkit-border-radius: var(--mne-button-radius);\n",
       "        -moz-border-radius: var(--mne-button-radius);\n",
       "        border-radius: var(--mne-button-radius);\n",
       "        border: none;\n",
       "        background-image: none;\n",
       "        background-color: var(--mne-button-bg-color);\n",
       "        color: var(--mne-button-fg-color);\n",
       "        font-size: inherit;\n",
       "        min-width: 1.5rem;\n",
       "        padding: 0.25rem;\n",
       "        text-align: center;\n",
       "        text-decoration: none;\n",
       "    }\n",
       "    .accordion-body .mne-ch-names-btn:hover,\n",
       "    div.output_html .mne.ch-names-btn:hover,\n",
       "    .jp-RenderedHTML .mne-ch-names-btn:hover {\n",
       "        background-color: var(--mne-button-hover-bg-color);\n",
       "        text-decoration: underline;\n",
       "    }\n",
       "    .accordion-body .mne-ch-names-btn:focus-visible,\n",
       "    div.output_html .mne-ch-names-btn:focus-visible,\n",
       "    .jp-RenderedHTML .mne-ch-names-btn:focus-visible {\n",
       "        outline: 0.1875rem solid var(--mne-button-bg-color) !important;\n",
       "        outline-offset: 0.1875rem !important;\n",
       "    }\n",
       "}\n",
       "</style>\n",
       "\n",
       "\n",
       "\n",
       "<table class=\"table mne-repr-table\">\n",
       "    \n",
       "\n",
       "\n",
       "\n",
       "\n",
       "\n",
       "\n",
       "\n",
       "<tr class=\"mne-repr-section-header general-d45be97f-5b2b-4de0-aab0-1988ac4dd157\"\n",
       "     title=\"Hide section\" \n",
       "    onclick=\"toggleVisibility('general-d45be97f-5b2b-4de0-aab0-1988ac4dd157')\">\n",
       "    <th class=\"mne-repr-section-toggle\">\n",
       "        <button >\n",
       "            <svg xmlns=\"http://www.w3.org/2000/svg\" viewBox=\"0 0 512 512\"><!--!Font Awesome Free 6.6.0 by @fontawesome - https://fontawesome.com License - https://fontawesome.com/license/free Copyright 2024 Fonticons, Inc.--><path d=\"M233.4 406.6c12.5 12.5 32.8 12.5 45.3 0l192-192c12.5-12.5 12.5-32.8 0-45.3s-32.8-12.5-45.3 0L256 338.7 86.6 169.4c-12.5-12.5-32.8-12.5-45.3 0s-12.5 32.8 0 45.3l192 192z\"/></svg>\n",
       "        </button>\n",
       "    </th>\n",
       "    <th colspan=\"2\">\n",
       "        <strong>General</strong>\n",
       "    </th>\n",
       "</tr>\n",
       "\n",
       "\n",
       "<tr class=\"repr-element general-d45be97f-5b2b-4de0-aab0-1988ac4dd157 \">\n",
       "    <td class=\"mne-repr-section-toggle\"></td>\n",
       "    <td>MNE object type</td>\n",
       "    <td>Epochs</td>\n",
       "</tr>\n",
       "<tr class=\"repr-element general-d45be97f-5b2b-4de0-aab0-1988ac4dd157 \">\n",
       "    <td class=\"mne-repr-section-toggle\"></td>\n",
       "    <td>Measurement date</td>\n",
       "    \n",
       "    <td>Unknown</td>\n",
       "    \n",
       "</tr>\n",
       "<tr class=\"repr-element general-d45be97f-5b2b-4de0-aab0-1988ac4dd157 \">\n",
       "    <td class=\"mne-repr-section-toggle\"></td>\n",
       "    <td>Participant</td>\n",
       "    \n",
       "    \n",
       "    \n",
       "</tr>\n",
       "<tr class=\"repr-element general-d45be97f-5b2b-4de0-aab0-1988ac4dd157 \">\n",
       "    <td class=\"mne-repr-section-toggle\"></td>\n",
       "    <td>Experimenter</td>\n",
       "    \n",
       "    <td>mne_anonymize</td>\n",
       "    \n",
       "</tr>\n",
       "    \n",
       "\n",
       "\n",
       "\n",
       "\n",
       "\n",
       "\n",
       "\n",
       "<tr class=\"mne-repr-section-header acquisition-e7b0f0c4-930d-4b14-8b7d-2b27fa0f872d\"\n",
       "     title=\"Hide section\" \n",
       "    onclick=\"toggleVisibility('acquisition-e7b0f0c4-930d-4b14-8b7d-2b27fa0f872d')\">\n",
       "    <th class=\"mne-repr-section-toggle\">\n",
       "        <button >\n",
       "            <svg xmlns=\"http://www.w3.org/2000/svg\" viewBox=\"0 0 512 512\"><!--!Font Awesome Free 6.6.0 by @fontawesome - https://fontawesome.com License - https://fontawesome.com/license/free Copyright 2024 Fonticons, Inc.--><path d=\"M233.4 406.6c12.5 12.5 32.8 12.5 45.3 0l192-192c12.5-12.5 12.5-32.8 0-45.3s-32.8-12.5-45.3 0L256 338.7 86.6 169.4c-12.5-12.5-32.8-12.5-45.3 0s-12.5 32.8 0 45.3l192 192z\"/></svg>\n",
       "        </button>\n",
       "    </th>\n",
       "    <th colspan=\"2\">\n",
       "        <strong>Acquisition</strong>\n",
       "    </th>\n",
       "</tr>\n",
       "\n",
       "\n",
       "\n",
       "\n",
       "\n",
       "<tr class=\"repr-element acquisition-e7b0f0c4-930d-4b14-8b7d-2b27fa0f872d \">\n",
       "    <td class=\"mne-repr-section-toggle\"></td>\n",
       "    <td>Total number of events</td>\n",
       "    <td>407</td>\n",
       "</tr>\n",
       "\n",
       "\n",
       "<tr class=\"repr-element acquisition-e7b0f0c4-930d-4b14-8b7d-2b27fa0f872d \">\n",
       "    <td class=\"mne-repr-section-toggle\"></td>\n",
       "    <td>Events counts</td>\n",
       "    \n",
       "    <td>\n",
       "        \n",
       "        cue_Left: 113\n",
       "        <br />\n",
       "        \n",
       "        cue_Right: 106\n",
       "        <br />\n",
       "        \n",
       "        stimOnset: 188\n",
       "        \n",
       "        \n",
       "    </td>\n",
       "    \n",
       "</tr>\n",
       "\n",
       "\n",
       "<tr class=\"repr-element acquisition-e7b0f0c4-930d-4b14-8b7d-2b27fa0f872d \">\n",
       "    <td class=\"mne-repr-section-toggle\"></td>\n",
       "    <td>Time range</td>\n",
       "    <td>-0.749 – 2.000 s</td>\n",
       "</tr>\n",
       "\n",
       "\n",
       "<tr class=\"repr-element acquisition-e7b0f0c4-930d-4b14-8b7d-2b27fa0f872d \">\n",
       "    <td class=\"mne-repr-section-toggle\"></td>\n",
       "    <td>Baseline</td>\n",
       "    <td>off</td>\n",
       "</tr>\n",
       "\n",
       "\n",
       "<tr class=\"repr-element acquisition-e7b0f0c4-930d-4b14-8b7d-2b27fa0f872d \">\n",
       "    <td class=\"mne-repr-section-toggle\"></td>\n",
       "    <td>Sampling frequency</td>\n",
       "    <td>750.00 Hz</td>\n",
       "</tr>\n",
       "\n",
       "\n",
       "<tr class=\"repr-element acquisition-e7b0f0c4-930d-4b14-8b7d-2b27fa0f872d \">\n",
       "    <td class=\"mne-repr-section-toggle\"></td>\n",
       "    <td>Time points</td>\n",
       "    <td>2,063</td>\n",
       "</tr>\n",
       "\n",
       "\n",
       "<tr class=\"repr-element acquisition-e7b0f0c4-930d-4b14-8b7d-2b27fa0f872d \">\n",
       "    <td class=\"mne-repr-section-toggle\"></td>\n",
       "    <td>Metadata</td>\n",
       "    <td>No metadata set</td>\n",
       "</tr>\n",
       "\n",
       "    \n",
       "\n",
       "\n",
       "\n",
       "\n",
       "\n",
       "\n",
       "\n",
       "<tr class=\"mne-repr-section-header channels-f14ec5ce-1ef0-4549-9b40-234d32382380\"\n",
       "     title=\"Hide section\" \n",
       "    onclick=\"toggleVisibility('channels-f14ec5ce-1ef0-4549-9b40-234d32382380')\">\n",
       "    <th class=\"mne-repr-section-toggle\">\n",
       "        <button >\n",
       "            <svg xmlns=\"http://www.w3.org/2000/svg\" viewBox=\"0 0 512 512\"><!--!Font Awesome Free 6.6.0 by @fontawesome - https://fontawesome.com License - https://fontawesome.com/license/free Copyright 2024 Fonticons, Inc.--><path d=\"M233.4 406.6c12.5 12.5 32.8 12.5 45.3 0l192-192c12.5-12.5 12.5-32.8 0-45.3s-32.8-12.5-45.3 0L256 338.7 86.6 169.4c-12.5-12.5-32.8-12.5-45.3 0s-12.5 32.8 0 45.3l192 192z\"/></svg>\n",
       "        </button>\n",
       "    </th>\n",
       "    <th colspan=\"2\">\n",
       "        <strong>Channels</strong>\n",
       "    </th>\n",
       "</tr>\n",
       "\n",
       "\n",
       "    \n",
       "<tr class=\"repr-element channels-f14ec5ce-1ef0-4549-9b40-234d32382380 \">\n",
       "    <td class=\"mne-repr-section-toggle\"></td>\n",
       "    <td>Magnetometers</td>\n",
       "    <td>\n",
       "        <button class=\"mne-ch-names-btn sd-sphinx-override sd-btn sd-btn-info sd-text-wrap sd-shadow-sm\" onclick=\"alert('Good Magnetometers:\\n\\nF1&nbsp;A1&nbsp;Z, F1&nbsp;A1&nbsp;Y, F1&nbsp;A1&nbsp;X, F3&nbsp;A3&nbsp;Z, F3&nbsp;A3&nbsp;Y, F3&nbsp;A3&nbsp;X, F5&nbsp;A6&nbsp;Z, F5&nbsp;A6&nbsp;Y, F5&nbsp;A6&nbsp;X, F7&nbsp;C3&nbsp;Z, F7&nbsp;C3&nbsp;Y, F7&nbsp;C3&nbsp;X, F9&nbsp;A4&nbsp;Z, F9&nbsp;A4&nbsp;Y, F9&nbsp;A4&nbsp;X, F11&nbsp;A8&nbsp;Z, F11&nbsp;A8&nbsp;Y, F11&nbsp;A8&nbsp;X, C1&nbsp;A7&nbsp;Z, C1&nbsp;A7&nbsp;Y, C1&nbsp;A7&nbsp;X, C3&nbsp;C2&nbsp;Z, C3&nbsp;C2&nbsp;Y, C3&nbsp;C2&nbsp;X, C5&nbsp;C1&nbsp;Z, C5&nbsp;C1&nbsp;Y, C5&nbsp;C1&nbsp;X, C7&nbsp;E4&nbsp;Z, C7&nbsp;E4&nbsp;Y, C7&nbsp;E4&nbsp;X, P1&nbsp;E8&nbsp;Z, P1&nbsp;E8&nbsp;Y, P1&nbsp;E8&nbsp;X, P3&nbsp;E1&nbsp;Z, P3&nbsp;E1&nbsp;Y, P3&nbsp;E1&nbsp;X, P5&nbsp;C6&nbsp;Z, P5&nbsp;C6&nbsp;Y, P5&nbsp;C6&nbsp;X, P7&nbsp;E7&nbsp;Z, P7&nbsp;E7&nbsp;Y, P7&nbsp;E7&nbsp;X, P9&nbsp;E3&nbsp;Z, P9&nbsp;E3&nbsp;Y, P9&nbsp;E3&nbsp;X, P11&nbsp;E6&nbsp;Z, P11&nbsp;E6&nbsp;Y, P11&nbsp;E6&nbsp;X, O1&nbsp;E5&nbsp;Z, O1&nbsp;E5&nbsp;Y, O1&nbsp;E5&nbsp;X, O3&nbsp;G6&nbsp;Z, O3&nbsp;G6&nbsp;Y, O3&nbsp;G6&nbsp;X, O5&nbsp;G4&nbsp;Z, O5&nbsp;G4&nbsp;Y, O5&nbsp;G4&nbsp;X, O7&nbsp;G2&nbsp;Z, O7&nbsp;G2&nbsp;Y, O7&nbsp;G2&nbsp;X, O9&nbsp;G3&nbsp;Z, O9&nbsp;G3&nbsp;Y, T1&nbsp;C7&nbsp;Y, T1&nbsp;C7&nbsp;X, T3&nbsp;C4&nbsp;Z, T3&nbsp;C4&nbsp;Y, T3&nbsp;C4&nbsp;X, T5&nbsp;C5&nbsp;X, T7&nbsp;C8&nbsp;Z, T7&nbsp;C8&nbsp;Y, T7&nbsp;C8&nbsp;X, T9&nbsp;G1&nbsp;Z, T9&nbsp;G1&nbsp;Y, T9&nbsp;G1&nbsp;X, T11&nbsp;G7&nbsp;Z, T11&nbsp;G7&nbsp;X, T13&nbsp;G8&nbsp;Z, T13&nbsp;G8&nbsp;Y, T13&nbsp;G8&nbsp;X, F2&nbsp;B7&nbsp;Z, F2&nbsp;B7&nbsp;Y, F2&nbsp;B7&nbsp;X, F4&nbsp;B6&nbsp;Z, F4&nbsp;B6&nbsp;Y, F4&nbsp;B6&nbsp;X, F6&nbsp;B8&nbsp;Z, F6&nbsp;B8&nbsp;Y, F6&nbsp;B8&nbsp;X, F8&nbsp;B1&nbsp;Z, F8&nbsp;B1&nbsp;Y, F8&nbsp;B1&nbsp;X, F10&nbsp;B3&nbsp;Z, F10&nbsp;B3&nbsp;Y, F10&nbsp;B3&nbsp;X, F12&nbsp;D8&nbsp;Z, F12&nbsp;D8&nbsp;Y, F12&nbsp;D8&nbsp;X, C2&nbsp;B5&nbsp;Z, C2&nbsp;B5&nbsp;Y, C2&nbsp;B5&nbsp;X, C4&nbsp;D7&nbsp;Z, C4&nbsp;D7&nbsp;Y, C4&nbsp;D7&nbsp;X, C6&nbsp;D4&nbsp;Z, C6&nbsp;D4&nbsp;Y, C6&nbsp;D4&nbsp;X, C8&nbsp;F7&nbsp;Z, C8&nbsp;F7&nbsp;Y, C8&nbsp;F7&nbsp;X, P2&nbsp;F3&nbsp;Z, P2&nbsp;F3&nbsp;Y, P2&nbsp;F3&nbsp;X, P4&nbsp;D3&nbsp;Z, P4&nbsp;D3&nbsp;Y, P4&nbsp;D3&nbsp;X, P6&nbsp;F2&nbsp;Z, P6&nbsp;F2&nbsp;Y, P6&nbsp;F2&nbsp;X, P8&nbsp;F1&nbsp;Z, P8&nbsp;F1&nbsp;Y, P8&nbsp;F1&nbsp;X, P10&nbsp;F5&nbsp;Z, P10&nbsp;F5&nbsp;Y, P10&nbsp;F5&nbsp;X, P12&nbsp;F4&nbsp;Z, P12&nbsp;F4&nbsp;Y, P12&nbsp;F4&nbsp;X, O2&nbsp;H3&nbsp;Z, O2&nbsp;H3&nbsp;X, O4&nbsp;H8&nbsp;Z, O4&nbsp;H8&nbsp;Y, O4&nbsp;H8&nbsp;X, O6&nbsp;H1&nbsp;Z, O6&nbsp;H1&nbsp;Y, O6&nbsp;H1&nbsp;X, O8&nbsp;H5&nbsp;Z, O8&nbsp;H5&nbsp;Y, O8&nbsp;H5&nbsp;X, O10&nbsp;H7&nbsp;Z, O10&nbsp;H7&nbsp;Y, O10&nbsp;H7&nbsp;X, T2&nbsp;B2&nbsp;Z, T2&nbsp;B2&nbsp;Y, T2&nbsp;B2&nbsp;X, T4&nbsp;D1&nbsp;Z, T4&nbsp;D1&nbsp;Y, T4&nbsp;D1&nbsp;X, T6&nbsp;D6&nbsp;Z, T6&nbsp;D6&nbsp;Y, T6&nbsp;D6&nbsp;X, T8&nbsp;D2&nbsp;Z, T8&nbsp;D2&nbsp;Y, T8&nbsp;D2&nbsp;X, T10&nbsp;D5&nbsp;Z, T10&nbsp;D5&nbsp;Y, T10&nbsp;D5&nbsp;X, T12&nbsp;H2&nbsp;Z, T12&nbsp;H2&nbsp;Y, T12&nbsp;H2&nbsp;X, Fpz&nbsp;A2&nbsp;Z, Fpz&nbsp;A2&nbsp;Y, Fpz&nbsp;A2&nbsp;X, Fz&nbsp;A5&nbsp;Z, Fz&nbsp;A5&nbsp;Y, Fz&nbsp;A5&nbsp;X, FCz&nbsp;F6&nbsp;Z, FCz&nbsp;F6&nbsp;Y, FCz&nbsp;F6&nbsp;X, Cz&nbsp;E2&nbsp;Z, Cz&nbsp;E2&nbsp;Y, Cz&nbsp;E2&nbsp;X, Pz&nbsp;F8&nbsp;Z, Pz&nbsp;F8&nbsp;Y, Pz&nbsp;F8&nbsp;X, Oz&nbsp;G5&nbsp;Z, Oz&nbsp;G5&nbsp;Y, Oz&nbsp;G5&nbsp;X, Iz&nbsp;H4&nbsp;Z, Iz&nbsp;H4&nbsp;Y, Iz&nbsp;H4&nbsp;X')\" title=\"(Click to open in popup)&#13;&#13;F1&nbsp;A1&nbsp;Z, F1&nbsp;A1&nbsp;Y, F1&nbsp;A1&nbsp;X, F3&nbsp;A3&nbsp;Z, F3&nbsp;A3&nbsp;Y, F3&nbsp;A3&nbsp;X, F5&nbsp;A6&nbsp;Z, F5&nbsp;A6&nbsp;Y, F5&nbsp;A6&nbsp;X, F7&nbsp;C3&nbsp;Z, F7&nbsp;C3&nbsp;Y, F7&nbsp;C3&nbsp;X, F9&nbsp;A4&nbsp;Z, F9&nbsp;A4&nbsp;Y, F9&nbsp;A4&nbsp;X, F11&nbsp;A8&nbsp;Z, F11&nbsp;A8&nbsp;Y, F11&nbsp;A8&nbsp;X, C1&nbsp;A7&nbsp;Z, C1&nbsp;A7&nbsp;Y, C1&nbsp;A7&nbsp;X, C3&nbsp;C2&nbsp;Z, C3&nbsp;C2&nbsp;Y, C3&nbsp;C2&nbsp;X, C5&nbsp;C1&nbsp;Z, C5&nbsp;C1&nbsp;Y, C5&nbsp;C1&nbsp;X, C7&nbsp;E4&nbsp;Z, C7&nbsp;E4&nbsp;Y, C7&nbsp;E4&nbsp;X, P1&nbsp;E8&nbsp;Z, P1&nbsp;E8&nbsp;Y, P1&nbsp;E8&nbsp;X, P3&nbsp;E1&nbsp;Z, P3&nbsp;E1&nbsp;Y, P3&nbsp;E1&nbsp;X, P5&nbsp;C6&nbsp;Z, P5&nbsp;C6&nbsp;Y, P5&nbsp;C6&nbsp;X, P7&nbsp;E7&nbsp;Z, P7&nbsp;E7&nbsp;Y, P7&nbsp;E7&nbsp;X, P9&nbsp;E3&nbsp;Z, P9&nbsp;E3&nbsp;Y, P9&nbsp;E3&nbsp;X, P11&nbsp;E6&nbsp;Z, P11&nbsp;E6&nbsp;Y, P11&nbsp;E6&nbsp;X, O1&nbsp;E5&nbsp;Z, O1&nbsp;E5&nbsp;Y, O1&nbsp;E5&nbsp;X, O3&nbsp;G6&nbsp;Z, O3&nbsp;G6&nbsp;Y, O3&nbsp;G6&nbsp;X, O5&nbsp;G4&nbsp;Z, O5&nbsp;G4&nbsp;Y, O5&nbsp;G4&nbsp;X, O7&nbsp;G2&nbsp;Z, O7&nbsp;G2&nbsp;Y, O7&nbsp;G2&nbsp;X, O9&nbsp;G3&nbsp;Z, O9&nbsp;G3&nbsp;Y, T1&nbsp;C7&nbsp;Y, T1&nbsp;C7&nbsp;X, T3&nbsp;C4&nbsp;Z, T3&nbsp;C4&nbsp;Y, T3&nbsp;C4&nbsp;X, T5&nbsp;C5&nbsp;X, T7&nbsp;C8&nbsp;Z, T7&nbsp;C8&nbsp;Y, T7&nbsp;C8&nbsp;X, T9&nbsp;G1&nbsp;Z, T9&nbsp;G1&nbsp;Y, T9&nbsp;G1&nbsp;X, T11&nbsp;G7&nbsp;Z, T11&nbsp;G7&nbsp;X, T13&nbsp;G8&nbsp;Z, T13&nbsp;G8&nbsp;Y, T13&nbsp;G8&nbsp;X, F2&nbsp;B7&nbsp;Z, F2&nbsp;B7&nbsp;Y, F2&nbsp;B7&nbsp;X, F4&nbsp;B6&nbsp;Z, F4&nbsp;B6&nbsp;Y, F4&nbsp;B6&nbsp;X, F6&nbsp;B8&nbsp;Z, F6&nbsp;B8&nbsp;Y, F6&nbsp;B8&nbsp;X, F8&nbsp;B1&nbsp;Z, F8&nbsp;B1&nbsp;Y, F8&nbsp;B1&nbsp;X, F10&nbsp;B3&nbsp;Z, F10&nbsp;B3&nbsp;Y, F10&nbsp;B3&nbsp;X, F12&nbsp;D8&nbsp;Z, F12&nbsp;D8&nbsp;Y, F12&nbsp;D8&nbsp;X, C2&nbsp;B5&nbsp;Z, C2&nbsp;B5&nbsp;Y, C2&nbsp;B5&nbsp;X, C4&nbsp;D7&nbsp;Z, C4&nbsp;D7&nbsp;Y, C4&nbsp;D7&nbsp;X, C6&nbsp;D4&nbsp;Z, C6&nbsp;D4&nbsp;Y, C6&nbsp;D4&nbsp;X, C8&nbsp;F7&nbsp;Z, C8&nbsp;F7&nbsp;Y, C8&nbsp;F7&nbsp;X, P2&nbsp;F3&nbsp;Z, P2&nbsp;F3&nbsp;Y, P2&nbsp;F3&nbsp;X, P4&nbsp;D3&nbsp;Z, P4&nbsp;D3&nbsp;Y, P4&nbsp;D3&nbsp;X, P6&nbsp;F2&nbsp;Z, P6&nbsp;F2&nbsp;Y, P6&nbsp;F2&nbsp;X, P8&nbsp;F1&nbsp;Z, P8&nbsp;F1&nbsp;Y, P8&nbsp;F1&nbsp;X, P10&nbsp;F5&nbsp;Z, P10&nbsp;F5&nbsp;Y, P10&nbsp;F5&nbsp;X, P12&nbsp;F4&nbsp;Z, P12&nbsp;F4&nbsp;Y, P12&nbsp;F4&nbsp;X, O2&nbsp;H3&nbsp;Z, O2&nbsp;H3&nbsp;X, O4&nbsp;H8&nbsp;Z, O4&nbsp;H8&nbsp;Y, O4&nbsp;H8&nbsp;X, O6&nbsp;H1&nbsp;Z, O6&nbsp;H1&nbsp;Y, O6&nbsp;H1&nbsp;X, O8&nbsp;H5&nbsp;Z, O8&nbsp;H5&nbsp;Y, O8&nbsp;H5&nbsp;X, O10&nbsp;H7&nbsp;Z, O10&nbsp;H7&nbsp;Y, O10&nbsp;H7&nbsp;X, T2&nbsp;B2&nbsp;Z, T2&nbsp;B2&nbsp;Y, T2&nbsp;B2&nbsp;X, T4&nbsp;D1&nbsp;Z, T4&nbsp;D1&nbsp;Y, T4&nbsp;D1&nbsp;X, T6&nbsp;D6&nbsp;Z, T6&nbsp;D6&nbsp;Y, T6&nbsp;D6&nbsp;X, T8&nbsp;D2&nbsp;Z, T8&nbsp;D2&nbsp;Y, T8&nbsp;D2&nbsp;X, T10&nbsp;D5&nbsp;Z, T10&nbsp;D5&nbsp;Y, T10&nbsp;D5&nbsp;X, T12&nbsp;H2&nbsp;Z, T12&nbsp;H2&nbsp;Y, T12&nbsp;H2&nbsp;X, Fpz&nbsp;A2&nbsp;Z, Fpz&nbsp;A2&nbsp;Y, Fpz&nbsp;A2&nbsp;X, Fz&nbsp;A5&nbsp;Z, Fz&nbsp;A5&nbsp;Y, Fz&nbsp;A5&nbsp;X, FCz&nbsp;F6&nbsp;Z, FCz&nbsp;F6&nbsp;Y, FCz&nbsp;F6&nbsp;X, Cz&nbsp;E2&nbsp;Z, Cz&nbsp;E2&nbsp;Y, Cz&nbsp;E2&nbsp;X, Pz&nbsp;F8&nbsp;Z, Pz&nbsp;F8&nbsp;Y, Pz&nbsp;F8&nbsp;X, Oz&nbsp;G5&nbsp;Z, Oz&nbsp;G5&nbsp;Y, Oz&nbsp;G5&nbsp;X, Iz&nbsp;H4&nbsp;Z, Iz&nbsp;H4&nbsp;Y, Iz&nbsp;H4&nbsp;X\">\n",
       "            180\n",
       "        </button>\n",
       "\n",
       "        \n",
       "    </td>\n",
       "</tr>\n",
       "\n",
       "    \n",
       "<tr class=\"repr-element channels-f14ec5ce-1ef0-4549-9b40-234d32382380 \">\n",
       "    <td class=\"mne-repr-section-toggle\"></td>\n",
       "    <td>EOG</td>\n",
       "    <td>\n",
       "        <button class=\"mne-ch-names-btn sd-sphinx-override sd-btn sd-btn-info sd-text-wrap sd-shadow-sm\" onclick=\"alert('Good EOG:\\n\\nTrigger&nbsp;2')\" title=\"(Click to open in popup)&#13;&#13;Trigger&nbsp;2\">\n",
       "            1\n",
       "        </button>\n",
       "\n",
       "        \n",
       "    </td>\n",
       "</tr>\n",
       "\n",
       "    \n",
       "<tr class=\"repr-element channels-f14ec5ce-1ef0-4549-9b40-234d32382380 \">\n",
       "    <td class=\"mne-repr-section-toggle\"></td>\n",
       "    <td>Stimulus</td>\n",
       "    <td>\n",
       "        <button class=\"mne-ch-names-btn sd-sphinx-override sd-btn sd-btn-info sd-text-wrap sd-shadow-sm\" onclick=\"alert('Good Stimulus:\\n\\nTrigger&nbsp;1, Trigger&nbsp;3, Trigger&nbsp;4, Trigger&nbsp;5, Trigger&nbsp;6, Trigger&nbsp;7, Trigger&nbsp;8, Trigger&nbsp;9, Trigger&nbsp;10, Trigger&nbsp;11, BNC&nbsp;1&nbsp;Z, BNC&nbsp;2&nbsp;Z, BNC&nbsp;3&nbsp;Z, BNC&nbsp;4&nbsp;Z, BNC&nbsp;5&nbsp;Z, BNC&nbsp;6&nbsp;Z, BNC&nbsp;7&nbsp;Z, BNC&nbsp;8&nbsp;Z, BNC&nbsp;9&nbsp;Z, BNC&nbsp;10&nbsp;Z, BNC&nbsp;11&nbsp;Z, BNC&nbsp;12&nbsp;Z, BNC&nbsp;13&nbsp;Z, BNC&nbsp;14&nbsp;Z, BNC&nbsp;15&nbsp;Z, BNC&nbsp;16&nbsp;Z')\" title=\"(Click to open in popup)&#13;&#13;Trigger&nbsp;1, Trigger&nbsp;3, Trigger&nbsp;4, Trigger&nbsp;5, Trigger&nbsp;6, Trigger&nbsp;7, Trigger&nbsp;8, Trigger&nbsp;9, Trigger&nbsp;10, Trigger&nbsp;11, BNC&nbsp;1&nbsp;Z, BNC&nbsp;2&nbsp;Z, BNC&nbsp;3&nbsp;Z, BNC&nbsp;4&nbsp;Z, BNC&nbsp;5&nbsp;Z, BNC&nbsp;6&nbsp;Z, BNC&nbsp;7&nbsp;Z, BNC&nbsp;8&nbsp;Z, BNC&nbsp;9&nbsp;Z, BNC&nbsp;10&nbsp;Z, BNC&nbsp;11&nbsp;Z, BNC&nbsp;12&nbsp;Z, BNC&nbsp;13&nbsp;Z, BNC&nbsp;14&nbsp;Z, BNC&nbsp;15&nbsp;Z, BNC&nbsp;16&nbsp;Z\">\n",
       "            26\n",
       "        </button>\n",
       "\n",
       "        \n",
       "    </td>\n",
       "</tr>\n",
       "\n",
       "\n",
       "<tr class=\"repr-element channels-f14ec5ce-1ef0-4549-9b40-234d32382380 \">\n",
       "    <td class=\"mne-repr-section-toggle\"></td>\n",
       "    <td>Head & sensor digitization</td>\n",
       "    \n",
       "    <td>15603 points</td>\n",
       "    \n",
       "</tr>\n",
       "    \n",
       "\n",
       "\n",
       "\n",
       "\n",
       "\n",
       "\n",
       "\n",
       "<tr class=\"mne-repr-section-header filters-757f020a-ecc8-4951-8565-3cf393fa18e2\"\n",
       "     title=\"Hide section\" \n",
       "    onclick=\"toggleVisibility('filters-757f020a-ecc8-4951-8565-3cf393fa18e2')\">\n",
       "    <th class=\"mne-repr-section-toggle\">\n",
       "        <button >\n",
       "            <svg xmlns=\"http://www.w3.org/2000/svg\" viewBox=\"0 0 512 512\"><!--!Font Awesome Free 6.6.0 by @fontawesome - https://fontawesome.com License - https://fontawesome.com/license/free Copyright 2024 Fonticons, Inc.--><path d=\"M233.4 406.6c12.5 12.5 32.8 12.5 45.3 0l192-192c12.5-12.5 12.5-32.8 0-45.3s-32.8-12.5-45.3 0L256 338.7 86.6 169.4c-12.5-12.5-32.8-12.5-45.3 0s-12.5 32.8 0 45.3l192 192z\"/></svg>\n",
       "        </button>\n",
       "    </th>\n",
       "    <th colspan=\"2\">\n",
       "        <strong>Filters</strong>\n",
       "    </th>\n",
       "</tr>\n",
       "\n",
       "\n",
       "<tr class=\"repr-element filters-757f020a-ecc8-4951-8565-3cf393fa18e2 \">\n",
       "    <td class=\"mne-repr-section-toggle\"></td>\n",
       "    <td>Highpass</td>\n",
       "    <td>0.10 Hz</td>\n",
       "</tr>\n",
       "\n",
       "\n",
       "<tr class=\"repr-element filters-757f020a-ecc8-4951-8565-3cf393fa18e2 \">\n",
       "    <td class=\"mne-repr-section-toggle\"></td>\n",
       "    <td>Lowpass</td>\n",
       "    <td>250.00 Hz</td>\n",
       "</tr>\n",
       "\n",
       "\n",
       "<tr class=\"repr-element filters-757f020a-ecc8-4951-8565-3cf393fa18e2 \">\n",
       "    <td class=\"mne-repr-section-toggle\"></td>\n",
       "    <td>Projections</td>\n",
       "    <td>\n",
       "        \n",
       "        HFC: l=1 m=-1 (on)\n",
       "        <br />\n",
       "        \n",
       "        HFC: l=1 m=0 (on)\n",
       "        <br />\n",
       "        \n",
       "        HFC: l=1 m=1 (on)\n",
       "        <br />\n",
       "        \n",
       "        HFC: l=2 m=-2 (on)\n",
       "        <br />\n",
       "        \n",
       "        HFC: l=2 m=-1 (on)\n",
       "        <br />\n",
       "        \n",
       "        HFC: l=2 m=0 (on)\n",
       "        <br />\n",
       "        \n",
       "        HFC: l=2 m=1 (on)\n",
       "        <br />\n",
       "        \n",
       "        HFC: l=2 m=2 (on)\n",
       "        \n",
       "        \n",
       "    </td>\n",
       "</tr>\n",
       "\n",
       "</table>"
      ],
      "text/plain": [
       "<Epochs | 407 events (all good), -0.749 – 2 s (baseline off), ~1.30 GiB, data loaded,\n",
       " 'cue_Left': 113\n",
       " 'cue_Right': 106\n",
       " 'stimOnset': 188>"
      ]
     },
     "execution_count": 12,
     "metadata": {},
     "output_type": "execute_result"
    }
   ],
   "source": [
    "epochs"
   ]
  },
  {
   "cell_type": "markdown",
   "id": "04f5b3e5-c1db-4b80-a891-f815eb46958b",
   "metadata": {},
   "source": [
    "Note that there are 178 cue left trials and 180 cue right trials and 322 trials with stimulus onset\n",
    "\n",
    "Now plot an overview of the rejected epochs:\n"
   ]
  },
  {
   "cell_type": "code",
   "execution_count": 13,
   "id": "0aa7d18f-8034-4b32-a141-c42e2cef0b76",
   "metadata": {},
   "outputs": [
    {
     "data": {
      "image/png": "[encoded data removed]",
      "text/plain": [
       "<Figure size 640x480 with 1 Axes>"
      ]
     },
     "metadata": {},
     "output_type": "display_data"
    }
   ],
   "source": [
    "%matplotlib inline\n",
    "epochs.plot_drop_log();"
   ]
  },
  {
   "cell_type": "markdown",
   "id": "c5464164-1b51-49ee-be94-f88f3d20774d",
   "metadata": {},
   "source": [
    "\n",
    "\n",
    "A small percentage of the trials were rejected due to artefacts in the magnetometers.\n",
    "\n",
    "Now we save the epoched data in an FIF-file. \n",
    "\n"
   ]
  },
  {
   "cell_type": "code",
   "execution_count": 14,
   "id": "5b4ca1ee-52a0-4fe4-95b1-7d5ad4cadb66",
   "metadata": {},
   "outputs": [
    {
     "name": "stdout",
     "output_type": "stream",
     "text": [
      "/Users/o.jensen@bham.ac.uk/Library/CloudStorage/Dropbox/FLUX/OPM-Oxf/fif/Cerca_Spatt_BIDS/derivatives/analysis/sub-01/ses-01/meg/sub-01_ses-01_task-SpAtt_run-01_epo.fif\n"
     ]
    }
   ],
   "source": [
    "print(deriv_fname)"
   ]
  },
  {
   "cell_type": "code",
   "execution_count": 15,
   "id": "64d38713-a07c-433c-b6d3-518a77713b23",
   "metadata": {},
   "outputs": [
    {
     "name": "stdout",
     "output_type": "stream",
     "text": [
      "Overwriting existing file.\n",
      "Overwriting existing file.\n"
     ]
    },
    {
     "data": {
      "text/plain": [
       "[PosixPath('/Users/o.jensen@bham.ac.uk/Library/CloudStorage/Dropbox/FLUX/OPM-Oxf/fif/Cerca_Spatt_BIDS/derivatives/analysis/sub-01/ses-01/meg/sub-01_ses-01_task-SpAtt_run-01_epo.fif')]"
      ]
     },
     "execution_count": 15,
     "metadata": {},
     "output_type": "execute_result"
    }
   ],
   "source": [
    "epochs.save(deriv_fname, overwrite=True)"
   ]
  },
  {
   "cell_type": "markdown",
   "id": "4f99b556-4d7d-4a95-80b0-149c026a1fb6",
   "metadata": {},
   "source": [
    "\n",
    "## Plotting the trials\n",
    "\n",
    "To show the trials for the left cue condition for the OPM sensors:"
   ]
  },
  {
   "cell_type": "code",
   "execution_count": 16,
   "id": "a62cf962-9482-45fc-84a5-7f767d192b65",
   "metadata": {},
   "outputs": [
    {
     "name": "stdout",
     "output_type": "stream",
     "text": [
      "Using pyopengl with version 3.1.6\n"
     ]
    },
    {
     "data": {
      "text/plain": [
       "<mne_qt_browser._pg_figure.MNEQtBrowser(0x1054cf4b0) at 0x175b99280>"
      ]
     },
     "execution_count": 16,
     "metadata": {},
     "output_type": "execute_result"
    }
   ],
   "source": [
    "epochs['cue_Left'].plot(picks=['mag'])"
   ]
  },
  {
   "cell_type": "markdown",
   "id": "824e64d0-5afe-4b60-90d7-5476169773ef",
   "metadata": {},
   "source": [
    "The plot above shows the trials cued to the left. "
   ]
  },
  {
   "cell_type": "markdown",
   "id": "75a2364d-a5a7-4081-a87a-2e4148d46b77",
   "metadata": {},
   "source": [
    "To show all the trials belonging to left for a representative OPM Sensor (O6 H1 Z) use the plot_image function. In the following example we also lowpass filter the indvidual trials at 30 Hz and shorten them (crop) to a -100 to 400 ms interval:\n"
   ]
  },
  {
   "cell_type": "code",
   "execution_count": 17,
   "id": "d4fef2da-56c4-431a-b199-c96311f4fcc9",
   "metadata": {},
   "outputs": [
    {
     "name": "stdout",
     "output_type": "stream",
     "text": [
      "Setting up band-pass filter from 0.1 - 30 Hz\n",
      "\n",
      "FIR filter parameters\n",
      "---------------------\n",
      "Designing a one-pass, zero-phase, non-causal bandpass filter:\n",
      "- Windowed time-domain design (firwin) method\n",
      "- Hamming window with 0.0194 passband ripple and 53 dB stopband attenuation\n",
      "- Lower passband edge: 0.10\n",
      "- Lower transition bandwidth: 0.10 Hz (-6 dB cutoff frequency: 0.05 Hz)\n",
      "- Upper passband edge: 30.00 Hz\n",
      "- Upper transition bandwidth: 7.50 Hz (-6 dB cutoff frequency: 33.75 Hz)\n",
      "- Filter length: 24751 samples (33.001 s)\n",
      "\n"
     ]
    },
    {
     "name": "stderr",
     "output_type": "stream",
     "text": [
      "/var/folders/n0/w7vb4jpn0nx3hs95f4p7r9br0000gr/T/ipykernel_46672/2683820444.py:1: RuntimeWarning: filter_length (24751) is longer than the signal (2063), distortion is likely. Reduce filter length or filter a longer signal.\n",
      "  epochs['cue_Left'].filter(0.1,30).crop(-0.1,0.4).apply_baseline(baseline=(-0.1, 0)).plot_image(picks=['O9 G3 Z'], vmin=-2500, vmax=2500);\n",
      "[Parallel(n_jobs=1)]: Done  17 tasks      | elapsed:    0.2s\n",
      "[Parallel(n_jobs=1)]: Done  71 tasks      | elapsed:    0.3s\n",
      "[Parallel(n_jobs=1)]: Done 161 tasks      | elapsed:    0.3s\n",
      "[Parallel(n_jobs=1)]: Done 287 tasks      | elapsed:    0.4s\n",
      "[Parallel(n_jobs=1)]: Done 449 tasks      | elapsed:    0.5s\n",
      "[Parallel(n_jobs=1)]: Done 647 tasks      | elapsed:    0.7s\n",
      "[Parallel(n_jobs=1)]: Done 881 tasks      | elapsed:    0.8s\n",
      "[Parallel(n_jobs=1)]: Done 1151 tasks      | elapsed:    1.0s\n",
      "[Parallel(n_jobs=1)]: Done 1457 tasks      | elapsed:    1.2s\n",
      "[Parallel(n_jobs=1)]: Done 1799 tasks      | elapsed:    1.4s\n",
      "[Parallel(n_jobs=1)]: Done 2177 tasks      | elapsed:    1.7s\n",
      "[Parallel(n_jobs=1)]: Done 2591 tasks      | elapsed:    1.9s\n",
      "[Parallel(n_jobs=1)]: Done 3041 tasks      | elapsed:    2.2s\n",
      "[Parallel(n_jobs=1)]: Done 3527 tasks      | elapsed:    2.6s\n",
      "[Parallel(n_jobs=1)]: Done 4049 tasks      | elapsed:    2.9s\n",
      "[Parallel(n_jobs=1)]: Done 4607 tasks      | elapsed:    3.3s\n",
      "[Parallel(n_jobs=1)]: Done 5201 tasks      | elapsed:    3.7s\n",
      "[Parallel(n_jobs=1)]: Done 5831 tasks      | elapsed:    4.1s\n",
      "[Parallel(n_jobs=1)]: Done 6497 tasks      | elapsed:    4.5s\n",
      "[Parallel(n_jobs=1)]: Done 7199 tasks      | elapsed:    5.0s\n",
      "[Parallel(n_jobs=1)]: Done 7937 tasks      | elapsed:    5.5s\n",
      "[Parallel(n_jobs=1)]: Done 8711 tasks      | elapsed:    6.0s\n",
      "[Parallel(n_jobs=1)]: Done 9521 tasks      | elapsed:    6.5s\n",
      "[Parallel(n_jobs=1)]: Done 10367 tasks      | elapsed:    7.1s\n",
      "[Parallel(n_jobs=1)]: Done 11249 tasks      | elapsed:    7.7s\n",
      "[Parallel(n_jobs=1)]: Done 12167 tasks      | elapsed:    8.3s\n",
      "[Parallel(n_jobs=1)]: Done 13121 tasks      | elapsed:    8.9s\n",
      "[Parallel(n_jobs=1)]: Done 14111 tasks      | elapsed:    9.5s\n",
      "[Parallel(n_jobs=1)]: Done 15137 tasks      | elapsed:   10.2s\n",
      "[Parallel(n_jobs=1)]: Done 16199 tasks      | elapsed:   10.9s\n",
      "[Parallel(n_jobs=1)]: Done 17297 tasks      | elapsed:   11.6s\n",
      "[Parallel(n_jobs=1)]: Done 18431 tasks      | elapsed:   12.4s\n",
      "[Parallel(n_jobs=1)]: Done 19601 tasks      | elapsed:   13.2s\n"
     ]
    },
    {
     "name": "stdout",
     "output_type": "stream",
     "text": [
      "Applying baseline correction (mode: mean)\n",
      "Not setting metadata\n",
      "113 matching events found\n",
      "No baseline correction applied\n",
      "0 projection items activated\n"
     ]
    },
    {
     "data": {
      "image/png": "[encoded data removed]",
      "text/plain": [
       "<Figure size 640x480 with 4 Axes>"
      ]
     },
     "metadata": {},
     "output_type": "display_data"
    },
    {
     "name": "stdout",
     "output_type": "stream",
     "text": [
      "Dropped 0 epochs: \n",
      "The following epochs were marked as bad and are dropped:\n",
      "[]\n",
      "Channels marked as bad:\n",
      "none\n"
     ]
    },
    {
     "name": "stderr",
     "output_type": "stream",
     "text": [
      "/Users/o.jensen@bham.ac.uk/Applications/MNE-Python/1.9.0_0/.mne-python/lib/python3.12/site-packages/mne_qt_browser/_pg_figure.py:3061: RuntimeWarning: Failed to disconnect (None) from signal \"triggered()\".\n",
      "  sig.disconnect()\n"
     ]
    }
   ],
   "source": [
    "epochs['cue_Left'].filter(0.1,30).crop(-0.1,0.4).apply_baseline(baseline=(-0.1, 0)).plot_image(picks=['O9 G3 Z'], vmin=-2500, vmax=2500);"
   ]
  },
  {
   "cell_type": "markdown",
   "id": "a62cf481-1acb-43b0-94b5-8d2d94226a4b",
   "metadata": {},
   "source": [
    "## Preregistration and Publications"
   ]
  },
  {
   "cell_type": "markdown",
   "id": "4764c57c-d66d-4afe-93d3-0fc53834a555",
   "metadata": {},
   "source": [
    "\"Trials were extracted from the continuous data from –2.5 to 2 seconds around each event. No baseline correction was applied. A linear detrend was used to remove slow drifts. All channels were included, and bad trials were automatically excluded based on annotations. The data were preloaded for further analysis.\""
   ]
  },
  {
   "cell_type": "code",
   "execution_count": null,
   "id": "2f975a43-7fa5-425e-bdd6-21502dc1b1eb",
   "metadata": {},
   "outputs": [],
   "source": []
  }
 ],
 "metadata": {
  "kernelspec": {
   "display_name": "Python 3 (ipykernel)",
   "language": "python",
   "name": "python3"
  },
  "language_info": {
   "codemirror_mode": {
    "name": "ipython",
    "version": 3
   },
   "file_extension": ".py",
   "mimetype": "text/x-python",
   "name": "python",
   "nbconvert_exporter": "python",
   "pygments_lexer": "ipython3",
   "version": "3.12.7"
  }
 },
 "nbformat": 4,
 "nbformat_minor": 5
}
