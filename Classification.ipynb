{
 "cells": [
  {
   "cell_type": "markdown",
   "id": "fc3cc894-19ff-4063-90e6-11375614e347",
   "metadata": {},
   "source": [
    "# Classification using a Support Vector Machine (SVM)"
   ]
  },
  {
   "cell_type": "markdown",
   "id": "13648e53-a8a6-4aa9-8006-ad110eb36bd6",
   "metadata": {},
   "source": [
    "Multi-variate pattern analysis (MVPA) is becoming increasing popular in human electrophysiological research (*Cichy et al., 2014; Stokes et al, 2015;*). This approach allows for identifying representational specific information associated with distributed patterns of electrophysiological activity. In this example we demonstrate how a support vector machine (SVM) can be applied to classify two classes of trials."
   ]
  },
  {
   "cell_type": "markdown",
   "id": "016e7f8f-a7cc-4041-9d30-50998ae0c338",
   "metadata": {},
   "source": [
    "## Preparation\n",
    "\n",
    "Below are the required Python modules to be imported"
   ]
  },
  {
   "cell_type": "code",
   "execution_count": 3,
   "id": "fc106d37-7aa2-4cbf-9bac-1994f46bfddc",
   "metadata": {},
   "outputs": [],
   "source": [
    "import os.path as op\n",
    "import os\n",
    "import sys\n",
    "import matplotlib.pyplot as plt\n",
    "import numpy as np\n",
    "import mne\n",
    "from mne_bids import BIDSPath\n",
    "from mne.decoding import (SlidingEstimator, GeneralizingEstimator, Scaler,\n",
    "                          cross_val_multiscore, LinearModel, get_coef,\n",
    "                          Vectorizer, CSP)\n",
    "\n",
    "import sklearn.svm\n",
    "from sklearn.pipeline import make_pipeline\n",
    "from sklearn.preprocessing import StandardScaler\n",
    "from sklearn.linear_model import LogisticRegression"
   ]
  },
  {
   "cell_type": "markdown",
   "id": "97e6243a-1b32-4047-bad7-4c9833971ab7",
   "metadata": {},
   "source": [
    "The classification is based on the tools in the `Scikit-learn (#sklearn#)` package."
   ]
  },
  {
   "cell_type": "markdown",
   "id": "ce311ebd-f644-4b9a-8ca5-e45a4546f200",
   "metadata": {},
   "source": [
    "## File overview\n",
    "\n",
    "The chapter relies on the input file (embedded in the BIDS structure):\n",
    "\n",
    "`< BIDS_ROOT >/derivatives/Analysis/sub-01/ses-01/meg/sub-01_ses-01_task-SpAtt_run-12_epo.fif`\n",
    "\n",
    "Set the paths for the data and results. Note that these will depend on your local setup.\n"
   ]
  },
  {
   "cell_type": "markdown",
   "id": "8d38a4f1-da3b-42b3-ac72-a31a5b6d176d",
   "metadata": {},
   "source": [
    "## Specify your BIDS parameters along with the BIDS folder path"
   ]
  },
  {
   "cell_type": "code",
   "execution_count": 4,
   "id": "86d436a1-6516-48cd-af26-4f409faa2dfb",
   "metadata": {},
   "outputs": [
    {
     "name": "stdout",
     "output_type": "stream",
     "text": [
      "sub-01_ses-01_task-SpAtt_run-12_epo.fif C:\\Users\\rakshita\\Documents\\Cerca_raw_files\\Cerca_Spatt_BIDS\\derivatives\\analysis\\sub-01\\ses-01\\meg\\sub-01_ses-01_task-SpAtt_run-12_epo.fif\n"
     ]
    }
   ],
   "source": [
    "subject = '01'\n",
    "session = '01'\n",
    "task = 'SpAtt'  \n",
    "run = '12'  \n",
    "meg_suffix = 'meg'\n",
    "epo_suffix = 'epo'\n",
    "\n",
    "data_path='C:/Users/rakshita/Documents/Cerca_raw_files'\n",
    "bids_root = op.join(data_path, \"Cerca_Spatt_BIDS\")\n",
    "deriv_root = op.join(bids_root, \"derivatives/analysis\")\n",
    "bids_path = BIDSPath(subject=subject, session=session,\n",
    "            task=task, run=run, suffix=epo_suffix, datatype='meg',\n",
    "            root=deriv_root, extension='.fif', check=False)\n",
    "print(bids_path.basename,bids_path.fpath)"
   ]
  },
  {
   "cell_type": "markdown",
   "id": "bf2a673b-54eb-462b-bafc-1ed3c7c6fe62",
   "metadata": {},
   "source": [
    "## Reading and preparing the trial based data"
   ]
  },
  {
   "cell_type": "markdown",
   "id": "e6e5f6e9-39db-4fed-b961-bf39701bb5db",
   "metadata": {},
   "source": [
    "Read the epochs:"
   ]
  },
  {
   "cell_type": "code",
   "execution_count": 5,
   "id": "54259ec1-66fd-4d6d-9724-e00be36bf56e",
   "metadata": {},
   "outputs": [
    {
     "name": "stdout",
     "output_type": "stream",
     "text": [
      "Reading C:\\Users\\rakshita\\Documents\\Cerca_raw_files\\Cerca_Spatt_BIDS\\derivatives\\analysis\\sub-01\\ses-01\\meg\\sub-01_ses-01_task-SpAtt_run-12_epo.fif ...\n",
      "    Read a total of 8 projection items:\n",
      "        HFC: l=1 m=-1 (1 x 176) active\n",
      "        HFC: l=1 m=0 (1 x 176) active\n",
      "        HFC: l=1 m=1 (1 x 176) active\n",
      "        HFC: l=2 m=-2 (1 x 176) active\n",
      "        HFC: l=2 m=-1 (1 x 176) active\n",
      "        HFC: l=2 m=0 (1 x 176) active\n",
      "        HFC: l=2 m=1 (1 x 176) active\n",
      "        HFC: l=2 m=2 (1 x 176) active\n",
      "    Found the data of interest:\n",
      "        t =   -2500.00 ...    2000.00 ms\n",
      "        0 CTF compensation matrices available\n",
      "Not setting metadata\n",
      "353 matching events found\n",
      "No baseline correction applied\n",
      "Created an SSP operator (subspace dimension = 8)\n",
      "8 projection items activated\n"
     ]
    }
   ],
   "source": [
    "epochs = mne.read_epochs(bids_path.fpath,\n",
    "                         preload=True,\n",
    "                         verbose=True).pick(['meg'])"
   ]
  },
  {
   "cell_type": "markdown",
   "id": "92331e47-f6ab-45e0-9ec1-f9ca4421c03a",
   "metadata": {},
   "source": [
    "Now filter the data. In this case we lowpass the data at 10 Hz. This is done before cutting the trials in shorter segments in order to reduce edge effects from the filtering. The filter also serves to perform temporal smoothing of the data which will benefit the classification."
   ]
  },
  {
   "cell_type": "code",
   "execution_count": 6,
   "id": "e7773061-2a2c-46e7-a332-19d5d63f37ec",
   "metadata": {},
   "outputs": [
    {
     "name": "stdout",
     "output_type": "stream",
     "text": [
      "Setting up band-pass filter from 1 - 45 Hz\n",
      "\n",
      "FIR filter parameters\n",
      "---------------------\n",
      "Designing a one-pass, zero-phase, non-causal bandpass filter:\n",
      "- Windowed time-domain design (firwin) method\n",
      "- Hamming window with 0.0194 passband ripple and 53 dB stopband attenuation\n",
      "- Lower passband edge: 1.00\n",
      "- Lower transition bandwidth: 1.00 Hz (-6 dB cutoff frequency: 0.50 Hz)\n",
      "- Upper passband edge: 45.00 Hz\n",
      "- Upper transition bandwidth: 11.25 Hz (-6 dB cutoff frequency: 50.62 Hz)\n",
      "- Filter length: 2475 samples (3.300 s)\n",
      "\n"
     ]
    },
    {
     "name": "stderr",
     "output_type": "stream",
     "text": [
      "[Parallel(n_jobs=1)]: Done  17 tasks      | elapsed:    0.0s\n",
      "[Parallel(n_jobs=1)]: Done  71 tasks      | elapsed:    0.0s\n",
      "[Parallel(n_jobs=1)]: Done 161 tasks      | elapsed:    0.0s\n",
      "[Parallel(n_jobs=1)]: Done 287 tasks      | elapsed:    0.0s\n",
      "[Parallel(n_jobs=1)]: Done 449 tasks      | elapsed:    0.1s\n",
      "[Parallel(n_jobs=1)]: Done 647 tasks      | elapsed:    0.2s\n",
      "[Parallel(n_jobs=1)]: Done 881 tasks      | elapsed:    0.2s\n",
      "[Parallel(n_jobs=1)]: Done 1151 tasks      | elapsed:    0.4s\n",
      "[Parallel(n_jobs=1)]: Done 1457 tasks      | elapsed:    0.5s\n",
      "[Parallel(n_jobs=1)]: Done 1799 tasks      | elapsed:    0.6s\n",
      "[Parallel(n_jobs=1)]: Done 2177 tasks      | elapsed:    0.8s\n",
      "[Parallel(n_jobs=1)]: Done 2591 tasks      | elapsed:    0.9s\n",
      "[Parallel(n_jobs=1)]: Done 3041 tasks      | elapsed:    1.1s\n",
      "[Parallel(n_jobs=1)]: Done 3527 tasks      | elapsed:    1.3s\n",
      "[Parallel(n_jobs=1)]: Done 4049 tasks      | elapsed:    1.5s\n",
      "[Parallel(n_jobs=1)]: Done 4607 tasks      | elapsed:    1.7s\n",
      "[Parallel(n_jobs=1)]: Done 5201 tasks      | elapsed:    1.9s\n",
      "[Parallel(n_jobs=1)]: Done 5831 tasks      | elapsed:    2.2s\n",
      "[Parallel(n_jobs=1)]: Done 6497 tasks      | elapsed:    2.4s\n",
      "[Parallel(n_jobs=1)]: Done 7199 tasks      | elapsed:    2.7s\n",
      "[Parallel(n_jobs=1)]: Done 7937 tasks      | elapsed:    3.0s\n",
      "[Parallel(n_jobs=1)]: Done 8711 tasks      | elapsed:    3.3s\n",
      "[Parallel(n_jobs=1)]: Done 9521 tasks      | elapsed:    3.6s\n",
      "[Parallel(n_jobs=1)]: Done 10367 tasks      | elapsed:    3.9s\n",
      "[Parallel(n_jobs=1)]: Done 11249 tasks      | elapsed:    4.3s\n",
      "[Parallel(n_jobs=1)]: Done 12167 tasks      | elapsed:    4.7s\n",
      "[Parallel(n_jobs=1)]: Done 13121 tasks      | elapsed:    5.0s\n",
      "[Parallel(n_jobs=1)]: Done 14111 tasks      | elapsed:    5.4s\n",
      "[Parallel(n_jobs=1)]: Done 15137 tasks      | elapsed:    5.9s\n",
      "[Parallel(n_jobs=1)]: Done 16199 tasks      | elapsed:    6.3s\n",
      "[Parallel(n_jobs=1)]: Done 17297 tasks      | elapsed:    6.7s\n",
      "[Parallel(n_jobs=1)]: Done 18431 tasks      | elapsed:    7.2s\n",
      "[Parallel(n_jobs=1)]: Done 19601 tasks      | elapsed:    7.6s\n",
      "[Parallel(n_jobs=1)]: Done 20807 tasks      | elapsed:    8.1s\n",
      "[Parallel(n_jobs=1)]: Done 22049 tasks      | elapsed:    8.6s\n",
      "[Parallel(n_jobs=1)]: Done 23327 tasks      | elapsed:    9.1s\n",
      "[Parallel(n_jobs=1)]: Done 24641 tasks      | elapsed:    9.7s\n",
      "[Parallel(n_jobs=1)]: Done 25991 tasks      | elapsed:   10.2s\n",
      "[Parallel(n_jobs=1)]: Done 27377 tasks      | elapsed:   10.8s\n",
      "[Parallel(n_jobs=1)]: Done 28799 tasks      | elapsed:   11.4s\n",
      "[Parallel(n_jobs=1)]: Done 30257 tasks      | elapsed:   12.0s\n",
      "[Parallel(n_jobs=1)]: Done 31751 tasks      | elapsed:   12.6s\n",
      "[Parallel(n_jobs=1)]: Done 33281 tasks      | elapsed:   13.2s\n",
      "[Parallel(n_jobs=1)]: Done 34847 tasks      | elapsed:   13.8s\n",
      "[Parallel(n_jobs=1)]: Done 36449 tasks      | elapsed:   14.5s\n",
      "[Parallel(n_jobs=1)]: Done 38087 tasks      | elapsed:   15.1s\n",
      "[Parallel(n_jobs=1)]: Done 39761 tasks      | elapsed:   15.8s\n",
      "[Parallel(n_jobs=1)]: Done 41471 tasks      | elapsed:   16.5s\n",
      "[Parallel(n_jobs=1)]: Done 43217 tasks      | elapsed:   17.3s\n",
      "[Parallel(n_jobs=1)]: Done 44999 tasks      | elapsed:   18.0s\n",
      "[Parallel(n_jobs=1)]: Done 46817 tasks      | elapsed:   18.7s\n",
      "[Parallel(n_jobs=1)]: Done 48671 tasks      | elapsed:   19.5s\n",
      "[Parallel(n_jobs=1)]: Done 50561 tasks      | elapsed:   20.3s\n",
      "[Parallel(n_jobs=1)]: Done 52487 tasks      | elapsed:   21.0s\n",
      "[Parallel(n_jobs=1)]: Done 54449 tasks      | elapsed:   21.9s\n",
      "[Parallel(n_jobs=1)]: Done 56447 tasks      | elapsed:   22.7s\n",
      "[Parallel(n_jobs=1)]: Done 58481 tasks      | elapsed:   23.5s\n",
      "[Parallel(n_jobs=1)]: Done 60551 tasks      | elapsed:   24.4s\n"
     ]
    }
   ],
   "source": [
    "epochs_rs = epochs.copy().filter(1,45)"
   ]
  },
  {
   "cell_type": "markdown",
   "id": "22293eed-236a-4f8e-8dbb-394e846aaacb",
   "metadata": {},
   "source": [
    "#### Down-sample the data to 125 Hz in order to reduce the compuatation time. Then set the time-window of interest to -0.1 to 0.5 s around the target onset."
   ]
  },
  {
   "cell_type": "code",
   "execution_count": 7,
   "id": "4be00548-12b4-45ba-9fa4-cdc014e7d688",
   "metadata": {},
   "outputs": [
    {
     "data": {
      "text/html": [
       "<script type=\"text/javascript\">\n",
       "    // must be `var` (not `const`) because this can get embedded multiple times on a page\n",
       "var toggleVisibility = (className) => {\n",
       "\n",
       "    const elements = document.querySelectorAll(`.${className}`);\n",
       "\n",
       "    elements.forEach(element => {\n",
       "        if (element.classList.contains(\"mne-repr-section-header\")) {\n",
       "            return  // Don't collapse the section header row\n",
       "        }\n",
       "        element.classList.toggle(\"mne-repr-collapsed\");\n",
       "    });\n",
       "\n",
       "    // trigger caret to rotate\n",
       "    var sel = `.mne-repr-section-header.${className} > th.mne-repr-section-toggle > button`;\n",
       "    const button = document.querySelector(sel);\n",
       "    button.classList.toggle(\"collapsed\");\n",
       "\n",
       "    // adjust tooltip\n",
       "    sel = `tr.mne-repr-section-header.${className}`;\n",
       "    const secHeadRow = document.querySelector(sel);\n",
       "    secHeadRow.classList.toggle(\"collapsed\");\n",
       "    secHeadRow.title = secHeadRow.title === \"Hide section\" ? \"Show section\" : \"Hide section\";\n",
       "}\n",
       "</script>\n",
       "\n",
       "<style type=\"text/css\">\n",
       "    /*\n",
       "Styles in this section apply both to the sphinx-built website docs and to notebooks\n",
       "rendered in an IDE or in Jupyter. In our web docs, styles here are complemented by\n",
       "doc/_static/styles.css and other CSS files (e.g. from the sphinx theme, sphinx-gallery,\n",
       "or bootstrap). In IDEs/Jupyter, those style files are unavailable, so only the rules in\n",
       "this file apply (plus whatever default styling the IDE applies).\n",
       "*/\n",
       ".mne-repr-table {\n",
       "    display: inline;  /* prevent using full container width */\n",
       "}\n",
       ".mne-repr-table tr.mne-repr-section-header > th {\n",
       "    padding-top: 1rem;\n",
       "    text-align: left;\n",
       "    vertical-align: middle;\n",
       "}\n",
       ".mne-repr-section-toggle > button {\n",
       "    all: unset;\n",
       "    display: block;\n",
       "    height: 1rem;\n",
       "    width: 1rem;\n",
       "}\n",
       ".mne-repr-section-toggle > button > svg {\n",
       "    height: 60%;\n",
       "}\n",
       "\n",
       "/* transition (rotation) effects on the collapser button */\n",
       ".mne-repr-section-toggle > button.collapsed > svg {\n",
       "    transition: 0.1s ease-out;\n",
       "    transform: rotate(-90deg);\n",
       "}\n",
       ".mne-repr-section-toggle > button:not(.collapsed) > svg {\n",
       "    transition: 0.1s ease-out;\n",
       "    transform: rotate(0deg);\n",
       "}\n",
       "\n",
       "/* hide collapsed table rows */\n",
       ".mne-repr-collapsed {\n",
       "    display: none;\n",
       "}\n",
       "\n",
       "\n",
       "@layer {\n",
       "    /*\n",
       "    Selectors in a `@layer` will always be lower-precedence than selectors outside the\n",
       "    layer. So even though e.g. `div.output_html` is present in the sphinx-rendered\n",
       "    website docs, the styles here won't take effect there as long as some other rule\n",
       "    somewhere in the page's CSS targets the same element.\n",
       "\n",
       "    In IDEs or Jupyter notebooks, though, the CSS files from the sphinx theme,\n",
       "    sphinx-gallery, and bootstrap are unavailable, so these styles will apply.\n",
       "\n",
       "    Notes:\n",
       "\n",
       "    - the selector `.accordion-body` is for MNE Reports\n",
       "    - the selector `.output_html` is for VSCode's notebook interface\n",
       "    - the selector `.jp-RenderedHTML` is for Jupyter notebook\n",
       "    - variables starting with `--theme-` are VSCode-specific.\n",
       "    - variables starting with `--jp-` are Jupyter styles, *some of which* are also\n",
       "      available in VSCode. Here we try the `--theme-` variable first, then fall back to\n",
       "      the `--jp-` ones.\n",
       "    */\n",
       "    .mne-repr-table {\n",
       "        --mne-toggle-color: var(--theme-foreground, var(--jp-ui-font-color1));\n",
       "        --mne-button-bg-color: var(--theme-button-background, var(--jp-info-color0, var(--jp-content-link-color)));\n",
       "        --mne-button-fg-color: var(--theme-button-foreground, var(--jp-ui-inverse-font-color0, var(--jp-editor-background)));\n",
       "        --mne-button-hover-bg-color: var(--theme-button-hover-background, var(--jp-info-color1));\n",
       "        --mne-button-radius: var(--jp-border-radius, 0.25rem);\n",
       "    }\n",
       "    /* chevron position/alignment; in VSCode it looks ok without adjusting */\n",
       "    .accordion-body .mne-repr-section-toggle > button,\n",
       "    .jp-RenderedHTML .mne-repr-section-toggle > button {\n",
       "        padding: 0 0 45% 25% !important;\n",
       "    }\n",
       "    /* chevron color; MNE Report doesn't have light/dark mode */\n",
       "    div.output_html .mne-repr-section-toggle > button > svg > path,\n",
       "    .jp-RenderedHTML .mne-repr-section-toggle > button > svg > path {\n",
       "        fill: var(--mne-toggle-color);\n",
       "    }\n",
       "    .accordion-body .mne-ch-names-btn,\n",
       "    div.output_html .mne-ch-names-btn,\n",
       "    .jp-RenderedHTML .mne-ch-names-btn {\n",
       "        -webkit-border-radius: var(--mne-button-radius);\n",
       "        -moz-border-radius: var(--mne-button-radius);\n",
       "        border-radius: var(--mne-button-radius);\n",
       "        border: none;\n",
       "        background-image: none;\n",
       "        background-color: var(--mne-button-bg-color);\n",
       "        color: var(--mne-button-fg-color);\n",
       "        font-size: inherit;\n",
       "        min-width: 1.5rem;\n",
       "        padding: 0.25rem;\n",
       "        text-align: center;\n",
       "        text-decoration: none;\n",
       "    }\n",
       "    .accordion-body .mne-ch-names-btn:hover,\n",
       "    div.output_html .mne.ch-names-btn:hover,\n",
       "    .jp-RenderedHTML .mne-ch-names-btn:hover {\n",
       "        background-color: var(--mne-button-hover-bg-color);\n",
       "        text-decoration: underline;\n",
       "    }\n",
       "    .accordion-body .mne-ch-names-btn:focus-visible,\n",
       "    div.output_html .mne-ch-names-btn:focus-visible,\n",
       "    .jp-RenderedHTML .mne-ch-names-btn:focus-visible {\n",
       "        outline: 0.1875rem solid var(--mne-button-bg-color) !important;\n",
       "        outline-offset: 0.1875rem !important;\n",
       "    }\n",
       "}\n",
       "</style>\n",
       "\n",
       "\n",
       "\n",
       "<table class=\"table mne-repr-table\">\n",
       "    \n",
       "\n",
       "\n",
       "\n",
       "\n",
       "\n",
       "\n",
       "\n",
       "<tr class=\"mne-repr-section-header general-ebdb031f-4cfb-4f11-9e58-1eb35632ab97\"\n",
       "     title=\"Hide section\" \n",
       "    onclick=\"toggleVisibility('general-ebdb031f-4cfb-4f11-9e58-1eb35632ab97')\">\n",
       "    <th class=\"mne-repr-section-toggle\">\n",
       "        <button >\n",
       "            <svg xmlns=\"http://www.w3.org/2000/svg\" viewBox=\"0 0 512 512\"><!--!Font Awesome Free 6.6.0 by @fontawesome - https://fontawesome.com License - https://fontawesome.com/license/free Copyright 2024 Fonticons, Inc.--><path d=\"M233.4 406.6c12.5 12.5 32.8 12.5 45.3 0l192-192c12.5-12.5 12.5-32.8 0-45.3s-32.8-12.5-45.3 0L256 338.7 86.6 169.4c-12.5-12.5-32.8-12.5-45.3 0s-12.5 32.8 0 45.3l192 192z\"/></svg>\n",
       "        </button>\n",
       "    </th>\n",
       "    <th colspan=\"2\">\n",
       "        <strong>General</strong>\n",
       "    </th>\n",
       "</tr>\n",
       "\n",
       "\n",
       "<tr class=\"repr-element general-ebdb031f-4cfb-4f11-9e58-1eb35632ab97 \">\n",
       "    <td class=\"mne-repr-section-toggle\"></td>\n",
       "    <td>Filename(s)</td>\n",
       "    <td>\n",
       "        \n",
       "        sub-01_ses-01_task-SpAtt_run-12_epo.fif\n",
       "        \n",
       "        \n",
       "    </td>\n",
       "</tr>\n",
       "\n",
       "<tr class=\"repr-element general-ebdb031f-4cfb-4f11-9e58-1eb35632ab97 \">\n",
       "    <td class=\"mne-repr-section-toggle\"></td>\n",
       "    <td>MNE object type</td>\n",
       "    <td>EpochsFIF</td>\n",
       "</tr>\n",
       "<tr class=\"repr-element general-ebdb031f-4cfb-4f11-9e58-1eb35632ab97 \">\n",
       "    <td class=\"mne-repr-section-toggle\"></td>\n",
       "    <td>Measurement date</td>\n",
       "    \n",
       "    <td>Unknown</td>\n",
       "    \n",
       "</tr>\n",
       "<tr class=\"repr-element general-ebdb031f-4cfb-4f11-9e58-1eb35632ab97 \">\n",
       "    <td class=\"mne-repr-section-toggle\"></td>\n",
       "    <td>Participant</td>\n",
       "    \n",
       "    \n",
       "    \n",
       "</tr>\n",
       "<tr class=\"repr-element general-ebdb031f-4cfb-4f11-9e58-1eb35632ab97 \">\n",
       "    <td class=\"mne-repr-section-toggle\"></td>\n",
       "    <td>Experimenter</td>\n",
       "    \n",
       "    <td>mne_anonymize</td>\n",
       "    \n",
       "</tr>\n",
       "    \n",
       "\n",
       "\n",
       "\n",
       "\n",
       "\n",
       "\n",
       "\n",
       "<tr class=\"mne-repr-section-header acquisition-85f238e6-4ff6-4d71-b46f-2ccc269c219a\"\n",
       "     title=\"Hide section\" \n",
       "    onclick=\"toggleVisibility('acquisition-85f238e6-4ff6-4d71-b46f-2ccc269c219a')\">\n",
       "    <th class=\"mne-repr-section-toggle\">\n",
       "        <button >\n",
       "            <svg xmlns=\"http://www.w3.org/2000/svg\" viewBox=\"0 0 512 512\"><!--!Font Awesome Free 6.6.0 by @fontawesome - https://fontawesome.com License - https://fontawesome.com/license/free Copyright 2024 Fonticons, Inc.--><path d=\"M233.4 406.6c12.5 12.5 32.8 12.5 45.3 0l192-192c12.5-12.5 12.5-32.8 0-45.3s-32.8-12.5-45.3 0L256 338.7 86.6 169.4c-12.5-12.5-32.8-12.5-45.3 0s-12.5 32.8 0 45.3l192 192z\"/></svg>\n",
       "        </button>\n",
       "    </th>\n",
       "    <th colspan=\"2\">\n",
       "        <strong>Acquisition</strong>\n",
       "    </th>\n",
       "</tr>\n",
       "\n",
       "\n",
       "\n",
       "\n",
       "\n",
       "<tr class=\"repr-element acquisition-85f238e6-4ff6-4d71-b46f-2ccc269c219a \">\n",
       "    <td class=\"mne-repr-section-toggle\"></td>\n",
       "    <td>Total number of events</td>\n",
       "    <td>353</td>\n",
       "</tr>\n",
       "\n",
       "\n",
       "<tr class=\"repr-element acquisition-85f238e6-4ff6-4d71-b46f-2ccc269c219a \">\n",
       "    <td class=\"mne-repr-section-toggle\"></td>\n",
       "    <td>Events counts</td>\n",
       "    \n",
       "    <td>\n",
       "        \n",
       "        cue_Left: 174\n",
       "        <br />\n",
       "        \n",
       "        cue_Right: 179\n",
       "        \n",
       "        \n",
       "    </td>\n",
       "    \n",
       "</tr>\n",
       "\n",
       "\n",
       "<tr class=\"repr-element acquisition-85f238e6-4ff6-4d71-b46f-2ccc269c219a \">\n",
       "    <td class=\"mne-repr-section-toggle\"></td>\n",
       "    <td>Time range</td>\n",
       "    <td>-0.100 – 1.500 s</td>\n",
       "</tr>\n",
       "\n",
       "\n",
       "<tr class=\"repr-element acquisition-85f238e6-4ff6-4d71-b46f-2ccc269c219a \">\n",
       "    <td class=\"mne-repr-section-toggle\"></td>\n",
       "    <td>Baseline</td>\n",
       "    <td>off</td>\n",
       "</tr>\n",
       "\n",
       "\n",
       "<tr class=\"repr-element acquisition-85f238e6-4ff6-4d71-b46f-2ccc269c219a \">\n",
       "    <td class=\"mne-repr-section-toggle\"></td>\n",
       "    <td>Sampling frequency</td>\n",
       "    <td>250.00 Hz</td>\n",
       "</tr>\n",
       "\n",
       "\n",
       "<tr class=\"repr-element acquisition-85f238e6-4ff6-4d71-b46f-2ccc269c219a \">\n",
       "    <td class=\"mne-repr-section-toggle\"></td>\n",
       "    <td>Time points</td>\n",
       "    <td>401</td>\n",
       "</tr>\n",
       "\n",
       "\n",
       "<tr class=\"repr-element acquisition-85f238e6-4ff6-4d71-b46f-2ccc269c219a \">\n",
       "    <td class=\"mne-repr-section-toggle\"></td>\n",
       "    <td>Metadata</td>\n",
       "    <td>No metadata set</td>\n",
       "</tr>\n",
       "\n",
       "    \n",
       "\n",
       "\n",
       "\n",
       "\n",
       "\n",
       "\n",
       "\n",
       "<tr class=\"mne-repr-section-header channels-394899ae-6d3b-4279-8958-a30119744319\"\n",
       "     title=\"Hide section\" \n",
       "    onclick=\"toggleVisibility('channels-394899ae-6d3b-4279-8958-a30119744319')\">\n",
       "    <th class=\"mne-repr-section-toggle\">\n",
       "        <button >\n",
       "            <svg xmlns=\"http://www.w3.org/2000/svg\" viewBox=\"0 0 512 512\"><!--!Font Awesome Free 6.6.0 by @fontawesome - https://fontawesome.com License - https://fontawesome.com/license/free Copyright 2024 Fonticons, Inc.--><path d=\"M233.4 406.6c12.5 12.5 32.8 12.5 45.3 0l192-192c12.5-12.5 12.5-32.8 0-45.3s-32.8-12.5-45.3 0L256 338.7 86.6 169.4c-12.5-12.5-32.8-12.5-45.3 0s-12.5 32.8 0 45.3l192 192z\"/></svg>\n",
       "        </button>\n",
       "    </th>\n",
       "    <th colspan=\"2\">\n",
       "        <strong>Channels</strong>\n",
       "    </th>\n",
       "</tr>\n",
       "\n",
       "\n",
       "    \n",
       "<tr class=\"repr-element channels-394899ae-6d3b-4279-8958-a30119744319 \">\n",
       "    <td class=\"mne-repr-section-toggle\"></td>\n",
       "    <td>Magnetometers</td>\n",
       "    <td>\n",
       "        <button class=\"mne-ch-names-btn sd-sphinx-override sd-btn sd-btn-info sd-text-wrap sd-shadow-sm\" onclick=\"alert('Good Magnetometers:\\n\\nF1&nbsp;A1&nbsp;Z, F1&nbsp;A1&nbsp;Y, F1&nbsp;A1&nbsp;X, F3&nbsp;A3&nbsp;Z, F3&nbsp;A3&nbsp;Y, F3&nbsp;A3&nbsp;X, F5&nbsp;A6&nbsp;Z, F5&nbsp;A6&nbsp;Y, F5&nbsp;A6&nbsp;X, F7&nbsp;C3&nbsp;Z, F7&nbsp;C3&nbsp;Y, F7&nbsp;C3&nbsp;X, F9&nbsp;A4&nbsp;Z, F9&nbsp;A4&nbsp;Y, F9&nbsp;A4&nbsp;X, F11&nbsp;A8&nbsp;Z, F11&nbsp;A8&nbsp;Y, F11&nbsp;A8&nbsp;X, C1&nbsp;A7&nbsp;Z, C1&nbsp;A7&nbsp;Y, C1&nbsp;A7&nbsp;X, C3&nbsp;C2&nbsp;Z, C3&nbsp;C2&nbsp;Y, C3&nbsp;C2&nbsp;X, C5&nbsp;C1&nbsp;Z, C5&nbsp;C1&nbsp;Y, C5&nbsp;C1&nbsp;X, C7&nbsp;E4&nbsp;Z, C7&nbsp;E4&nbsp;Y, C7&nbsp;E4&nbsp;X, P1&nbsp;E8&nbsp;Z, P1&nbsp;E8&nbsp;Y, P1&nbsp;E8&nbsp;X, P3&nbsp;E1&nbsp;Z, P3&nbsp;E1&nbsp;Y, P3&nbsp;E1&nbsp;X, P5&nbsp;C6&nbsp;Z, P5&nbsp;C6&nbsp;Y, P5&nbsp;C6&nbsp;X, P7&nbsp;E7&nbsp;Z, P7&nbsp;E7&nbsp;Y, P7&nbsp;E7&nbsp;X, P9&nbsp;E3&nbsp;Z, P9&nbsp;E3&nbsp;Y, P9&nbsp;E3&nbsp;X, P11&nbsp;E6&nbsp;Z, P11&nbsp;E6&nbsp;Y, P11&nbsp;E6&nbsp;X, O1&nbsp;E5&nbsp;Z, O1&nbsp;E5&nbsp;Y, O1&nbsp;E5&nbsp;X, O3&nbsp;G6&nbsp;Z, O3&nbsp;G6&nbsp;Y, O3&nbsp;G6&nbsp;X, O5&nbsp;G4&nbsp;Z, O5&nbsp;G4&nbsp;Y, O5&nbsp;G4&nbsp;X, O7&nbsp;G2&nbsp;Z, O7&nbsp;G2&nbsp;Y, O7&nbsp;G2&nbsp;X, O9&nbsp;G3&nbsp;Z, O9&nbsp;G3&nbsp;Y, T1&nbsp;C7&nbsp;Y, T1&nbsp;C7&nbsp;X, T3&nbsp;C4&nbsp;Z, T3&nbsp;C4&nbsp;Y, T3&nbsp;C4&nbsp;X, T5&nbsp;C5&nbsp;X, T7&nbsp;C8&nbsp;Z, T7&nbsp;C8&nbsp;X, T9&nbsp;G1&nbsp;Z, T9&nbsp;G1&nbsp;Y, T9&nbsp;G1&nbsp;X, T11&nbsp;G7&nbsp;Z, T11&nbsp;G7&nbsp;X, T13&nbsp;G8&nbsp;Z, T13&nbsp;G8&nbsp;Y, T13&nbsp;G8&nbsp;X, F2&nbsp;B7&nbsp;Z, F2&nbsp;B7&nbsp;X, F4&nbsp;B6&nbsp;Z, F4&nbsp;B6&nbsp;Y, F4&nbsp;B6&nbsp;X, F6&nbsp;B8&nbsp;Z, F6&nbsp;B8&nbsp;Y, F6&nbsp;B8&nbsp;X, F8&nbsp;B1&nbsp;Z, F8&nbsp;B1&nbsp;Y, F8&nbsp;B1&nbsp;X, F10&nbsp;B3&nbsp;Z, F10&nbsp;B3&nbsp;Y, F10&nbsp;B3&nbsp;X, F12&nbsp;D8&nbsp;Z, F12&nbsp;D8&nbsp;Y, F12&nbsp;D8&nbsp;X, C2&nbsp;B5&nbsp;Z, C2&nbsp;B5&nbsp;Y, C2&nbsp;B5&nbsp;X, C4&nbsp;D7&nbsp;Z, C4&nbsp;D7&nbsp;Y, C4&nbsp;D7&nbsp;X, C6&nbsp;D4&nbsp;Z, C6&nbsp;D4&nbsp;Y, C6&nbsp;D4&nbsp;X, C8&nbsp;F7&nbsp;Z, C8&nbsp;F7&nbsp;Y, P2&nbsp;F3&nbsp;Z, P2&nbsp;F3&nbsp;Y, P2&nbsp;F3&nbsp;X, P4&nbsp;D3&nbsp;Z, P4&nbsp;D3&nbsp;Y, P4&nbsp;D3&nbsp;X, P6&nbsp;F2&nbsp;Z, P6&nbsp;F2&nbsp;Y, P6&nbsp;F2&nbsp;X, P8&nbsp;F1&nbsp;Z, P8&nbsp;F1&nbsp;Y, P8&nbsp;F1&nbsp;X, P10&nbsp;F5&nbsp;Z, P10&nbsp;F5&nbsp;Y, P10&nbsp;F5&nbsp;X, P12&nbsp;F4&nbsp;Z, P12&nbsp;F4&nbsp;Y, P12&nbsp;F4&nbsp;X, O2&nbsp;H3&nbsp;Z, O2&nbsp;H3&nbsp;X, O4&nbsp;H8&nbsp;Z, O4&nbsp;H8&nbsp;Y, O4&nbsp;H8&nbsp;X, O6&nbsp;H1&nbsp;Z, O6&nbsp;H1&nbsp;X, O8&nbsp;H5&nbsp;Z, O8&nbsp;H5&nbsp;Y, O8&nbsp;H5&nbsp;X, O10&nbsp;H7&nbsp;Z, O10&nbsp;H7&nbsp;Y, O10&nbsp;H7&nbsp;X, T2&nbsp;B2&nbsp;Z, T2&nbsp;B2&nbsp;Y, T2&nbsp;B2&nbsp;X, T4&nbsp;D1&nbsp;Z, T4&nbsp;D1&nbsp;Y, T4&nbsp;D1&nbsp;X, T6&nbsp;D6&nbsp;Z, T6&nbsp;D6&nbsp;Y, T6&nbsp;D6&nbsp;X, T8&nbsp;D2&nbsp;Z, T8&nbsp;D2&nbsp;Y, T8&nbsp;D2&nbsp;X, T10&nbsp;D5&nbsp;Z, T10&nbsp;D5&nbsp;Y, T10&nbsp;D5&nbsp;X, T12&nbsp;H2&nbsp;Z, T12&nbsp;H2&nbsp;Y, T12&nbsp;H2&nbsp;X, Fpz&nbsp;A2&nbsp;Z, Fpz&nbsp;A2&nbsp;Y, Fpz&nbsp;A2&nbsp;X, Fz&nbsp;A5&nbsp;Z, Fz&nbsp;A5&nbsp;Y, Fz&nbsp;A5&nbsp;X, FCz&nbsp;F6&nbsp;Z, FCz&nbsp;F6&nbsp;Y, FCz&nbsp;F6&nbsp;X, Cz&nbsp;E2&nbsp;Z, Cz&nbsp;E2&nbsp;Y, Cz&nbsp;E2&nbsp;X, Pz&nbsp;F8&nbsp;Z, Pz&nbsp;F8&nbsp;Y, Pz&nbsp;F8&nbsp;X, Oz&nbsp;G5&nbsp;Z, Oz&nbsp;G5&nbsp;Y, Oz&nbsp;G5&nbsp;X, Iz&nbsp;H4&nbsp;Z, Iz&nbsp;H4&nbsp;Y, Iz&nbsp;H4&nbsp;X')\" title=\"(Click to open in popup)&#13;&#13;F1&nbsp;A1&nbsp;Z, F1&nbsp;A1&nbsp;Y, F1&nbsp;A1&nbsp;X, F3&nbsp;A3&nbsp;Z, F3&nbsp;A3&nbsp;Y, F3&nbsp;A3&nbsp;X, F5&nbsp;A6&nbsp;Z, F5&nbsp;A6&nbsp;Y, F5&nbsp;A6&nbsp;X, F7&nbsp;C3&nbsp;Z, F7&nbsp;C3&nbsp;Y, F7&nbsp;C3&nbsp;X, F9&nbsp;A4&nbsp;Z, F9&nbsp;A4&nbsp;Y, F9&nbsp;A4&nbsp;X, F11&nbsp;A8&nbsp;Z, F11&nbsp;A8&nbsp;Y, F11&nbsp;A8&nbsp;X, C1&nbsp;A7&nbsp;Z, C1&nbsp;A7&nbsp;Y, C1&nbsp;A7&nbsp;X, C3&nbsp;C2&nbsp;Z, C3&nbsp;C2&nbsp;Y, C3&nbsp;C2&nbsp;X, C5&nbsp;C1&nbsp;Z, C5&nbsp;C1&nbsp;Y, C5&nbsp;C1&nbsp;X, C7&nbsp;E4&nbsp;Z, C7&nbsp;E4&nbsp;Y, C7&nbsp;E4&nbsp;X, P1&nbsp;E8&nbsp;Z, P1&nbsp;E8&nbsp;Y, P1&nbsp;E8&nbsp;X, P3&nbsp;E1&nbsp;Z, P3&nbsp;E1&nbsp;Y, P3&nbsp;E1&nbsp;X, P5&nbsp;C6&nbsp;Z, P5&nbsp;C6&nbsp;Y, P5&nbsp;C6&nbsp;X, P7&nbsp;E7&nbsp;Z, P7&nbsp;E7&nbsp;Y, P7&nbsp;E7&nbsp;X, P9&nbsp;E3&nbsp;Z, P9&nbsp;E3&nbsp;Y, P9&nbsp;E3&nbsp;X, P11&nbsp;E6&nbsp;Z, P11&nbsp;E6&nbsp;Y, P11&nbsp;E6&nbsp;X, O1&nbsp;E5&nbsp;Z, O1&nbsp;E5&nbsp;Y, O1&nbsp;E5&nbsp;X, O3&nbsp;G6&nbsp;Z, O3&nbsp;G6&nbsp;Y, O3&nbsp;G6&nbsp;X, O5&nbsp;G4&nbsp;Z, O5&nbsp;G4&nbsp;Y, O5&nbsp;G4&nbsp;X, O7&nbsp;G2&nbsp;Z, O7&nbsp;G2&nbsp;Y, O7&nbsp;G2&nbsp;X, O9&nbsp;G3&nbsp;Z, O9&nbsp;G3&nbsp;Y, T1&nbsp;C7&nbsp;Y, T1&nbsp;C7&nbsp;X, T3&nbsp;C4&nbsp;Z, T3&nbsp;C4&nbsp;Y, T3&nbsp;C4&nbsp;X, T5&nbsp;C5&nbsp;X, T7&nbsp;C8&nbsp;Z, T7&nbsp;C8&nbsp;X, T9&nbsp;G1&nbsp;Z, T9&nbsp;G1&nbsp;Y, T9&nbsp;G1&nbsp;X, T11&nbsp;G7&nbsp;Z, T11&nbsp;G7&nbsp;X, T13&nbsp;G8&nbsp;Z, T13&nbsp;G8&nbsp;Y, T13&nbsp;G8&nbsp;X, F2&nbsp;B7&nbsp;Z, F2&nbsp;B7&nbsp;X, F4&nbsp;B6&nbsp;Z, F4&nbsp;B6&nbsp;Y, F4&nbsp;B6&nbsp;X, F6&nbsp;B8&nbsp;Z, F6&nbsp;B8&nbsp;Y, F6&nbsp;B8&nbsp;X, F8&nbsp;B1&nbsp;Z, F8&nbsp;B1&nbsp;Y, F8&nbsp;B1&nbsp;X, F10&nbsp;B3&nbsp;Z, F10&nbsp;B3&nbsp;Y, F10&nbsp;B3&nbsp;X, F12&nbsp;D8&nbsp;Z, F12&nbsp;D8&nbsp;Y, F12&nbsp;D8&nbsp;X, C2&nbsp;B5&nbsp;Z, C2&nbsp;B5&nbsp;Y, C2&nbsp;B5&nbsp;X, C4&nbsp;D7&nbsp;Z, C4&nbsp;D7&nbsp;Y, C4&nbsp;D7&nbsp;X, C6&nbsp;D4&nbsp;Z, C6&nbsp;D4&nbsp;Y, C6&nbsp;D4&nbsp;X, C8&nbsp;F7&nbsp;Z, C8&nbsp;F7&nbsp;Y, P2&nbsp;F3&nbsp;Z, P2&nbsp;F3&nbsp;Y, P2&nbsp;F3&nbsp;X, P4&nbsp;D3&nbsp;Z, P4&nbsp;D3&nbsp;Y, P4&nbsp;D3&nbsp;X, P6&nbsp;F2&nbsp;Z, P6&nbsp;F2&nbsp;Y, P6&nbsp;F2&nbsp;X, P8&nbsp;F1&nbsp;Z, P8&nbsp;F1&nbsp;Y, P8&nbsp;F1&nbsp;X, P10&nbsp;F5&nbsp;Z, P10&nbsp;F5&nbsp;Y, P10&nbsp;F5&nbsp;X, P12&nbsp;F4&nbsp;Z, P12&nbsp;F4&nbsp;Y, P12&nbsp;F4&nbsp;X, O2&nbsp;H3&nbsp;Z, O2&nbsp;H3&nbsp;X, O4&nbsp;H8&nbsp;Z, O4&nbsp;H8&nbsp;Y, O4&nbsp;H8&nbsp;X, O6&nbsp;H1&nbsp;Z, O6&nbsp;H1&nbsp;X, O8&nbsp;H5&nbsp;Z, O8&nbsp;H5&nbsp;Y, O8&nbsp;H5&nbsp;X, O10&nbsp;H7&nbsp;Z, O10&nbsp;H7&nbsp;Y, O10&nbsp;H7&nbsp;X, T2&nbsp;B2&nbsp;Z, T2&nbsp;B2&nbsp;Y, T2&nbsp;B2&nbsp;X, T4&nbsp;D1&nbsp;Z, T4&nbsp;D1&nbsp;Y, T4&nbsp;D1&nbsp;X, T6&nbsp;D6&nbsp;Z, T6&nbsp;D6&nbsp;Y, T6&nbsp;D6&nbsp;X, T8&nbsp;D2&nbsp;Z, T8&nbsp;D2&nbsp;Y, T8&nbsp;D2&nbsp;X, T10&nbsp;D5&nbsp;Z, T10&nbsp;D5&nbsp;Y, T10&nbsp;D5&nbsp;X, T12&nbsp;H2&nbsp;Z, T12&nbsp;H2&nbsp;Y, T12&nbsp;H2&nbsp;X, Fpz&nbsp;A2&nbsp;Z, Fpz&nbsp;A2&nbsp;Y, Fpz&nbsp;A2&nbsp;X, Fz&nbsp;A5&nbsp;Z, Fz&nbsp;A5&nbsp;Y, Fz&nbsp;A5&nbsp;X, FCz&nbsp;F6&nbsp;Z, FCz&nbsp;F6&nbsp;Y, FCz&nbsp;F6&nbsp;X, Cz&nbsp;E2&nbsp;Z, Cz&nbsp;E2&nbsp;Y, Cz&nbsp;E2&nbsp;X, Pz&nbsp;F8&nbsp;Z, Pz&nbsp;F8&nbsp;Y, Pz&nbsp;F8&nbsp;X, Oz&nbsp;G5&nbsp;Z, Oz&nbsp;G5&nbsp;Y, Oz&nbsp;G5&nbsp;X, Iz&nbsp;H4&nbsp;Z, Iz&nbsp;H4&nbsp;Y, Iz&nbsp;H4&nbsp;X\">\n",
       "            176\n",
       "        </button>\n",
       "\n",
       "        \n",
       "    </td>\n",
       "</tr>\n",
       "\n",
       "\n",
       "<tr class=\"repr-element channels-394899ae-6d3b-4279-8958-a30119744319 \">\n",
       "    <td class=\"mne-repr-section-toggle\"></td>\n",
       "    <td>Head & sensor digitization</td>\n",
       "    \n",
       "    <td>15603 points</td>\n",
       "    \n",
       "</tr>\n",
       "    \n",
       "\n",
       "\n",
       "\n",
       "\n",
       "\n",
       "\n",
       "\n",
       "<tr class=\"mne-repr-section-header filters-8d351ab7-a718-41d3-aab4-684f112c2d54\"\n",
       "     title=\"Hide section\" \n",
       "    onclick=\"toggleVisibility('filters-8d351ab7-a718-41d3-aab4-684f112c2d54')\">\n",
       "    <th class=\"mne-repr-section-toggle\">\n",
       "        <button >\n",
       "            <svg xmlns=\"http://www.w3.org/2000/svg\" viewBox=\"0 0 512 512\"><!--!Font Awesome Free 6.6.0 by @fontawesome - https://fontawesome.com License - https://fontawesome.com/license/free Copyright 2024 Fonticons, Inc.--><path d=\"M233.4 406.6c12.5 12.5 32.8 12.5 45.3 0l192-192c12.5-12.5 12.5-32.8 0-45.3s-32.8-12.5-45.3 0L256 338.7 86.6 169.4c-12.5-12.5-32.8-12.5-45.3 0s-12.5 32.8 0 45.3l192 192z\"/></svg>\n",
       "        </button>\n",
       "    </th>\n",
       "    <th colspan=\"2\">\n",
       "        <strong>Filters</strong>\n",
       "    </th>\n",
       "</tr>\n",
       "\n",
       "\n",
       "<tr class=\"repr-element filters-8d351ab7-a718-41d3-aab4-684f112c2d54 \">\n",
       "    <td class=\"mne-repr-section-toggle\"></td>\n",
       "    <td>Highpass</td>\n",
       "    <td>1.00 Hz</td>\n",
       "</tr>\n",
       "\n",
       "\n",
       "<tr class=\"repr-element filters-8d351ab7-a718-41d3-aab4-684f112c2d54 \">\n",
       "    <td class=\"mne-repr-section-toggle\"></td>\n",
       "    <td>Lowpass</td>\n",
       "    <td>45.00 Hz</td>\n",
       "</tr>\n",
       "\n",
       "\n",
       "<tr class=\"repr-element filters-8d351ab7-a718-41d3-aab4-684f112c2d54 \">\n",
       "    <td class=\"mne-repr-section-toggle\"></td>\n",
       "    <td>Projections</td>\n",
       "    <td>\n",
       "        \n",
       "        HFC: l=1 m=-1 (on)\n",
       "        <br />\n",
       "        \n",
       "        HFC: l=1 m=0 (on)\n",
       "        <br />\n",
       "        \n",
       "        HFC: l=1 m=1 (on)\n",
       "        <br />\n",
       "        \n",
       "        HFC: l=2 m=-2 (on)\n",
       "        <br />\n",
       "        \n",
       "        HFC: l=2 m=-1 (on)\n",
       "        <br />\n",
       "        \n",
       "        HFC: l=2 m=0 (on)\n",
       "        <br />\n",
       "        \n",
       "        HFC: l=2 m=1 (on)\n",
       "        <br />\n",
       "        \n",
       "        HFC: l=2 m=2 (on)\n",
       "        \n",
       "        \n",
       "    </td>\n",
       "</tr>\n",
       "\n",
       "</table>"
      ],
      "text/plain": [
       "<EpochsFIF | 353 events (all good), -0.1 – 1.5 s (baseline off), ~195.7 MiB, data loaded,\n",
       " 'cue_Left': 174\n",
       " 'cue_Right': 179>"
      ]
     },
     "execution_count": 7,
     "metadata": {},
     "output_type": "execute_result"
    }
   ],
   "source": [
    "epochs_rs.resample(250)\n",
    "epochs_rs.crop(tmin=-0.1, tmax=1.5)"
   ]
  },
  {
   "cell_type": "markdown",
   "id": "37b15fb5-a29f-4e66-b1d4-8b7f815433a7",
   "metadata": {},
   "source": [
    "## Setting up the Classifier"
   ]
  },
  {
   "cell_type": "markdown",
   "id": "83f0784c-094b-4808-95f7-924dcea1c8be",
   "metadata": {},
   "source": [
    "The SVM is implemented in the *scikit-learn* package and the corresponding application programming interface (API) must be applied. The matrix ***X***\n",
    "(features) is a three-dimensional matrix (trials x channel x time points)."
   ]
  },
  {
   "cell_type": "code",
   "execution_count": 8,
   "id": "44475790-4e28-446c-82da-b813129edd1a",
   "metadata": {},
   "outputs": [
    {
     "data": {
      "text/plain": [
       "(353, 176, 401)"
      ]
     },
     "execution_count": 8,
     "metadata": {},
     "output_type": "execute_result"
    }
   ],
   "source": [
    "X = epochs_rs.get_data(picks='meg') \n",
    "X.shape"
   ]
  },
  {
   "cell_type": "markdown",
   "id": "3d45c5c1-ab4e-46e7-9cda-943307c03f19",
   "metadata": {},
   "source": [
    "In this case we have 353 trials and each trial has 75 timepoints. The vector *y* (target) contains 179 left trials and 174 right trials.The trial codes (5 & 6) needs to converted to the class labels 1 & 2."
   ]
  },
  {
   "cell_type": "code",
   "execution_count": 9,
   "id": "1d7b4c2b-0599-4923-afc2-4b1fdd191f78",
   "metadata": {},
   "outputs": [
    {
     "data": {
      "text/plain": [
       "array([[  90367,       0,       5],\n",
       "       [  94080,       0,       5],\n",
       "       [  97880,       0,       5],\n",
       "       ...,\n",
       "       [1523224,       0,       5],\n",
       "       [1526937,       0,       5],\n",
       "       [1530611,       0,       5]])"
      ]
     },
     "execution_count": 9,
     "metadata": {},
     "output_type": "execute_result"
    }
   ],
   "source": [
    "epochs.events"
   ]
  },
  {
   "cell_type": "code",
   "execution_count": 10,
   "id": "f45674b0-7a08-4c5d-a8db-be9ba3af8632",
   "metadata": {},
   "outputs": [
    {
     "name": "stdout",
     "output_type": "stream",
     "text": [
      "[1 1 1 2 1 1 1 2 1 2 1 1 2 1 1 2 1 2 2 1 2 2 2 1 2 2 1 2 1 2 1 1 2 1 2 2 1\n",
      " 1 1 2 2 2 2 2 1 1 2 1 1 2 2 2 2 1 1 1 2 2 2 1 1 2 2 1 1 2 1 1 1 2 1 1 1 2\n",
      " 2 2 2 1 1 1 2 2 1 2 2 1 1 2 1 1 1 2 1 1 1 2 2 1 1 2 2 2 2 2 2 2 1 2 2 1 2\n",
      " 1 1 2 1 2 2 1 2 1 1 2 1 1 2 1 1 2 1 2 2 2 1 2 1 2 1 2 2 2 2 2 1 2 2 2 1 2\n",
      " 2 1 2 2 1 1 1 1 1 1 2 1 1 2 2 1 2 2 2 1 1 1 1 2 2 1 1 1 2 2 1 1 2 2 2 2 1\n",
      " 2 2 2 1 2 2 2 1 1 1 2 2 2 1 2 2 2 1 2 1 1 1 1 1 2 2 1 1 1 2 2 2 1 1 1 1 2\n",
      " 1 1 1 2 2 2 1 2 1 1 1 2 1 1 2 2 2 2 1 1 1 2 1 1 1 2 2 1 1 2 1 1 1 2 1 1 1\n",
      " 2 2 2 1 2 2 2 1 2 2 2 1 2 2 2 2 1 2 2 2 1 2 1 2 1 2 1 1 1 2 1 2 1 2 1 1 2\n",
      " 2 1 1 2 1 2 2 1 2 1 1 2 2 1 1 1 1 2 1 2 1 1 2 1 2 1 2 2 2 2 2 2 2 2 1 1 2\n",
      " 2 2 2 1 1 1 1 2 1 1 2 2 1 2 1 2 2 1 1 1]\n"
     ]
    }
   ],
   "source": [
    "temp = epochs.events[:, 2]\n",
    "temp[epochs.events[:,2] == 5] = 1\n",
    "temp[epochs.events[:,2] == 6] = 2\n",
    "y = temp\n",
    "print(y)"
   ]
  },
  {
   "cell_type": "markdown",
   "id": "5f1390c1-28ef-4d33-9141-3f57b05c709e",
   "metadata": {},
   "source": [
    "The function *make_pipeline* is from *scikit-learn*. It defines the transforms used with the estimator. The *Vectorizer()* transforms ***X*** into a 2D array (samples by features). The *StandardScaler()* standardize the data by removing the mean and scaling to unit variance."
   ]
  },
  {
   "cell_type": "code",
   "execution_count": 11,
   "id": "9b8beb71-7f3c-4785-99a5-b8196086203c",
   "metadata": {},
   "outputs": [],
   "source": [
    "clf = make_pipeline(Vectorizer(),StandardScaler(),  \n",
    "                   LinearModel(sklearn.svm.SVC(kernel = 'linear')))   "
   ]
  },
  {
   "cell_type": "markdown",
   "id": "19cc2cd5-2dda-45c3-8aa0-d813ad60a362",
   "metadata": {},
   "source": [
    "Finally the estimator must be defined. We here apply the *SlidingEstimator* that uses the features ***X*** and targets ***y*** as input as well as *clf* defining the pipeline. The aim is to discriminate the experimental conditions as functions of time; i.e. at which time points can we tell left from right attention?"
   ]
  },
  {
   "cell_type": "code",
   "execution_count": 12,
   "id": "cd7ea7e8-8d87-48c4-818e-ab962a8e1e16",
   "metadata": {},
   "outputs": [],
   "source": [
    "time_decod = SlidingEstimator(clf, n_jobs=-1, scoring='roc_auc', verbose=True)"
   ]
  },
  {
   "cell_type": "markdown",
   "id": "35554d0a-f1e6-41a4-97f2-bf225436d3c8",
   "metadata": {},
   "source": [
    "## Performing the Classification\n",
    "\n",
    "The classification will be performed timepoint by timepoint using a SVM by training on 80% of the trials on test on 20% in 5 runs. This results in a 5-fold cross-validation (cv=5). The output will be reported as Area Under the Curve (AUC).\n"
   ]
  },
  {
   "cell_type": "code",
   "execution_count": 13,
   "id": "7fe1e710-425d-4630-8865-50c8d2f9e80d",
   "metadata": {},
   "outputs": [
    {
     "name": "stderr",
     "output_type": "stream",
     "text": [
      "[Parallel(n_jobs=-1)]: Using backend LokyBackend with 16 concurrent workers.\n",
      "[Parallel(n_jobs=-1)]: Done   3 out of  10 | elapsed:   55.9s remaining:  2.2min\n",
      "[Parallel(n_jobs=-1)]: Done   6 out of  10 | elapsed:  1.1min remaining:   45.0s\n",
      "[Parallel(n_jobs=-1)]: Done  10 out of  10 | elapsed:  1.3min finished\n"
     ]
    }
   ],
   "source": [
    "scores = cross_val_multiscore(time_decod, X, y, cv=10, n_jobs=-1)"
   ]
  },
  {
   "cell_type": "markdown",
   "id": "8146a025-b24f-4531-9164-af65b424b74b",
   "metadata": {},
   "source": [
    "## Plotting the Results\n",
    "\n",
    "In order to plot the results,average over scores and plot"
   ]
  },
  {
   "cell_type": "code",
   "execution_count": 14,
   "id": "af6d1335-5709-459f-90d8-5480c979e8fe",
   "metadata": {},
   "outputs": [],
   "source": [
    "scores = np.mean(scores, axis=0)"
   ]
  },
  {
   "cell_type": "code",
   "execution_count": 16,
   "id": "b5c50210-f110-4dfd-8f29-7010afe7bae8",
   "metadata": {},
   "outputs": [
    {
     "data": {
      "text/plain": [
       "Text(0.5, 1.0, 'Sensor space decoding OPM data')"
      ]
     },
     "execution_count": 16,
     "metadata": {},
     "output_type": "execute_result"
    },
    {
     "data": {
      "image/png": "[encoded data removed]",
      "text/plain": [
       "<Figure size 640x480 with 1 Axes>"
      ]
     },
     "metadata": {},
     "output_type": "display_data"
    }
   ],
   "source": [
    "fig, ax = plt.subplots()\n",
    "plt.ylim([0.35, 0.80])\n",
    "ax.plot(epochs_rs.times, scores, label='score')\n",
    "ax.axhline(.5, color='k', linestyle='--', label='chance')\n",
    "ax.set_xlabel('Times')\n",
    "ax.set_ylabel('AUC')  # Area Under the Curve\n",
    "ax.legend()\n",
    "ax.axvline(.0, color='k', linestyle='-')\n",
    "ax.set_title('Sensor space decoding OPM data')"
   ]
  },
  {
   "cell_type": "markdown",
   "id": "c5b3ee8c-faf5-4951-a39e-0ce58fc4b3d6",
   "metadata": {},
   "source": [
    "#### The plots show the accuracy (AUC) of the classification as a function of time. The best classiciation is obtained ~400 ms after the target onset and is about 0.7."
   ]
  },
  {
   "cell_type": "markdown",
   "id": "b2f69bf5-3115-4a53-a4dd-a757cb90cdb8",
   "metadata": {},
   "source": [
    "## Preregistration and publications\n",
    "\n",
    "Publication, example:\n",
    "\n",
    "\"A multi-variate pattern analysis was applied to the OPM-MEG data to classify whether the participants attended left or right. The data were bandpass filtered between 1-45 Hz and then downsampled to 250 Hz. The time-points in the interval -0.1 to 0.5 s around the target onset was considered. The data were standardized by removing the mean and scaling to unit variance per sensor. A support vector machine (*Cortes and Vapnik, 1995*) from Scikit-learn (https://scikit-learn.org/) was applied to classify the data as a function of time. A 10-fold cross-validation procedure was used and the classification rate was reported as Area Under the Curve.\""
   ]
  },
  {
   "cell_type": "markdown",
   "id": "558776d0-e02b-4064-8d1f-1e0ed87a2ca6",
   "metadata": {},
   "source": [
    "## References\n",
    "\n",
    "- Cichy, R. M., Pantazis, D., & Oliva, A. (2014). Resolving human object recognition in space and time. *Nature Neuroscience*, 17(3), 455–462. https://doi.org/10.1038/nn.3635\n",
    "\n",
    "- Cortes, C., & Vapnik, V. (1995). Support-vector networks. *Machine Learning*, 20, 273–297.\n",
    "\n",
    "- Stokes, M. G., Wolff, M. J., & Spaak, E. (2015). Decoding rich spatial information with high temporal resolution. *Trends in Cognitive Sciences*, 19(11), 636–638. https://doi.org/10.1016/j.tics.2015.08.016\n",
    "\n",
    "- Duda, R. O., & Hart, P. E. (2006). *Pattern Classification* (2nd ed.). John Wiley & Sons.\n",
    "\n"
   ]
  }
 ],
 "metadata": {
  "kernelspec": {
   "display_name": "Python 3 (ipykernel)",
   "language": "python",
   "name": "python3"
  },
  "language_info": {
   "codemirror_mode": {
    "name": "ipython",
    "version": 3
   },
   "file_extension": ".py",
   "mimetype": "text/x-python",
   "name": "python",
   "nbconvert_exporter": "python",
   "pygments_lexer": "ipython3",
   "version": "3.12.7"
  }
 },
 "nbformat": 4,
 "nbformat_minor": 5
}
